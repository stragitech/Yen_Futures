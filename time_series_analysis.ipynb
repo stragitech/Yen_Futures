{
 "cells": [
  {
   "cell_type": "code",
   "execution_count": 1,
   "metadata": {},
   "outputs": [],
   "source": [
    "import datetime as dt\n",
    "import pandas as pd\n",
    "import numpy as np\n",
    "import datetime as dt\n",
    "import matplotlib.pyplot as plt\n",
    "import quandl as ql\n",
    "import statsmodels.formula.api as smf\n",
    "pd.set_option('display.float_format', lambda x: '%.9f' % x)\n",
    "import warnings\n",
    "warnings.filterwarnings('ignore')\n",
    "%matplotlib inline\n",
    "import os\n",
    "ql.ApiConfig.api_key = os.getenv('QUANDL_API_KEY')"
   ]
  },
  {
   "cell_type": "markdown",
   "metadata": {},
   "source": [
    " # Return Forecasting:  Read Historical Daily Yen Futures Data from Quandl\n",
    " In this activity, you will pull historical Dollar-Yen exchange rate futures data from Quandl and test whether there is any predictable behavior using time-series models.\n",
    "\n",
    " * First, you'll need to download the futures data using the Quandl API, and return it as a Pandas DataFrame.\n",
    " * You'll need a Quandl API key (free): https://www.quandl.com/\n",
    " * (Use code \"CHRIS/CME_JY1\")\n",
    " * Trim the resulting data to include only from the the year 1990 through today."
   ]
  },
  {
   "cell_type": "code",
   "execution_count": 2,
   "metadata": {},
   "outputs": [
    {
     "data": {
      "text/html": [
       "<div>\n",
       "<style scoped>\n",
       "    .dataframe tbody tr th:only-of-type {\n",
       "        vertical-align: middle;\n",
       "    }\n",
       "\n",
       "    .dataframe tbody tr th {\n",
       "        vertical-align: top;\n",
       "    }\n",
       "\n",
       "    .dataframe thead th {\n",
       "        text-align: right;\n",
       "    }\n",
       "</style>\n",
       "<table border=\"1\" class=\"dataframe\">\n",
       "  <thead>\n",
       "    <tr style=\"text-align: right;\">\n",
       "      <th></th>\n",
       "      <th>Open</th>\n",
       "      <th>High</th>\n",
       "      <th>Low</th>\n",
       "      <th>Last</th>\n",
       "      <th>Change</th>\n",
       "      <th>Settle</th>\n",
       "      <th>Volume</th>\n",
       "      <th>Previous Day Open Interest</th>\n",
       "    </tr>\n",
       "    <tr>\n",
       "      <th>Date</th>\n",
       "      <th></th>\n",
       "      <th></th>\n",
       "      <th></th>\n",
       "      <th></th>\n",
       "      <th></th>\n",
       "      <th></th>\n",
       "      <th></th>\n",
       "      <th></th>\n",
       "    </tr>\n",
       "  </thead>\n",
       "  <tbody>\n",
       "    <tr>\n",
       "      <th>2019-09-26</th>\n",
       "      <td>9332.500000000</td>\n",
       "      <td>9359.500000000</td>\n",
       "      <td>9312.500000000</td>\n",
       "      <td>9322.000000000</td>\n",
       "      <td>nan</td>\n",
       "      <td>9326.000000000</td>\n",
       "      <td>117487.000000000</td>\n",
       "      <td>140623.000000000</td>\n",
       "    </tr>\n",
       "    <tr>\n",
       "      <th>2019-09-27</th>\n",
       "      <td>9321.500000000</td>\n",
       "      <td>9336.000000000</td>\n",
       "      <td>9290.000000000</td>\n",
       "      <td>9310.000000000</td>\n",
       "      <td>5.500000000</td>\n",
       "      <td>9320.500000000</td>\n",
       "      <td>149754.000000000</td>\n",
       "      <td>137404.000000000</td>\n",
       "    </tr>\n",
       "    <tr>\n",
       "      <th>2019-09-30</th>\n",
       "      <td>9304.500000000</td>\n",
       "      <td>9326.500000000</td>\n",
       "      <td>9289.500000000</td>\n",
       "      <td>9299.000000000</td>\n",
       "      <td>22.500000000</td>\n",
       "      <td>9298.000000000</td>\n",
       "      <td>95326.000000000</td>\n",
       "      <td>143893.000000000</td>\n",
       "    </tr>\n",
       "    <tr>\n",
       "      <th>2019-10-01</th>\n",
       "      <td>9298.500000000</td>\n",
       "      <td>9336.500000000</td>\n",
       "      <td>9264.500000000</td>\n",
       "      <td>9327.500000000</td>\n",
       "      <td>30.500000000</td>\n",
       "      <td>9328.500000000</td>\n",
       "      <td>151138.000000000</td>\n",
       "      <td>145022.000000000</td>\n",
       "    </tr>\n",
       "    <tr>\n",
       "      <th>2019-10-02</th>\n",
       "      <td>9325.000000000</td>\n",
       "      <td>9388.000000000</td>\n",
       "      <td>9313.500000000</td>\n",
       "      <td>9373.500000000</td>\n",
       "      <td>45.000000000</td>\n",
       "      <td>9373.500000000</td>\n",
       "      <td>141562.000000000</td>\n",
       "      <td>147082.000000000</td>\n",
       "    </tr>\n",
       "  </tbody>\n",
       "</table>\n",
       "</div>"
      ],
      "text/plain": [
       "                     Open           High            Low           Last  \\\n",
       "Date                                                                     \n",
       "2019-09-26 9332.500000000 9359.500000000 9312.500000000 9322.000000000   \n",
       "2019-09-27 9321.500000000 9336.000000000 9290.000000000 9310.000000000   \n",
       "2019-09-30 9304.500000000 9326.500000000 9289.500000000 9299.000000000   \n",
       "2019-10-01 9298.500000000 9336.500000000 9264.500000000 9327.500000000   \n",
       "2019-10-02 9325.000000000 9388.000000000 9313.500000000 9373.500000000   \n",
       "\n",
       "                 Change         Settle           Volume  \\\n",
       "Date                                                      \n",
       "2019-09-26          nan 9326.000000000 117487.000000000   \n",
       "2019-09-27  5.500000000 9320.500000000 149754.000000000   \n",
       "2019-09-30 22.500000000 9298.000000000  95326.000000000   \n",
       "2019-10-01 30.500000000 9328.500000000 151138.000000000   \n",
       "2019-10-02 45.000000000 9373.500000000 141562.000000000   \n",
       "\n",
       "            Previous Day Open Interest  \n",
       "Date                                    \n",
       "2019-09-26            140623.000000000  \n",
       "2019-09-27            137404.000000000  \n",
       "2019-09-30            143893.000000000  \n",
       "2019-10-01            145022.000000000  \n",
       "2019-10-02            147082.000000000  "
      ]
     },
     "execution_count": 2,
     "metadata": {},
     "output_type": "execute_result"
    }
   ],
   "source": [
    "# Futures contract on the Yen-dollar exchange rate:\n",
    "# This is the continuous chain of the futures contracts that are 1 month to expiration\n",
    "fut = ql.get(\"CHRIS/CME_JY1\")\n",
    "fut.tail()"
   ]
  },
  {
   "cell_type": "code",
   "execution_count": 3,
   "metadata": {},
   "outputs": [
    {
     "data": {
      "text/html": [
       "<div>\n",
       "<style scoped>\n",
       "    .dataframe tbody tr th:only-of-type {\n",
       "        vertical-align: middle;\n",
       "    }\n",
       "\n",
       "    .dataframe tbody tr th {\n",
       "        vertical-align: top;\n",
       "    }\n",
       "\n",
       "    .dataframe thead th {\n",
       "        text-align: right;\n",
       "    }\n",
       "</style>\n",
       "<table border=\"1\" class=\"dataframe\">\n",
       "  <thead>\n",
       "    <tr style=\"text-align: right;\">\n",
       "      <th></th>\n",
       "      <th>Open</th>\n",
       "      <th>High</th>\n",
       "      <th>Low</th>\n",
       "      <th>Last</th>\n",
       "      <th>Change</th>\n",
       "      <th>Settle</th>\n",
       "      <th>Volume</th>\n",
       "      <th>Previous Day Open Interest</th>\n",
       "    </tr>\n",
       "    <tr>\n",
       "      <th>Date</th>\n",
       "      <th></th>\n",
       "      <th></th>\n",
       "      <th></th>\n",
       "      <th></th>\n",
       "      <th></th>\n",
       "      <th></th>\n",
       "      <th></th>\n",
       "      <th></th>\n",
       "    </tr>\n",
       "  </thead>\n",
       "  <tbody>\n",
       "    <tr>\n",
       "      <th>2019-01-25</th>\n",
       "      <td>9161.000000000</td>\n",
       "      <td>9172.500000000</td>\n",
       "      <td>9130.000000000</td>\n",
       "      <td>9166.000000000</td>\n",
       "      <td>4.000000000</td>\n",
       "      <td>9157.000000000</td>\n",
       "      <td>103022.000000000</td>\n",
       "      <td>202759.000000000</td>\n",
       "    </tr>\n",
       "    <tr>\n",
       "      <th>2019-01-28</th>\n",
       "      <td>9165.500000000</td>\n",
       "      <td>9196.500000000</td>\n",
       "      <td>9162.500000000</td>\n",
       "      <td>9179.000000000</td>\n",
       "      <td>23.000000000</td>\n",
       "      <td>9180.000000000</td>\n",
       "      <td>83352.000000000</td>\n",
       "      <td>205943.000000000</td>\n",
       "    </tr>\n",
       "    <tr>\n",
       "      <th>2019-01-29</th>\n",
       "      <td>9184.000000000</td>\n",
       "      <td>9198.000000000</td>\n",
       "      <td>9162.000000000</td>\n",
       "      <td>9177.000000000</td>\n",
       "      <td>5.500000000</td>\n",
       "      <td>9185.500000000</td>\n",
       "      <td>80095.000000000</td>\n",
       "      <td>204535.000000000</td>\n",
       "    </tr>\n",
       "    <tr>\n",
       "      <th>2019-01-30</th>\n",
       "      <td>9177.000000000</td>\n",
       "      <td>9224.500000000</td>\n",
       "      <td>9145.000000000</td>\n",
       "      <td>9205.000000000</td>\n",
       "      <td>28.000000000</td>\n",
       "      <td>9213.500000000</td>\n",
       "      <td>138558.000000000</td>\n",
       "      <td>202165.000000000</td>\n",
       "    </tr>\n",
       "    <tr>\n",
       "      <th>2019-01-31</th>\n",
       "      <td>9202.000000000</td>\n",
       "      <td>9249.000000000</td>\n",
       "      <td>9201.000000000</td>\n",
       "      <td>9218.000000000</td>\n",
       "      <td>2.000000000</td>\n",
       "      <td>9215.500000000</td>\n",
       "      <td>117693.000000000</td>\n",
       "      <td>197529.000000000</td>\n",
       "    </tr>\n",
       "  </tbody>\n",
       "</table>\n",
       "</div>"
      ],
      "text/plain": [
       "                     Open           High            Low           Last  \\\n",
       "Date                                                                     \n",
       "2019-01-25 9161.000000000 9172.500000000 9130.000000000 9166.000000000   \n",
       "2019-01-28 9165.500000000 9196.500000000 9162.500000000 9179.000000000   \n",
       "2019-01-29 9184.000000000 9198.000000000 9162.000000000 9177.000000000   \n",
       "2019-01-30 9177.000000000 9224.500000000 9145.000000000 9205.000000000   \n",
       "2019-01-31 9202.000000000 9249.000000000 9201.000000000 9218.000000000   \n",
       "\n",
       "                 Change         Settle           Volume  \\\n",
       "Date                                                      \n",
       "2019-01-25  4.000000000 9157.000000000 103022.000000000   \n",
       "2019-01-28 23.000000000 9180.000000000  83352.000000000   \n",
       "2019-01-29  5.500000000 9185.500000000  80095.000000000   \n",
       "2019-01-30 28.000000000 9213.500000000 138558.000000000   \n",
       "2019-01-31  2.000000000 9215.500000000 117693.000000000   \n",
       "\n",
       "            Previous Day Open Interest  \n",
       "Date                                    \n",
       "2019-01-25            202759.000000000  \n",
       "2019-01-28            205943.000000000  \n",
       "2019-01-29            204535.000000000  \n",
       "2019-01-30            202165.000000000  \n",
       "2019-01-31            197529.000000000  "
      ]
     },
     "execution_count": 3,
     "metadata": {},
     "output_type": "execute_result"
    }
   ],
   "source": [
    "# Trim the dataset to begin on January 1st, 1990\n",
    "fut = fut.loc['1990-1-1 01:00:00':'2019-01-31 04:00:00']\n",
    "fut.tail()"
   ]
  },
  {
   "cell_type": "markdown",
   "metadata": {},
   "source": [
    " # Return Forecasting: Initial Time-Series Plotting"
   ]
  },
  {
   "cell_type": "markdown",
   "metadata": {},
   "source": [
    " Start by plotting the \"Settle\" price. Do you see any patterns, long-term and/or short?"
   ]
  },
  {
   "cell_type": "code",
   "execution_count": 4,
   "metadata": {},
   "outputs": [
    {
     "data": {
      "text/plain": [
       "<matplotlib.axes._subplots.AxesSubplot at 0x2363b1b8048>"
      ]
     },
     "execution_count": 4,
     "metadata": {},
     "output_type": "execute_result"
    },
    {
     "data": {
      "image/png": "[encoded data removed]",
      "text/plain": [
       "<Figure size 432x288 with 1 Axes>"
      ]
     },
     "metadata": {
      "needs_background": "light"
     },
     "output_type": "display_data"
    }
   ],
   "source": [
    "# Plot just the \"Settle\" column from the dataframe:\n",
    "fut.loc[:, fut.columns.str.contains('Settle')].plot()"
   ]
  },
  {
   "cell_type": "markdown",
   "metadata": {},
   "source": [
    " # Return Forecasting: MA/EWMA Smoothing of Futures Prices"
   ]
  },
  {
   "cell_type": "markdown",
   "metadata": {},
   "source": [
    " 1. Plot the Settle Price, along with a moving average of 15 and 60 days. Use indexing to just plot the data from 2015 onward.\n",
    " 2. What do you see now, in terms of short versus long-term trends?\n",
    " 3. Try an exponential moving average, with a half life of 15 days.\n",
    " 4. Which seems to respond faster, an exponential moving average with a half life of 15 days, or a moving average of 15 days?\n",
    "\n",
    " (15 days = 3 weeks)\n",
    " (60 days = 3 months)"
   ]
  },
  {
   "cell_type": "code",
   "execution_count": 5,
   "metadata": {},
   "outputs": [
    {
     "data": {
      "text/plain": [
       "<matplotlib.axes._subplots.AxesSubplot at 0x2363b08c4a8>"
      ]
     },
     "execution_count": 5,
     "metadata": {},
     "output_type": "execute_result"
    },
    {
     "data": {
      "image/png": "[encoded data removed]",
      "text/plain": [
       "<Figure size 1008x360 with 1 Axes>"
      ]
     },
     "metadata": {
      "needs_background": "light"
     },
     "output_type": "display_data"
    }
   ],
   "source": [
    "###### Moving averages and exponentially weighted moving averages \n",
    "# Create a dataframe using just the \"Settle\" price\n",
    "df=fut[[\"Settle\"]].copy()\n",
    "\n",
    "# Add in columns for moving average windows of 15 and 60 days, and a column for an EWMA window of 15 days\n",
    "df['15MA']=df.Settle.rolling(window=15).mean()\n",
    "df['60MA']=df.Settle.rolling(window=60).mean()\n",
    "df['15EWM']=df.Settle.ewm(halflife=15).mean()\n",
    "\n",
    "# Plot the settle price and moving average/ewma columns all in one plot from 2015:\n",
    "df[\"2015\":].plot(figsize=(14,5))"
   ]
  },
  {
   "cell_type": "markdown",
   "metadata": {},
   "source": [
    "# Return Forecasting: Decomposition Using a Hodrick-Prescott Filter"
   ]
  },
  {
   "cell_type": "markdown",
   "metadata": {},
   "source": [
    " Using a Hodrick-Prescott Filter, decompose the Settle price into a trend and noise."
   ]
  },
  {
   "cell_type": "code",
   "execution_count": 6,
   "metadata": {},
   "outputs": [],
   "source": [
    "df=df.drop(columns=['15MA', '60MA', '15EWM'])"
   ]
  },
  {
   "cell_type": "code",
   "execution_count": 7,
   "metadata": {},
   "outputs": [
    {
     "data": {
      "text/html": [
       "<div>\n",
       "<style scoped>\n",
       "    .dataframe tbody tr th:only-of-type {\n",
       "        vertical-align: middle;\n",
       "    }\n",
       "\n",
       "    .dataframe tbody tr th {\n",
       "        vertical-align: top;\n",
       "    }\n",
       "\n",
       "    .dataframe thead th {\n",
       "        text-align: right;\n",
       "    }\n",
       "</style>\n",
       "<table border=\"1\" class=\"dataframe\">\n",
       "  <thead>\n",
       "    <tr style=\"text-align: right;\">\n",
       "      <th></th>\n",
       "      <th>Settle</th>\n",
       "    </tr>\n",
       "    <tr>\n",
       "      <th>Date</th>\n",
       "      <th></th>\n",
       "    </tr>\n",
       "  </thead>\n",
       "  <tbody>\n",
       "    <tr>\n",
       "      <th>1990-01-02</th>\n",
       "      <td>6847.000000000</td>\n",
       "    </tr>\n",
       "    <tr>\n",
       "      <th>1990-01-03</th>\n",
       "      <td>6887.000000000</td>\n",
       "    </tr>\n",
       "    <tr>\n",
       "      <th>1990-01-04</th>\n",
       "      <td>7008.000000000</td>\n",
       "    </tr>\n",
       "    <tr>\n",
       "      <th>1990-01-05</th>\n",
       "      <td>6950.000000000</td>\n",
       "    </tr>\n",
       "    <tr>\n",
       "      <th>1990-01-08</th>\n",
       "      <td>6959.000000000</td>\n",
       "    </tr>\n",
       "  </tbody>\n",
       "</table>\n",
       "</div>"
      ],
      "text/plain": [
       "                   Settle\n",
       "Date                     \n",
       "1990-01-02 6847.000000000\n",
       "1990-01-03 6887.000000000\n",
       "1990-01-04 7008.000000000\n",
       "1990-01-05 6950.000000000\n",
       "1990-01-08 6959.000000000"
      ]
     },
     "execution_count": 7,
     "metadata": {},
     "output_type": "execute_result"
    }
   ],
   "source": [
    "df.head()"
   ]
  },
  {
   "cell_type": "code",
   "execution_count": 8,
   "metadata": {},
   "outputs": [],
   "source": [
    "import statsmodels.api as sm\n",
    "# Apply the Hodrick-Prescott Filter by decomposing the \"Settle\" price into two separate series:\n",
    "ts_noise, ts_trend =  sm.tsa.filters.hpfilter(df.Settle)\n"
   ]
  },
  {
   "cell_type": "code",
   "execution_count": 9,
   "metadata": {},
   "outputs": [
    {
     "data": {
      "text/plain": [
       "<matplotlib.axes._subplots.AxesSubplot at 0x21eac957a20>"
      ]
     },
     "execution_count": 9,
     "metadata": {},
     "output_type": "execute_result"
    },
    {
     "data": {
      "image/png": "[encoded data removed]",
      "text/plain": [
       "<Figure size 432x288 with 1 Axes>"
      ]
     },
     "metadata": {
      "needs_background": "light"
     },
     "output_type": "display_data"
    },
    {
     "data": {
      "image/png": "[encoded data removed]",
      "text/plain": [
       "<Figure size 432x288 with 1 Axes>"
      ]
     },
     "metadata": {
      "needs_background": "light"
     },
     "output_type": "display_data"
    }
   ],
   "source": [
    "# Create a dataframe of just the settle price, and add in the \"noise\" and \"trend\" series from above:\n",
    "futures_decomp = pd.DataFrame(df['Settle'])\n",
    "futures_decomp[\"noise\"] = ts_noise\n",
    "futures_decomp[\"trend\"] = ts_trend\n",
    "futures_decomp = futures_decomp['2015']\n",
    "\n",
    "# Plot the \"Settle\" and \"Trend\" price \n",
    "futures_decomp[['Settle','trend']].plot()\n",
    "\n",
    "# Then plot the \"noise\" separately\n",
    "futures_decomp[['noise']].plot()"
   ]
  },
  {
   "cell_type": "markdown",
   "metadata": {},
   "source": [
    " # Return Forecasting: Seasonal Effects with Sklearn Linear Regression\n",
    " Using the full dataset, use a SKLearn linear regression to predict Yen futures (\"settle\") returns with *lagged* Yen futures returns and categorical calendar seasonal effects (e.g., day-of-week or week-of-year seasonal effects).\n"
   ]
  },
  {
   "cell_type": "code",
   "execution_count": 10,
   "metadata": {},
   "outputs": [
    {
     "data": {
      "text/html": [
       "<div>\n",
       "<style scoped>\n",
       "    .dataframe tbody tr th:only-of-type {\n",
       "        vertical-align: middle;\n",
       "    }\n",
       "\n",
       "    .dataframe tbody tr th {\n",
       "        vertical-align: top;\n",
       "    }\n",
       "\n",
       "    .dataframe thead th {\n",
       "        text-align: right;\n",
       "    }\n",
       "</style>\n",
       "<table border=\"1\" class=\"dataframe\">\n",
       "  <thead>\n",
       "    <tr style=\"text-align: right;\">\n",
       "      <th></th>\n",
       "      <th>Open</th>\n",
       "      <th>High</th>\n",
       "      <th>Low</th>\n",
       "      <th>Last</th>\n",
       "      <th>Change</th>\n",
       "      <th>Settle</th>\n",
       "      <th>Volume</th>\n",
       "      <th>Previous Day Open Interest</th>\n",
       "    </tr>\n",
       "    <tr>\n",
       "      <th>Date</th>\n",
       "      <th></th>\n",
       "      <th></th>\n",
       "      <th></th>\n",
       "      <th></th>\n",
       "      <th></th>\n",
       "      <th></th>\n",
       "      <th></th>\n",
       "      <th></th>\n",
       "    </tr>\n",
       "  </thead>\n",
       "  <tbody>\n",
       "    <tr>\n",
       "      <th>1990-01-02</th>\n",
       "      <td>6954.000000000</td>\n",
       "      <td>6954.000000000</td>\n",
       "      <td>6835.000000000</td>\n",
       "      <td>6847.000000000</td>\n",
       "      <td>nan</td>\n",
       "      <td>6847.000000000</td>\n",
       "      <td>48336.000000000</td>\n",
       "      <td>51473.000000000</td>\n",
       "    </tr>\n",
       "    <tr>\n",
       "      <th>1990-01-03</th>\n",
       "      <td>6877.000000000</td>\n",
       "      <td>6910.000000000</td>\n",
       "      <td>6865.000000000</td>\n",
       "      <td>6887.000000000</td>\n",
       "      <td>nan</td>\n",
       "      <td>6887.000000000</td>\n",
       "      <td>38206.000000000</td>\n",
       "      <td>53860.000000000</td>\n",
       "    </tr>\n",
       "    <tr>\n",
       "      <th>1990-01-04</th>\n",
       "      <td>6937.000000000</td>\n",
       "      <td>7030.000000000</td>\n",
       "      <td>6924.000000000</td>\n",
       "      <td>7008.000000000</td>\n",
       "      <td>nan</td>\n",
       "      <td>7008.000000000</td>\n",
       "      <td>49649.000000000</td>\n",
       "      <td>55699.000000000</td>\n",
       "    </tr>\n",
       "    <tr>\n",
       "      <th>1990-01-05</th>\n",
       "      <td>6952.000000000</td>\n",
       "      <td>6985.000000000</td>\n",
       "      <td>6942.000000000</td>\n",
       "      <td>6950.000000000</td>\n",
       "      <td>nan</td>\n",
       "      <td>6950.000000000</td>\n",
       "      <td>29944.000000000</td>\n",
       "      <td>53111.000000000</td>\n",
       "    </tr>\n",
       "    <tr>\n",
       "      <th>1990-01-08</th>\n",
       "      <td>6936.000000000</td>\n",
       "      <td>6972.000000000</td>\n",
       "      <td>6936.000000000</td>\n",
       "      <td>6959.000000000</td>\n",
       "      <td>nan</td>\n",
       "      <td>6959.000000000</td>\n",
       "      <td>19763.000000000</td>\n",
       "      <td>52072.000000000</td>\n",
       "    </tr>\n",
       "  </tbody>\n",
       "</table>\n",
       "</div>"
      ],
      "text/plain": [
       "                     Open           High            Low           Last  \\\n",
       "Date                                                                     \n",
       "1990-01-02 6954.000000000 6954.000000000 6835.000000000 6847.000000000   \n",
       "1990-01-03 6877.000000000 6910.000000000 6865.000000000 6887.000000000   \n",
       "1990-01-04 6937.000000000 7030.000000000 6924.000000000 7008.000000000   \n",
       "1990-01-05 6952.000000000 6985.000000000 6942.000000000 6950.000000000   \n",
       "1990-01-08 6936.000000000 6972.000000000 6936.000000000 6959.000000000   \n",
       "\n",
       "            Change         Settle          Volume  Previous Day Open Interest  \n",
       "Date                                                                           \n",
       "1990-01-02     nan 6847.000000000 48336.000000000             51473.000000000  \n",
       "1990-01-03     nan 6887.000000000 38206.000000000             53860.000000000  \n",
       "1990-01-04     nan 7008.000000000 49649.000000000             55699.000000000  \n",
       "1990-01-05     nan 6950.000000000 29944.000000000             53111.000000000  \n",
       "1990-01-08     nan 6959.000000000 19763.000000000             52072.000000000  "
      ]
     },
     "execution_count": 10,
     "metadata": {},
     "output_type": "execute_result"
    }
   ],
   "source": [
    "#Use the dataframe containing \"Settle\" Prices:\n",
    "fut.head()"
   ]
  },
  {
   "cell_type": "code",
   "execution_count": 11,
   "metadata": {},
   "outputs": [],
   "source": [
    "from sklearn.linear_model import LinearRegression\n",
    "\n",
    "# Construct a \"Futures Return\" column, using pandas pct_change() on the \"Settle\" price \n",
    "# If will be easier to also multiply this by 100, both to read and when we use it with SKLearn:\n",
    "fut[\"Futures Return\"] = fut[\"Settle\"].copy().pct_change()*100\n",
    "\n",
    "# Feature Engineering\n",
    "# Create a second \"Lagged Return\" variable, that is the futures return variable shifted above, but lagged 1 day:\n",
    "# We\"ll use this lagged return as the feature vector X:\n",
    "fut[\"Lagged_Return\"] = fut.Settle.shift()\n",
    "\n",
    "fut = fut.replace(-np.inf, np.nan).dropna()\n",
    "\n",
    "# Construct a new \"X\" dataframe using just the \"Lagged Return\" variable:\n",
    "X = fut[\"Lagged_Return\"].to_frame()"
   ]
  },
  {
   "cell_type": "code",
   "execution_count": 12,
   "metadata": {},
   "outputs": [
    {
     "data": {
      "text/html": [
       "<div>\n",
       "<style scoped>\n",
       "    .dataframe tbody tr th:only-of-type {\n",
       "        vertical-align: middle;\n",
       "    }\n",
       "\n",
       "    .dataframe tbody tr th {\n",
       "        vertical-align: top;\n",
       "    }\n",
       "\n",
       "    .dataframe thead th {\n",
       "        text-align: right;\n",
       "    }\n",
       "</style>\n",
       "<table border=\"1\" class=\"dataframe\">\n",
       "  <thead>\n",
       "    <tr style=\"text-align: right;\">\n",
       "      <th></th>\n",
       "      <th>Open</th>\n",
       "      <th>High</th>\n",
       "      <th>Low</th>\n",
       "      <th>Last</th>\n",
       "      <th>Change</th>\n",
       "      <th>Settle</th>\n",
       "      <th>Volume</th>\n",
       "      <th>Previous Day Open Interest</th>\n",
       "      <th>Futures Return</th>\n",
       "      <th>Lagged_Return</th>\n",
       "    </tr>\n",
       "    <tr>\n",
       "      <th>Date</th>\n",
       "      <th></th>\n",
       "      <th></th>\n",
       "      <th></th>\n",
       "      <th></th>\n",
       "      <th></th>\n",
       "      <th></th>\n",
       "      <th></th>\n",
       "      <th></th>\n",
       "      <th></th>\n",
       "      <th></th>\n",
       "    </tr>\n",
       "  </thead>\n",
       "  <tbody>\n",
       "    <tr>\n",
       "      <th>2014-02-18</th>\n",
       "      <td>9831.000000000</td>\n",
       "      <td>9865.000000000</td>\n",
       "      <td>9734.000000000</td>\n",
       "      <td>9775.000000000</td>\n",
       "      <td>42.000000000</td>\n",
       "      <td>9775.000000000</td>\n",
       "      <td>203495.000000000</td>\n",
       "      <td>196924.000000000</td>\n",
       "      <td>-0.427829276</td>\n",
       "      <td>9817.000000000</td>\n",
       "    </tr>\n",
       "    <tr>\n",
       "      <th>2014-02-19</th>\n",
       "      <td>9768.000000000</td>\n",
       "      <td>9825.000000000</td>\n",
       "      <td>9760.000000000</td>\n",
       "      <td>9773.000000000</td>\n",
       "      <td>2.000000000</td>\n",
       "      <td>9773.000000000</td>\n",
       "      <td>129508.000000000</td>\n",
       "      <td>197197.000000000</td>\n",
       "      <td>-0.020460358</td>\n",
       "      <td>9775.000000000</td>\n",
       "    </tr>\n",
       "    <tr>\n",
       "      <th>2014-02-20</th>\n",
       "      <td>9774.000000000</td>\n",
       "      <td>9837.000000000</td>\n",
       "      <td>9765.000000000</td>\n",
       "      <td>9775.000000000</td>\n",
       "      <td>2.000000000</td>\n",
       "      <td>9775.000000000</td>\n",
       "      <td>160202.000000000</td>\n",
       "      <td>198280.000000000</td>\n",
       "      <td>0.020464545</td>\n",
       "      <td>9773.000000000</td>\n",
       "    </tr>\n",
       "    <tr>\n",
       "      <th>2014-02-21</th>\n",
       "      <td>9772.000000000</td>\n",
       "      <td>9776.000000000</td>\n",
       "      <td>9725.000000000</td>\n",
       "      <td>9758.000000000</td>\n",
       "      <td>20.000000000</td>\n",
       "      <td>9755.000000000</td>\n",
       "      <td>103091.000000000</td>\n",
       "      <td>202990.000000000</td>\n",
       "      <td>-0.204603581</td>\n",
       "      <td>9775.000000000</td>\n",
       "    </tr>\n",
       "    <tr>\n",
       "      <th>2014-02-24</th>\n",
       "      <td>9752.000000000</td>\n",
       "      <td>9789.000000000</td>\n",
       "      <td>9740.000000000</td>\n",
       "      <td>9757.000000000</td>\n",
       "      <td>2.000000000</td>\n",
       "      <td>9757.000000000</td>\n",
       "      <td>90654.000000000</td>\n",
       "      <td>203114.000000000</td>\n",
       "      <td>0.020502307</td>\n",
       "      <td>9755.000000000</td>\n",
       "    </tr>\n",
       "  </tbody>\n",
       "</table>\n",
       "</div>"
      ],
      "text/plain": [
       "                     Open           High            Low           Last  \\\n",
       "Date                                                                     \n",
       "2014-02-18 9831.000000000 9865.000000000 9734.000000000 9775.000000000   \n",
       "2014-02-19 9768.000000000 9825.000000000 9760.000000000 9773.000000000   \n",
       "2014-02-20 9774.000000000 9837.000000000 9765.000000000 9775.000000000   \n",
       "2014-02-21 9772.000000000 9776.000000000 9725.000000000 9758.000000000   \n",
       "2014-02-24 9752.000000000 9789.000000000 9740.000000000 9757.000000000   \n",
       "\n",
       "                 Change         Settle           Volume  \\\n",
       "Date                                                      \n",
       "2014-02-18 42.000000000 9775.000000000 203495.000000000   \n",
       "2014-02-19  2.000000000 9773.000000000 129508.000000000   \n",
       "2014-02-20  2.000000000 9775.000000000 160202.000000000   \n",
       "2014-02-21 20.000000000 9755.000000000 103091.000000000   \n",
       "2014-02-24  2.000000000 9757.000000000  90654.000000000   \n",
       "\n",
       "            Previous Day Open Interest  Futures Return  Lagged_Return  \n",
       "Date                                                                   \n",
       "2014-02-18            196924.000000000    -0.427829276 9817.000000000  \n",
       "2014-02-19            197197.000000000    -0.020460358 9775.000000000  \n",
       "2014-02-20            198280.000000000     0.020464545 9773.000000000  \n",
       "2014-02-21            202990.000000000    -0.204603581 9775.000000000  \n",
       "2014-02-24            203114.000000000     0.020502307 9755.000000000  "
      ]
     },
     "execution_count": 12,
     "metadata": {},
     "output_type": "execute_result"
    }
   ],
   "source": [
    "fut.head()"
   ]
  },
  {
   "cell_type": "code",
   "execution_count": 15,
   "metadata": {},
   "outputs": [
    {
     "data": {
      "text/html": [
       "<div>\n",
       "<style scoped>\n",
       "    .dataframe tbody tr th:only-of-type {\n",
       "        vertical-align: middle;\n",
       "    }\n",
       "\n",
       "    .dataframe tbody tr th {\n",
       "        vertical-align: top;\n",
       "    }\n",
       "\n",
       "    .dataframe thead th {\n",
       "        text-align: right;\n",
       "    }\n",
       "</style>\n",
       "<table border=\"1\" class=\"dataframe\">\n",
       "  <thead>\n",
       "    <tr style=\"text-align: right;\">\n",
       "      <th></th>\n",
       "      <th>Lagged_Return</th>\n",
       "      <th>Week of Year</th>\n",
       "    </tr>\n",
       "    <tr>\n",
       "      <th>Date</th>\n",
       "      <th></th>\n",
       "      <th></th>\n",
       "    </tr>\n",
       "  </thead>\n",
       "  <tbody>\n",
       "    <tr>\n",
       "      <th>2014-02-18</th>\n",
       "      <td>9817.000000000</td>\n",
       "      <td>8</td>\n",
       "    </tr>\n",
       "    <tr>\n",
       "      <th>2014-02-19</th>\n",
       "      <td>9775.000000000</td>\n",
       "      <td>8</td>\n",
       "    </tr>\n",
       "    <tr>\n",
       "      <th>2014-02-20</th>\n",
       "      <td>9773.000000000</td>\n",
       "      <td>8</td>\n",
       "    </tr>\n",
       "    <tr>\n",
       "      <th>2014-02-21</th>\n",
       "      <td>9775.000000000</td>\n",
       "      <td>8</td>\n",
       "    </tr>\n",
       "    <tr>\n",
       "      <th>2014-02-24</th>\n",
       "      <td>9755.000000000</td>\n",
       "      <td>9</td>\n",
       "    </tr>\n",
       "  </tbody>\n",
       "</table>\n",
       "</div>"
      ],
      "text/plain": [
       "            Lagged_Return  Week of Year\n",
       "Date                                   \n",
       "2014-02-18 9817.000000000             8\n",
       "2014-02-19 9775.000000000             8\n",
       "2014-02-20 9773.000000000             8\n",
       "2014-02-21 9775.000000000             8\n",
       "2014-02-24 9755.000000000             9"
      ]
     },
     "execution_count": 15,
     "metadata": {},
     "output_type": "execute_result"
    }
   ],
   "source": [
    "# Add into the X dataframe either a \"dayofweek\" or \"weekofyear\" column, (e.g., using X.index.weekofyear) \n",
    "X[\"Week of Year\"] = X.index.weekofyear\n",
    "\n",
    "# Create a new categorical X dataframe, by using pd.get_dummies() on the seasonal column created just above:\n",
    "X_binary_encoded = pd.get_dummies(X)\n",
    "X_binary_encoded.head()"
   ]
  },
  {
   "cell_type": "code",
   "execution_count": 14,
   "metadata": {},
   "outputs": [],
   "source": [
    "# Create a \"y\" series, using just the \"Futures Return\" column created above.\n",
    "y = fut[\"Futures Return\"].copy()\n",
    "\n",
    "# Construct a \"LinearRegression\" object:\n",
    "model = LinearRegression()\n",
    "\n",
    "# Fit a model using the X and y objects:\n",
    "results = model.fit(X, y)"
   ]
  },
  {
   "cell_type": "code",
   "execution_count": 15,
   "metadata": {},
   "outputs": [
    {
     "data": {
      "text/plain": [
       "array([-0.00164429,  0.00138878,  0.00153321, ...,  0.05420382,\n",
       "        0.05380664,  0.05178459])"
      ]
     },
     "execution_count": 15,
     "metadata": {},
     "output_type": "execute_result"
    }
   ],
   "source": [
    "# Construct predictions based on the X object:\n",
    "predictions = model.predict(X) \n",
    "predictions"
   ]
  },
  {
   "cell_type": "markdown",
   "metadata": {},
   "source": [
    " Summarize the quality of your model using R2 and root-mean-squared-error (RMSE) statistics. How good is it?"
   ]
  },
  {
   "cell_type": "code",
   "execution_count": 12,
   "metadata": {},
   "outputs": [
    {
     "name": "stdout",
     "output_type": "stream",
     "text": [
      "Mean Squared Error (MSE): 0.2870360934029217\n",
      "R-squared (R2 ): 0.052226142402227005\n",
      "Root Mean Squared Error (RMSE): 0.5357574949573003\n",
      "Standard Deviation of Futures Return: 0.5505252976211215\n"
     ]
    }
   ],
   "source": [
    "from sklearn.metrics import mean_squared_error, r2_score\n",
    "# Calculate r2_score (r-squared)\n",
    "r2 = # YOUR CODE HERE \n",
    "\n",
    "# Calculate mean squared error \n",
    "# (A \"good\" MSE score will be close to zero while a \"good\" R2 Score will be close to 1.)\n",
    "mse = # YOUR CODE HERE \n",
    "\n",
    "# Using mean squared eror above, calculate root-mean-squared error (RMSE)\n",
    "rmse = # YOUR CODE HERE \n",
    "\n",
    "print(f\"Mean Squared Error (MSE): {mse}\")\n",
    "print(f\"R-squared (R2 ): {r2}\")\n",
    "print(f\"Root Mean Squared Error (RMSE): {rmse}\")\n",
    "print(f\"Standard Deviation of Futures Return: {y.std()}\")"
   ]
  },
  {
   "cell_type": "markdown",
   "metadata": {},
   "source": [
    " #### Plotting and Independent (X) Variable Interpretation"
   ]
  },
  {
   "cell_type": "markdown",
   "metadata": {},
   "source": [
    " Plot the model predictions of returns against actual returns, for just data from 2018 onward."
   ]
  },
  {
   "cell_type": "code",
   "execution_count": 13,
   "metadata": {},
   "outputs": [
    {
     "data": {
      "text/html": [
       "<div>\n",
       "<style scoped>\n",
       "    .dataframe tbody tr th:only-of-type {\n",
       "        vertical-align: middle;\n",
       "    }\n",
       "\n",
       "    .dataframe tbody tr th {\n",
       "        vertical-align: top;\n",
       "    }\n",
       "\n",
       "    .dataframe thead th {\n",
       "        text-align: right;\n",
       "    }\n",
       "</style>\n",
       "<table border=\"1\" class=\"dataframe\">\n",
       "  <thead>\n",
       "    <tr style=\"text-align: right;\">\n",
       "      <th></th>\n",
       "      <th>Futures Return</th>\n",
       "      <th>prediction</th>\n",
       "    </tr>\n",
       "    <tr>\n",
       "      <th>Date</th>\n",
       "      <th></th>\n",
       "      <th></th>\n",
       "    </tr>\n",
       "  </thead>\n",
       "  <tbody>\n",
       "    <tr>\n",
       "      <th>2014-02-18</th>\n",
       "      <td>-0.427829276</td>\n",
       "      <td>-0.092510599</td>\n",
       "    </tr>\n",
       "    <tr>\n",
       "      <th>2014-02-19</th>\n",
       "      <td>-0.020460358</td>\n",
       "      <td>-0.055051757</td>\n",
       "    </tr>\n",
       "    <tr>\n",
       "      <th>2014-02-20</th>\n",
       "      <td>0.020464545</td>\n",
       "      <td>-0.073284051</td>\n",
       "    </tr>\n",
       "    <tr>\n",
       "      <th>2014-02-21</th>\n",
       "      <td>-0.204603581</td>\n",
       "      <td>-0.075115695</td>\n",
       "    </tr>\n",
       "    <tr>\n",
       "      <th>2014-02-24</th>\n",
       "      <td>0.020502307</td>\n",
       "      <td>-0.066631084</td>\n",
       "    </tr>\n",
       "  </tbody>\n",
       "</table>\n",
       "</div>"
      ],
      "text/plain": [
       "            Futures Return   prediction\n",
       "Date                                   \n",
       "2014-02-18    -0.427829276 -0.092510599\n",
       "2014-02-19    -0.020460358 -0.055051757\n",
       "2014-02-20     0.020464545 -0.073284051\n",
       "2014-02-21    -0.204603581 -0.075115695\n",
       "2014-02-24     0.020502307 -0.066631084"
      ]
     },
     "execution_count": 13,
     "metadata": {},
     "output_type": "execute_result"
    }
   ],
   "source": [
    "# Create a \"y\" dataframe, using just the \"Futures Return\" column created above. \n",
    "y_df = y.to_frame()\n",
    "\n",
    "# Add the model predictions from above as an additional column to that dataframe:\n",
    "y_df[\"prediction\"] = # YOUR CODE HERE \n",
    "y_df.head()"
   ]
  },
  {
   "cell_type": "code",
   "execution_count": 14,
   "metadata": {},
   "outputs": [
    {
     "data": {
      "text/plain": [
       "<matplotlib.axes._subplots.AxesSubplot at 0x7f8d205f24e0>"
      ]
     },
     "execution_count": 14,
     "metadata": {},
     "output_type": "execute_result"
    },
    {
     "data": {
      "image/png": "[encoded data removed]",
      "text/plain": [
       "<Figure size 720x360 with 1 Axes>"
      ]
     },
     "metadata": {
      "needs_background": "light"
     },
     "output_type": "display_data"
    }
   ],
   "source": [
    "# Plot the two from 2018 onward\n",
    "# YOUR CODE HERE "
   ]
  },
  {
   "cell_type": "markdown",
   "metadata": {},
   "source": [
    " Separately, plot the calendar effects estimated from the model using matplotlib. Do you see any seasonal patterns?"
   ]
  },
  {
   "cell_type": "code",
   "execution_count": 15,
   "metadata": {},
   "outputs": [
    {
     "data": {
      "text/html": [
       "<div>\n",
       "<style scoped>\n",
       "    .dataframe tbody tr th:only-of-type {\n",
       "        vertical-align: middle;\n",
       "    }\n",
       "\n",
       "    .dataframe tbody tr th {\n",
       "        vertical-align: top;\n",
       "    }\n",
       "\n",
       "    .dataframe thead th {\n",
       "        text-align: right;\n",
       "    }\n",
       "</style>\n",
       "<table border=\"1\" class=\"dataframe\">\n",
       "  <thead>\n",
       "    <tr style=\"text-align: right;\">\n",
       "      <th></th>\n",
       "      <th>Coefficient</th>\n",
       "    </tr>\n",
       "  </thead>\n",
       "  <tbody>\n",
       "    <tr>\n",
       "      <th>Week of Year_1</th>\n",
       "      <td>0.162163705</td>\n",
       "    </tr>\n",
       "    <tr>\n",
       "      <th>Week of Year_2</th>\n",
       "      <td>0.244001908</td>\n",
       "    </tr>\n",
       "    <tr>\n",
       "      <th>Week of Year_3</th>\n",
       "      <td>-0.048377881</td>\n",
       "    </tr>\n",
       "    <tr>\n",
       "      <th>Week of Year_4</th>\n",
       "      <td>-0.044654811</td>\n",
       "    </tr>\n",
       "    <tr>\n",
       "      <th>Week of Year_5</th>\n",
       "      <td>0.178175346</td>\n",
       "    </tr>\n",
       "    <tr>\n",
       "      <th>Week of Year_6</th>\n",
       "      <td>0.112725401</td>\n",
       "    </tr>\n",
       "    <tr>\n",
       "      <th>Week of Year_7</th>\n",
       "      <td>0.114429779</td>\n",
       "    </tr>\n",
       "    <tr>\n",
       "      <th>Week of Year_8</th>\n",
       "      <td>-0.071190397</td>\n",
       "    </tr>\n",
       "    <tr>\n",
       "      <th>Week of Year_9</th>\n",
       "      <td>-0.072778985</td>\n",
       "    </tr>\n",
       "    <tr>\n",
       "      <th>Week of Year_10</th>\n",
       "      <td>-0.102962933</td>\n",
       "    </tr>\n",
       "  </tbody>\n",
       "</table>\n",
       "</div>"
      ],
      "text/plain": [
       "                 Coefficient\n",
       "Week of Year_1   0.162163705\n",
       "Week of Year_2   0.244001908\n",
       "Week of Year_3  -0.048377881\n",
       "Week of Year_4  -0.044654811\n",
       "Week of Year_5   0.178175346\n",
       "Week of Year_6   0.112725401\n",
       "Week of Year_7   0.114429779\n",
       "Week of Year_8  -0.071190397\n",
       "Week of Year_9  -0.072778985\n",
       "Week of Year_10 -0.102962933"
      ]
     },
     "execution_count": 15,
     "metadata": {},
     "output_type": "execute_result"
    }
   ],
   "source": [
    "# Construct a dataframe of the model calendar-effect coefficients and review the output:\n",
    "results = pd.DataFrame(model.coef_, columns=[\"Coefficient\"], index=X_binary_encoded.columns)\n",
    "\n",
    "# Filter results so that it only includes either the day-of-week or week-of-year effect \n",
    "results = (results[results.index.str.contains(\"Week of Year\")])\n",
    "\n",
    "results.head(10)"
   ]
  },
  {
   "cell_type": "code",
   "execution_count": 16,
   "metadata": {},
   "outputs": [
    {
     "data": {
      "text/plain": [
       "<matplotlib.axes._subplots.AxesSubplot at 0x7f8c98029c88>"
      ]
     },
     "execution_count": 16,
     "metadata": {},
     "output_type": "execute_result"
    },
    {
     "data": {
      "image/png": "[encoded data removed]",
      "text/plain": [
       "<Figure size 1080x288 with 1 Axes>"
      ]
     },
     "metadata": {
      "needs_background": "light"
     },
     "output_type": "display_data"
    }
   ],
   "source": [
    "# Plot the results of the individual seasonal effects using pandas df.plot()\n",
    "# YOUR CODE HERE "
   ]
  },
  {
   "cell_type": "markdown",
   "metadata": {},
   "source": [
    " # Return Forecasting: Autocorrelation and the ARMA Model"
   ]
  },
  {
   "cell_type": "markdown",
   "metadata": {},
   "source": [
    " Using futures Settle *Returns*, estimate an ARMA model.\n",
    " 1. Set the AR and MA (\"p\" and \"q\") parameters to p=2 and q=1.\n",
    " 2. Plot autocorrelation and partial correlation graphs with an alpha of 0.10 and lags=30. If, when looking at the correlation graphs, additional lags seem important for predicting returns, increase the number of lags in the ARMA model from (1).\n",
    " 3. Does increasing the number of \"p\" or \"q\" increase the ability of the model? Compare your results between the two models by comparing the Bayseian Information Criterion, or BIC."
   ]
  },
  {
   "cell_type": "code",
   "execution_count": 18,
   "metadata": {},
   "outputs": [
    {
     "data": {
      "text/plain": [
       "<statsmodels.tsa.arima_model.ARMAResultsWrapper at 0x7f8d609c6198>"
      ]
     },
     "execution_count": 18,
     "metadata": {},
     "output_type": "execute_result"
    }
   ],
   "source": [
    "import statsmodels.api as sm\n",
    "# Create a series using \"Settle\" price percentage returns, and drop any nan's:\n",
    "df = fut[[\"Settle\"]].pct_change().dropna()\n",
    "\n",
    "# Estimate and ARMA model using statsmodels\n",
    "# Hint: ARMA(df, order=(p, q)).fit()\n",
    "autoregressive_count = 2\n",
    "moving_average_window = 1\n",
    "model = # YOUR CODE HERE \n",
    "model"
   ]
  },
  {
   "cell_type": "code",
   "execution_count": 19,
   "metadata": {},
   "outputs": [
    {
     "data": {
      "text/html": [
       "<table class=\"simpletable\">\n",
       "<caption>ARMA Model Results</caption>\n",
       "<tr>\n",
       "  <th>Dep. Variable:</th>      <td>Settle</td>      <th>  No. Observations:  </th>    <td>1345</td>   \n",
       "</tr>\n",
       "<tr>\n",
       "  <th>Model:</th>            <td>ARMA(2, 1)</td>    <th>  Log Likelihood     </th>  <td>5089.984</td> \n",
       "</tr>\n",
       "<tr>\n",
       "  <th>Method:</th>             <td>css-mle</td>     <th>  S.D. of innovations</th>    <td>0.005</td>  \n",
       "</tr>\n",
       "<tr>\n",
       "  <th>Date:</th>          <td>Sun, 07 Jul 2019</td> <th>  AIC                </th> <td>-10169.968</td>\n",
       "</tr>\n",
       "<tr>\n",
       "  <th>Time:</th>              <td>21:51:52</td>     <th>  BIC                </th> <td>-10143.947</td>\n",
       "</tr>\n",
       "<tr>\n",
       "  <th>Sample:</th>                <td>0</td>        <th>  HQIC               </th> <td>-10160.222</td>\n",
       "</tr>\n",
       "<tr>\n",
       "  <th></th>                       <td> </td>        <th>                     </th>      <td> </td>    \n",
       "</tr>\n",
       "</table>\n",
       "<table class=\"simpletable\">\n",
       "<tr>\n",
       "        <td></td>          <th>coef</th>     <th>std err</th>      <th>z</th>      <th>P>|z|</th>  <th>[0.025</th>    <th>0.975]</th>  \n",
       "</tr>\n",
       "<tr>\n",
       "  <th>const</th>        <td> -2.55e-05</td> <td>    0.000</td> <td>   -0.161</td> <td> 0.872</td> <td>   -0.000</td> <td>    0.000</td>\n",
       "</tr>\n",
       "<tr>\n",
       "  <th>ar.L1.Settle</th> <td>    0.3155</td> <td>    0.347</td> <td>    0.910</td> <td> 0.363</td> <td>   -0.364</td> <td>    0.995</td>\n",
       "</tr>\n",
       "<tr>\n",
       "  <th>ar.L2.Settle</th> <td>    0.0453</td> <td>    0.027</td> <td>    1.660</td> <td> 0.097</td> <td>   -0.008</td> <td>    0.099</td>\n",
       "</tr>\n",
       "<tr>\n",
       "  <th>ma.L1.Settle</th> <td>   -0.3255</td> <td>    0.347</td> <td>   -0.939</td> <td> 0.348</td> <td>   -1.005</td> <td>    0.354</td>\n",
       "</tr>\n",
       "</table>\n",
       "<table class=\"simpletable\">\n",
       "<caption>Roots</caption>\n",
       "<tr>\n",
       "    <td></td>   <th>            Real</th>  <th>         Imaginary</th> <th>         Modulus</th>  <th>        Frequency</th>\n",
       "</tr>\n",
       "<tr>\n",
       "  <th>AR.1</th> <td>           2.3656</td> <td>          +0.0000j</td> <td>           2.3656</td> <td>           0.0000</td>\n",
       "</tr>\n",
       "<tr>\n",
       "  <th>AR.2</th> <td>          -9.3291</td> <td>          +0.0000j</td> <td>           9.3291</td> <td>           0.5000</td>\n",
       "</tr>\n",
       "<tr>\n",
       "  <th>MA.1</th> <td>           3.0723</td> <td>          +0.0000j</td> <td>           3.0723</td> <td>           0.0000</td>\n",
       "</tr>\n",
       "</table>"
      ],
      "text/plain": [
       "<class 'statsmodels.iolib.summary.Summary'>\n",
       "\"\"\"\n",
       "                              ARMA Model Results                              \n",
       "==============================================================================\n",
       "Dep. Variable:                 Settle   No. Observations:                 1345\n",
       "Model:                     ARMA(2, 1)   Log Likelihood                5089.984\n",
       "Method:                       css-mle   S.D. of innovations              0.005\n",
       "Date:                Sun, 07 Jul 2019   AIC                         -10169.968\n",
       "Time:                        21:51:52   BIC                         -10143.947\n",
       "Sample:                             0   HQIC                        -10160.222\n",
       "                                                                              \n",
       "================================================================================\n",
       "                   coef    std err          z      P>|z|      [0.025      0.975]\n",
       "--------------------------------------------------------------------------------\n",
       "const         -2.55e-05      0.000     -0.161      0.872      -0.000       0.000\n",
       "ar.L1.Settle     0.3155      0.347      0.910      0.363      -0.364       0.995\n",
       "ar.L2.Settle     0.0453      0.027      1.660      0.097      -0.008       0.099\n",
       "ma.L1.Settle    -0.3255      0.347     -0.939      0.348      -1.005       0.354\n",
       "                                    Roots                                    \n",
       "=============================================================================\n",
       "                  Real          Imaginary           Modulus         Frequency\n",
       "-----------------------------------------------------------------------------\n",
       "AR.1            2.3656           +0.0000j            2.3656            0.0000\n",
       "AR.2           -9.3291           +0.0000j            9.3291            0.5000\n",
       "MA.1            3.0723           +0.0000j            3.0723            0.0000\n",
       "-----------------------------------------------------------------------------\n",
       "\"\"\""
      ]
     },
     "execution_count": 19,
     "metadata": {},
     "output_type": "execute_result"
    }
   ],
   "source": [
    "# Output model summary results:\n",
    "# YOUR CODE HERE "
   ]
  },
  {
   "cell_type": "code",
   "execution_count": 20,
   "metadata": {},
   "outputs": [
    {
     "data": {
      "image/png": "[encoded data removed]",
      "text/plain": [
       "<Figure size 432x288 with 1 Axes>"
      ]
     },
     "metadata": {
      "needs_background": "light"
     },
     "output_type": "display_data"
    },
    {
     "data": {
      "image/png": "[encoded data removed]",
      "text/plain": [
       "<Figure size 432x288 with 1 Axes>"
      ]
     },
     "metadata": {
      "needs_background": "light"
     },
     "output_type": "display_data"
    }
   ],
   "source": [
    "# Plot autocorrelation and partial correlation graphs with an alpha of 0.10 and lags=30.\n",
    "\n",
    "# Autocorrelation (For detecting # of MA (\"P\") Lags)\n",
    "# YOUR CODE HERE \n",
    "\n",
    "# Partial Autocorrelation (For detecting # of MA (\"P\") Lags)\n",
    "# YOUR CODE HERE "
   ]
  },
  {
   "cell_type": "code",
   "execution_count": 21,
   "metadata": {},
   "outputs": [
    {
     "name": "stderr",
     "output_type": "stream",
     "text": [
      "/Users/cyb/anaconda3/lib/python3.6/site-packages/statsmodels/base/model.py:508: ConvergenceWarning: Maximum Likelihood optimization failed to converge. Check mle_retvals\n",
      "  \"Check mle_retvals\", ConvergenceWarning)\n"
     ]
    },
    {
     "data": {
      "text/html": [
       "<table class=\"simpletable\">\n",
       "<caption>ARMA Model Results</caption>\n",
       "<tr>\n",
       "  <th>Dep. Variable:</th>      <td>Settle</td>      <th>  No. Observations:  </th>    <td>1345</td>   \n",
       "</tr>\n",
       "<tr>\n",
       "  <th>Model:</th>            <td>ARMA(17, 6)</td>   <th>  Log Likelihood     </th>  <td>5104.300</td> \n",
       "</tr>\n",
       "<tr>\n",
       "  <th>Method:</th>             <td>css-mle</td>     <th>  S.D. of innovations</th>    <td>0.005</td>  \n",
       "</tr>\n",
       "<tr>\n",
       "  <th>Date:</th>          <td>Sun, 07 Jul 2019</td> <th>  AIC                </th> <td>-10158.601</td>\n",
       "</tr>\n",
       "<tr>\n",
       "  <th>Time:</th>              <td>22:05:34</td>     <th>  BIC                </th> <td>-10028.497</td>\n",
       "</tr>\n",
       "<tr>\n",
       "  <th>Sample:</th>                <td>0</td>        <th>  HQIC               </th> <td>-10109.868</td>\n",
       "</tr>\n",
       "<tr>\n",
       "  <th></th>                       <td> </td>        <th>                     </th>      <td> </td>    \n",
       "</tr>\n",
       "</table>\n",
       "<table class=\"simpletable\">\n",
       "<tr>\n",
       "        <td></td>           <th>coef</th>     <th>std err</th>      <th>z</th>      <th>P>|z|</th>  <th>[0.025</th>    <th>0.975]</th>  \n",
       "</tr>\n",
       "<tr>\n",
       "  <th>const</th>         <td>-2.498e-05</td> <td>    0.000</td> <td>   -0.159</td> <td> 0.874</td> <td>   -0.000</td> <td>    0.000</td>\n",
       "</tr>\n",
       "<tr>\n",
       "  <th>ar.L1.Settle</th>  <td>   -0.0092</td> <td>    1.166</td> <td>   -0.008</td> <td> 0.994</td> <td>   -2.294</td> <td>    2.275</td>\n",
       "</tr>\n",
       "<tr>\n",
       "  <th>ar.L2.Settle</th>  <td>    0.1173</td> <td>    0.761</td> <td>    0.154</td> <td> 0.877</td> <td>   -1.373</td> <td>    1.608</td>\n",
       "</tr>\n",
       "<tr>\n",
       "  <th>ar.L3.Settle</th>  <td>   -0.1401</td> <td>    0.348</td> <td>   -0.403</td> <td> 0.687</td> <td>   -0.821</td> <td>    0.541</td>\n",
       "</tr>\n",
       "<tr>\n",
       "  <th>ar.L4.Settle</th>  <td>   -0.4151</td> <td>    0.430</td> <td>   -0.965</td> <td> 0.335</td> <td>   -1.258</td> <td>    0.428</td>\n",
       "</tr>\n",
       "<tr>\n",
       "  <th>ar.L5.Settle</th>  <td>   -0.4680</td> <td>    0.706</td> <td>   -0.663</td> <td> 0.508</td> <td>   -1.852</td> <td>    0.916</td>\n",
       "</tr>\n",
       "<tr>\n",
       "  <th>ar.L6.Settle</th>  <td>    0.5746</td> <td>    1.001</td> <td>    0.574</td> <td> 0.566</td> <td>   -1.387</td> <td>    2.536</td>\n",
       "</tr>\n",
       "<tr>\n",
       "  <th>ar.L7.Settle</th>  <td>    0.0406</td> <td>    0.063</td> <td>    0.646</td> <td> 0.518</td> <td>   -0.083</td> <td>    0.164</td>\n",
       "</tr>\n",
       "<tr>\n",
       "  <th>ar.L8.Settle</th>  <td>   -0.0099</td> <td>    0.085</td> <td>   -0.117</td> <td> 0.907</td> <td>   -0.176</td> <td>    0.156</td>\n",
       "</tr>\n",
       "<tr>\n",
       "  <th>ar.L9.Settle</th>  <td>   -0.0858</td> <td>    0.053</td> <td>   -1.612</td> <td> 0.107</td> <td>   -0.190</td> <td>    0.019</td>\n",
       "</tr>\n",
       "<tr>\n",
       "  <th>ar.L10.Settle</th> <td>   -0.0198</td> <td>    0.084</td> <td>   -0.235</td> <td> 0.815</td> <td>   -0.185</td> <td>    0.146</td>\n",
       "</tr>\n",
       "<tr>\n",
       "  <th>ar.L11.Settle</th> <td>    0.1056</td> <td>    0.081</td> <td>    1.312</td> <td> 0.190</td> <td>   -0.052</td> <td>    0.263</td>\n",
       "</tr>\n",
       "<tr>\n",
       "  <th>ar.L12.Settle</th> <td>    0.0032</td> <td>    0.091</td> <td>    0.035</td> <td> 0.972</td> <td>   -0.174</td> <td>    0.181</td>\n",
       "</tr>\n",
       "<tr>\n",
       "  <th>ar.L13.Settle</th> <td>   -0.0596</td> <td>    0.056</td> <td>   -1.074</td> <td> 0.283</td> <td>   -0.168</td> <td>    0.049</td>\n",
       "</tr>\n",
       "<tr>\n",
       "  <th>ar.L14.Settle</th> <td>   -0.0379</td> <td>    0.067</td> <td>   -0.562</td> <td> 0.574</td> <td>   -0.170</td> <td>    0.094</td>\n",
       "</tr>\n",
       "<tr>\n",
       "  <th>ar.L15.Settle</th> <td>    0.0529</td> <td>    0.085</td> <td>    0.621</td> <td> 0.534</td> <td>   -0.114</td> <td>    0.220</td>\n",
       "</tr>\n",
       "<tr>\n",
       "  <th>ar.L16.Settle</th> <td>    0.0244</td> <td>    0.041</td> <td>    0.600</td> <td> 0.549</td> <td>   -0.055</td> <td>    0.104</td>\n",
       "</tr>\n",
       "<tr>\n",
       "  <th>ar.L17.Settle</th> <td>   -0.0063</td> <td>    0.050</td> <td>   -0.126</td> <td> 0.900</td> <td>   -0.104</td> <td>    0.092</td>\n",
       "</tr>\n",
       "<tr>\n",
       "  <th>ma.L1.Settle</th>  <td>   -0.0015</td> <td>    1.166</td> <td>   -0.001</td> <td> 0.999</td> <td>   -2.287</td> <td>    2.284</td>\n",
       "</tr>\n",
       "<tr>\n",
       "  <th>ma.L2.Settle</th>  <td>   -0.0690</td> <td>    0.750</td> <td>   -0.092</td> <td> 0.927</td> <td>   -1.538</td> <td>    1.400</td>\n",
       "</tr>\n",
       "<tr>\n",
       "  <th>ma.L3.Settle</th>  <td>    0.1817</td> <td>    0.389</td> <td>    0.467</td> <td> 0.641</td> <td>   -0.581</td> <td>    0.945</td>\n",
       "</tr>\n",
       "<tr>\n",
       "  <th>ma.L4.Settle</th>  <td>    0.3985</td> <td>    0.499</td> <td>    0.798</td> <td> 0.425</td> <td>   -0.580</td> <td>    1.377</td>\n",
       "</tr>\n",
       "<tr>\n",
       "  <th>ma.L5.Settle</th>  <td>    0.4197</td> <td>    0.736</td> <td>    0.570</td> <td> 0.569</td> <td>   -1.024</td> <td>    1.863</td>\n",
       "</tr>\n",
       "<tr>\n",
       "  <th>ma.L6.Settle</th>  <td>   -0.5153</td> <td>    0.963</td> <td>   -0.535</td> <td> 0.593</td> <td>   -2.403</td> <td>    1.373</td>\n",
       "</tr>\n",
       "</table>\n",
       "<table class=\"simpletable\">\n",
       "<caption>Roots</caption>\n",
       "<tr>\n",
       "    <td></td>    <th>            Real</th>  <th>         Imaginary</th> <th>         Modulus</th>  <th>        Frequency</th>\n",
       "</tr>\n",
       "<tr>\n",
       "  <th>AR.1</th>  <td>           0.6838</td> <td>          -0.7725j</td> <td>           1.0317</td> <td>          -0.1347</td>\n",
       "</tr>\n",
       "<tr>\n",
       "  <th>AR.2</th>  <td>           0.6838</td> <td>          +0.7725j</td> <td>           1.0317</td> <td>           0.1347</td>\n",
       "</tr>\n",
       "<tr>\n",
       "  <th>AR.3</th>  <td>           1.2914</td> <td>          -0.0000j</td> <td>           1.2914</td> <td>          -0.0000</td>\n",
       "</tr>\n",
       "<tr>\n",
       "  <th>AR.4</th>  <td>           1.2093</td> <td>          -0.5319j</td> <td>           1.3211</td> <td>          -0.0659</td>\n",
       "</tr>\n",
       "<tr>\n",
       "  <th>AR.5</th>  <td>           1.2093</td> <td>          +0.5319j</td> <td>           1.3211</td> <td>           0.0659</td>\n",
       "</tr>\n",
       "<tr>\n",
       "  <th>AR.6</th>  <td>           0.6457</td> <td>          -1.0403j</td> <td>           1.2244</td> <td>          -0.1616</td>\n",
       "</tr>\n",
       "<tr>\n",
       "  <th>AR.7</th>  <td>           0.6457</td> <td>          +1.0403j</td> <td>           1.2244</td> <td>           0.1616</td>\n",
       "</tr>\n",
       "<tr>\n",
       "  <th>AR.8</th>  <td>          -0.2092</td> <td>          -1.2216j</td> <td>           1.2394</td> <td>          -0.2770</td>\n",
       "</tr>\n",
       "<tr>\n",
       "  <th>AR.9</th>  <td>          -0.2092</td> <td>          +1.2216j</td> <td>           1.2394</td> <td>           0.2770</td>\n",
       "</tr>\n",
       "<tr>\n",
       "  <th>AR.10</th> <td>          -0.5388</td> <td>          -0.8910j</td> <td>           1.0412</td> <td>          -0.3366</td>\n",
       "</tr>\n",
       "<tr>\n",
       "  <th>AR.11</th> <td>          -0.5388</td> <td>          +0.8910j</td> <td>           1.0412</td> <td>           0.3366</td>\n",
       "</tr>\n",
       "<tr>\n",
       "  <th>AR.12</th> <td>          -1.0470</td> <td>          -0.0000j</td> <td>           1.0470</td> <td>          -0.5000</td>\n",
       "</tr>\n",
       "<tr>\n",
       "  <th>AR.13</th> <td>          -0.9907</td> <td>          -0.9793j</td> <td>           1.3930</td> <td>          -0.3759</td>\n",
       "</tr>\n",
       "<tr>\n",
       "  <th>AR.14</th> <td>          -0.9907</td> <td>          +0.9793j</td> <td>           1.3930</td> <td>           0.3759</td>\n",
       "</tr>\n",
       "<tr>\n",
       "  <th>AR.15</th> <td>          -1.4923</td> <td>          -0.0000j</td> <td>           1.4923</td> <td>          -0.5000</td>\n",
       "</tr>\n",
       "<tr>\n",
       "  <th>AR.16</th> <td>          -1.6789</td> <td>          -0.0000j</td> <td>           1.6789</td> <td>          -0.5000</td>\n",
       "</tr>\n",
       "<tr>\n",
       "  <th>AR.17</th> <td>           5.1913</td> <td>          -0.0000j</td> <td>           5.1913</td> <td>          -0.0000</td>\n",
       "</tr>\n",
       "<tr>\n",
       "  <th>MA.1</th>  <td>          -1.0450</td> <td>          -0.0000j</td> <td>           1.0450</td> <td>          -0.5000</td>\n",
       "</tr>\n",
       "<tr>\n",
       "  <th>MA.2</th>  <td>          -0.5318</td> <td>          -0.9157j</td> <td>           1.0590</td> <td>          -0.3337</td>\n",
       "</tr>\n",
       "<tr>\n",
       "  <th>MA.3</th>  <td>          -0.5318</td> <td>          +0.9157j</td> <td>           1.0590</td> <td>           0.3337</td>\n",
       "</tr>\n",
       "<tr>\n",
       "  <th>MA.4</th>  <td>           0.6647</td> <td>          -0.7728j</td> <td>           1.0193</td> <td>          -0.1369</td>\n",
       "</tr>\n",
       "<tr>\n",
       "  <th>MA.5</th>  <td>           0.6647</td> <td>          +0.7728j</td> <td>           1.0193</td> <td>           0.1369</td>\n",
       "</tr>\n",
       "<tr>\n",
       "  <th>MA.6</th>  <td>           1.5937</td> <td>          -0.0000j</td> <td>           1.5937</td> <td>          -0.0000</td>\n",
       "</tr>\n",
       "</table>"
      ],
      "text/plain": [
       "<class 'statsmodels.iolib.summary.Summary'>\n",
       "\"\"\"\n",
       "                              ARMA Model Results                              \n",
       "==============================================================================\n",
       "Dep. Variable:                 Settle   No. Observations:                 1345\n",
       "Model:                    ARMA(17, 6)   Log Likelihood                5104.300\n",
       "Method:                       css-mle   S.D. of innovations              0.005\n",
       "Date:                Sun, 07 Jul 2019   AIC                         -10158.601\n",
       "Time:                        22:05:34   BIC                         -10028.497\n",
       "Sample:                             0   HQIC                        -10109.868\n",
       "                                                                              \n",
       "=================================================================================\n",
       "                    coef    std err          z      P>|z|      [0.025      0.975]\n",
       "---------------------------------------------------------------------------------\n",
       "const         -2.498e-05      0.000     -0.159      0.874      -0.000       0.000\n",
       "ar.L1.Settle     -0.0092      1.166     -0.008      0.994      -2.294       2.275\n",
       "ar.L2.Settle      0.1173      0.761      0.154      0.877      -1.373       1.608\n",
       "ar.L3.Settle     -0.1401      0.348     -0.403      0.687      -0.821       0.541\n",
       "ar.L4.Settle     -0.4151      0.430     -0.965      0.335      -1.258       0.428\n",
       "ar.L5.Settle     -0.4680      0.706     -0.663      0.508      -1.852       0.916\n",
       "ar.L6.Settle      0.5746      1.001      0.574      0.566      -1.387       2.536\n",
       "ar.L7.Settle      0.0406      0.063      0.646      0.518      -0.083       0.164\n",
       "ar.L8.Settle     -0.0099      0.085     -0.117      0.907      -0.176       0.156\n",
       "ar.L9.Settle     -0.0858      0.053     -1.612      0.107      -0.190       0.019\n",
       "ar.L10.Settle    -0.0198      0.084     -0.235      0.815      -0.185       0.146\n",
       "ar.L11.Settle     0.1056      0.081      1.312      0.190      -0.052       0.263\n",
       "ar.L12.Settle     0.0032      0.091      0.035      0.972      -0.174       0.181\n",
       "ar.L13.Settle    -0.0596      0.056     -1.074      0.283      -0.168       0.049\n",
       "ar.L14.Settle    -0.0379      0.067     -0.562      0.574      -0.170       0.094\n",
       "ar.L15.Settle     0.0529      0.085      0.621      0.534      -0.114       0.220\n",
       "ar.L16.Settle     0.0244      0.041      0.600      0.549      -0.055       0.104\n",
       "ar.L17.Settle    -0.0063      0.050     -0.126      0.900      -0.104       0.092\n",
       "ma.L1.Settle     -0.0015      1.166     -0.001      0.999      -2.287       2.284\n",
       "ma.L2.Settle     -0.0690      0.750     -0.092      0.927      -1.538       1.400\n",
       "ma.L3.Settle      0.1817      0.389      0.467      0.641      -0.581       0.945\n",
       "ma.L4.Settle      0.3985      0.499      0.798      0.425      -0.580       1.377\n",
       "ma.L5.Settle      0.4197      0.736      0.570      0.569      -1.024       1.863\n",
       "ma.L6.Settle     -0.5153      0.963     -0.535      0.593      -2.403       1.373\n",
       "                                    Roots                                     \n",
       "==============================================================================\n",
       "                   Real          Imaginary           Modulus         Frequency\n",
       "------------------------------------------------------------------------------\n",
       "AR.1             0.6838           -0.7725j            1.0317           -0.1347\n",
       "AR.2             0.6838           +0.7725j            1.0317            0.1347\n",
       "AR.3             1.2914           -0.0000j            1.2914           -0.0000\n",
       "AR.4             1.2093           -0.5319j            1.3211           -0.0659\n",
       "AR.5             1.2093           +0.5319j            1.3211            0.0659\n",
       "AR.6             0.6457           -1.0403j            1.2244           -0.1616\n",
       "AR.7             0.6457           +1.0403j            1.2244            0.1616\n",
       "AR.8            -0.2092           -1.2216j            1.2394           -0.2770\n",
       "AR.9            -0.2092           +1.2216j            1.2394            0.2770\n",
       "AR.10           -0.5388           -0.8910j            1.0412           -0.3366\n",
       "AR.11           -0.5388           +0.8910j            1.0412            0.3366\n",
       "AR.12           -1.0470           -0.0000j            1.0470           -0.5000\n",
       "AR.13           -0.9907           -0.9793j            1.3930           -0.3759\n",
       "AR.14           -0.9907           +0.9793j            1.3930            0.3759\n",
       "AR.15           -1.4923           -0.0000j            1.4923           -0.5000\n",
       "AR.16           -1.6789           -0.0000j            1.6789           -0.5000\n",
       "AR.17            5.1913           -0.0000j            5.1913           -0.0000\n",
       "MA.1            -1.0450           -0.0000j            1.0450           -0.5000\n",
       "MA.2            -0.5318           -0.9157j            1.0590           -0.3337\n",
       "MA.3            -0.5318           +0.9157j            1.0590            0.3337\n",
       "MA.4             0.6647           -0.7728j            1.0193           -0.1369\n",
       "MA.5             0.6647           +0.7728j            1.0193            0.1369\n",
       "MA.6             1.5937           -0.0000j            1.5937           -0.0000\n",
       "------------------------------------------------------------------------------\n",
       "\"\"\""
      ]
     },
     "execution_count": 21,
     "metadata": {},
     "output_type": "execute_result"
    }
   ],
   "source": [
    "autoregressive_count = 17\n",
    "moving_average_window = 6\n",
    "\n",
    "# Esimate your model based on your interpretation of the autocorrelation/partial autocorrelation plots:\n",
    "model = # YOUR CODE HERE \n",
    "\n",
    "# Review model summary results:\n",
    "# YOUR CODE HERE "
   ]
  },
  {
   "cell_type": "markdown",
   "metadata": {},
   "source": [
    " # Return Forecasting: Deploying the ARIMA Model"
   ]
  },
  {
   "cell_type": "markdown",
   "metadata": {},
   "source": [
    " 1. Using the *raw* Yen **Settle Price**, estimate an ARIMA model.\n",
    "     1. Set P=5, D=1, and Q=1 in the model (e.g., ARIMA(df, order=(5,1,1))\n",
    "     2. P= # of Auto-Regressive Lags, D= # of Differences (this is usually =1), Q= # of Moving Average Lags\n",
    "\n",
    " 2. Plot the residuals from the model. If residuals are the part of returns that our model *doesn\"t* explain, does it seem like our model has missed any seasonality?\n",
    " 3. Construct a 15 day (3 week) forecast for the Settle Price. What does the model forecast will happen to the Japanese Yen in the near term?"
   ]
  },
  {
   "cell_type": "code",
   "execution_count": 22,
   "metadata": {},
   "outputs": [
    {
     "data": {
      "text/html": [
       "<div>\n",
       "<style scoped>\n",
       "    .dataframe tbody tr th:only-of-type {\n",
       "        vertical-align: middle;\n",
       "    }\n",
       "\n",
       "    .dataframe tbody tr th {\n",
       "        vertical-align: top;\n",
       "    }\n",
       "\n",
       "    .dataframe thead th {\n",
       "        text-align: right;\n",
       "    }\n",
       "</style>\n",
       "<table border=\"1\" class=\"dataframe\">\n",
       "  <thead>\n",
       "    <tr style=\"text-align: right;\">\n",
       "      <th></th>\n",
       "      <th>Settle</th>\n",
       "    </tr>\n",
       "    <tr>\n",
       "      <th>Date</th>\n",
       "      <th></th>\n",
       "    </tr>\n",
       "  </thead>\n",
       "  <tbody>\n",
       "    <tr>\n",
       "      <th>2014-02-18</th>\n",
       "      <td>9775.000000000</td>\n",
       "    </tr>\n",
       "    <tr>\n",
       "      <th>2014-02-19</th>\n",
       "      <td>9773.000000000</td>\n",
       "    </tr>\n",
       "    <tr>\n",
       "      <th>2014-02-20</th>\n",
       "      <td>9775.000000000</td>\n",
       "    </tr>\n",
       "    <tr>\n",
       "      <th>2014-02-21</th>\n",
       "      <td>9755.000000000</td>\n",
       "    </tr>\n",
       "    <tr>\n",
       "      <th>2014-02-24</th>\n",
       "      <td>9757.000000000</td>\n",
       "    </tr>\n",
       "  </tbody>\n",
       "</table>\n",
       "</div>"
      ],
      "text/plain": [
       "                   Settle\n",
       "Date                     \n",
       "2014-02-18 9775.000000000\n",
       "2014-02-19 9773.000000000\n",
       "2014-02-20 9775.000000000\n",
       "2014-02-21 9755.000000000\n",
       "2014-02-24 9757.000000000"
      ]
     },
     "execution_count": 22,
     "metadata": {},
     "output_type": "execute_result"
    }
   ],
   "source": [
    "# For ARIMA, construct a dataframe using just the futures \"Settle\" prices:\n",
    "df = # YOUR CODE HERE \n",
    "df.head()"
   ]
  },
  {
   "cell_type": "code",
   "execution_count": 23,
   "metadata": {},
   "outputs": [
    {
     "name": "stdout",
     "output_type": "stream",
     "text": [
      "                             ARIMA Model Results                              \n",
      "==============================================================================\n",
      "Dep. Variable:               D.Settle   No. Observations:                 1345\n",
      "Model:                 ARIMA(5, 1, 1)   Log Likelihood               -7153.142\n",
      "Method:                       css-mle   S.D. of innovations             49.371\n",
      "Date:                Sun, 07 Jul 2019   AIC                          14322.283\n",
      "Time:                        22:06:39   BIC                          14363.916\n",
      "Sample:                             1   HQIC                         14337.878\n",
      "                                                                              \n",
      "==================================================================================\n",
      "                     coef    std err          z      P>|z|      [0.025      0.975]\n",
      "----------------------------------------------------------------------------------\n",
      "const             -0.3845      1.385     -0.278      0.781      -3.098       2.329\n",
      "ar.L1.D.Settle    -0.6682      0.288     -2.323      0.020      -1.232      -0.104\n",
      "ar.L2.D.Settle     0.0407      0.033      1.237      0.216      -0.024       0.105\n",
      "ar.L3.D.Settle     0.0678      0.035      1.943      0.052      -0.001       0.136\n",
      "ar.L4.D.Settle     0.0064      0.034      0.185      0.853      -0.061       0.074\n",
      "ar.L5.D.Settle    -0.0621      0.030     -2.079      0.038      -0.121      -0.004\n",
      "ma.L1.D.Settle     0.6615      0.288      2.297      0.022       0.097       1.226\n",
      "                                    Roots                                    \n",
      "=============================================================================\n",
      "                  Real          Imaginary           Modulus         Frequency\n",
      "-----------------------------------------------------------------------------\n",
      "AR.1           -1.2721           -0.0000j            1.2721           -0.5000\n",
      "AR.2           -0.9839           -1.4121j            1.7211           -0.3469\n",
      "AR.3           -0.9839           +1.4121j            1.7211            0.3469\n",
      "AR.4            1.6711           -1.2166j            2.0670           -0.1002\n",
      "AR.5            1.6711           +1.2166j            2.0670            0.1002\n",
      "MA.1           -1.5117           +0.0000j            1.5117            0.5000\n",
      "-----------------------------------------------------------------------------\n"
     ]
    },
    {
     "data": {
      "image/png": "[encoded data removed]",
      "text/plain": [
       "<Figure size 432x288 with 1 Axes>"
      ]
     },
     "metadata": {
      "needs_background": "light"
     },
     "output_type": "display_data"
    },
    {
     "name": "stdout",
     "output_type": "stream",
     "text": [
      "                   0\n",
      "count 1345.000000000\n",
      "mean     0.001503358\n",
      "std     49.389742669\n",
      "min   -233.607904105\n",
      "25%    -27.690635374\n",
      "50%     -0.403362484\n",
      "75%     25.313943148\n",
      "max    325.375471649\n"
     ]
    }
   ],
   "source": [
    "from statsmodels.tsa.arima_model import ARIMA\n",
    "# Estimate and ARIMA Model:\n",
    "# Hint: ARIMA(df, order=(p, d, q))\n",
    "model = # YOUR CODE HERE \n",
    "model_fit = # YOUR CODE HERE \n",
    "# Output model summary results:\n",
    "print(model_fit.summary())\n",
    "# plot residual errors:\n",
    "residuals = # YOUR CODE HERE \n",
    "residuals.plot(title=\"Noise (Model Residuals)\")\n",
    "plt.show()\n",
    "print(residuals.describe())"
   ]
  },
  {
   "cell_type": "code",
   "execution_count": 25,
   "metadata": {},
   "outputs": [
    {
     "data": {
      "text/plain": [
       "<matplotlib.axes._subplots.AxesSubplot at 0x7f8d00114320>"
      ]
     },
     "execution_count": 25,
     "metadata": {},
     "output_type": "execute_result"
    },
    {
     "data": {
      "image/png": "[encoded data removed]",
      "text/plain": [
       "<Figure size 432x288 with 1 Axes>"
      ]
     },
     "metadata": {
      "needs_background": "light"
     },
     "output_type": "display_data"
    }
   ],
   "source": [
    "# Construct a 15 day (3 week) forecast for the Settle Price. \n",
    "# What does the model forecast will happen to the Japanese Yen in the near term?\n",
    "# Specifically, construct a pandas DataFrame containing ARIMA model forecasts for a 15-day window:\n",
    "# YOUR CODE HERE "
   ]
  },
  {
   "cell_type": "markdown",
   "metadata": {},
   "source": [
    " # Volatility Forecasting\n",
    "\n",
    " Rather than predicting returns, let's forecast near-term **volatility** of Japanese Yen futures returns. Being able to accurately predict volatility will be extremely useful if we want to trade in derivatives or quantify our maximum loss."
   ]
  },
  {
   "cell_type": "markdown",
   "metadata": {},
   "source": [
    "### Volatility Forecasting: GARCH and EGARCH Models\n",
    "Using the \"arch\" package, estimate either GARCH(1,1) or an EGARCH(p,q) volatility forecast model on futures settle returns."
   ]
  },
  {
   "cell_type": "code",
   "execution_count": 26,
   "metadata": {},
   "outputs": [],
   "source": [
    "import arch as arch"
   ]
  },
  {
   "cell_type": "code",
   "execution_count": 33,
   "metadata": {},
   "outputs": [
    {
     "data": {
      "text/html": [
       "<div>\n",
       "<style scoped>\n",
       "    .dataframe tbody tr th:only-of-type {\n",
       "        vertical-align: middle;\n",
       "    }\n",
       "\n",
       "    .dataframe tbody tr th {\n",
       "        vertical-align: top;\n",
       "    }\n",
       "\n",
       "    .dataframe thead th {\n",
       "        text-align: right;\n",
       "    }\n",
       "</style>\n",
       "<table border=\"1\" class=\"dataframe\">\n",
       "  <thead>\n",
       "    <tr style=\"text-align: right;\">\n",
       "      <th></th>\n",
       "      <th>Settle</th>\n",
       "    </tr>\n",
       "    <tr>\n",
       "      <th>Date</th>\n",
       "      <th></th>\n",
       "    </tr>\n",
       "  </thead>\n",
       "  <tbody>\n",
       "    <tr>\n",
       "      <th>2019-06-28</th>\n",
       "      <td>-0.032140561</td>\n",
       "    </tr>\n",
       "    <tr>\n",
       "      <th>2019-07-01</th>\n",
       "      <td>-0.648376380</td>\n",
       "    </tr>\n",
       "    <tr>\n",
       "      <th>2019-07-02</th>\n",
       "      <td>0.587886306</td>\n",
       "    </tr>\n",
       "    <tr>\n",
       "      <th>2019-07-03</th>\n",
       "      <td>-0.010723861</td>\n",
       "    </tr>\n",
       "    <tr>\n",
       "      <th>2019-07-05</th>\n",
       "      <td>-0.702488202</td>\n",
       "    </tr>\n",
       "  </tbody>\n",
       "</table>\n",
       "</div>"
      ],
      "text/plain": [
       "                 Settle\n",
       "Date                   \n",
       "2019-06-28 -0.032140561\n",
       "2019-07-01 -0.648376380\n",
       "2019-07-02  0.587886306\n",
       "2019-07-03 -0.010723861\n",
       "2019-07-05 -0.702488202"
      ]
     },
     "execution_count": 33,
     "metadata": {},
     "output_type": "execute_result"
    }
   ],
   "source": [
    "# Create a series using \"Settle\" price percentage returns, drop any nan\"s, and check the results:\n",
    "# (Make sure to multiply the pct_change() results by *100)\n",
    "# In this case, you may have to replace inf, -inf values with np.nan\"s\n",
    "returns=(fut[[\"Settle\"]].pct_change()*100)\n",
    "returns=returns.replace(-np.inf, np.nan).dropna()\n",
    "returns.tail()"
   ]
  },
  {
   "cell_type": "code",
   "execution_count": 28,
   "metadata": {},
   "outputs": [
    {
     "data": {
      "text/plain": [
       "                           AR - GARCH Model Results                           \n",
       "==============================================================================\n",
       "Dep. Variable:                 Settle   R-squared:                       0.001\n",
       "Mean Model:                        AR   Adj. R-squared:                 -0.000\n",
       "Vol Model:                      GARCH   Log-Likelihood:               -1025.22\n",
       "Distribution:                  Normal   AIC:                           2062.44\n",
       "Method:            Maximum Likelihood   BIC:                           2093.66\n",
       "                                        No. Observations:                 1343\n",
       "Date:                Sun, Jul 07 2019   Df Residuals:                     1337\n",
       "Time:                        22:06:40   Df Model:                            6\n",
       "                                  Mean Model                                  \n",
       "==============================================================================\n",
       "                  coef    std err          t      P>|t|       95.0% Conf. Int.\n",
       "------------------------------------------------------------------------------\n",
       "Const      -4.5850e-03  1.273e-02     -0.360      0.719 [-2.954e-02,2.037e-02]\n",
       "Settle[1]  -4.1009e-03  2.942e-02     -0.139      0.889 [-6.177e-02,5.357e-02]\n",
       "Settle[2]       0.0478  2.914e-02      1.641      0.101   [-9.303e-03,  0.105]\n",
       "                               Volatility Model                              \n",
       "=============================================================================\n",
       "                 coef    std err          t      P>|t|       95.0% Conf. Int.\n",
       "-----------------------------------------------------------------------------\n",
       "omega      2.2531e-03  1.627e-03      1.385      0.166 [-9.349e-04,5.441e-03]\n",
       "alpha[1]       0.0421  1.532e-02      2.748  5.998e-03  [1.207e-02,7.211e-02]\n",
       "beta[1]        0.9515  1.721e-02     55.289      0.000      [  0.918,  0.985]\n",
       "=============================================================================\n",
       "\n",
       "Covariance estimator: robust\n",
       "ARCHModelResult, id: 0x7f8d71e47da0"
      ]
     },
     "execution_count": 28,
     "metadata": {},
     "output_type": "execute_result"
    }
   ],
   "source": [
    "# Estimate a GARCH(1,1) model using the \"arch\" package:\n",
    "# (We need to drop all NaN\"s first in order to get this to run):\n",
    "am = # YOUR CODE HERE \n",
    "res = am.fit(# YOUR CODE HERE)"
   ]
  },
  {
   "cell_type": "code",
   "execution_count": 29,
   "metadata": {},
   "outputs": [
    {
     "name": "stdout",
     "output_type": "stream",
     "text": [
      "                           AR - GARCH Model Results                           \n",
      "==============================================================================\n",
      "Dep. Variable:                 Settle   R-squared:                       0.001\n",
      "Mean Model:                        AR   Adj. R-squared:                 -0.000\n",
      "Vol Model:                      GARCH   Log-Likelihood:               -1025.22\n",
      "Distribution:                  Normal   AIC:                           2062.44\n",
      "Method:            Maximum Likelihood   BIC:                           2093.66\n",
      "                                        No. Observations:                 1343\n",
      "Date:                Sun, Jul 07 2019   Df Residuals:                     1337\n",
      "Time:                        22:06:40   Df Model:                            6\n",
      "                                  Mean Model                                  \n",
      "==============================================================================\n",
      "                  coef    std err          t      P>|t|       95.0% Conf. Int.\n",
      "------------------------------------------------------------------------------\n",
      "Const      -4.5850e-03  1.273e-02     -0.360      0.719 [-2.954e-02,2.037e-02]\n",
      "Settle[1]  -4.1009e-03  2.942e-02     -0.139      0.889 [-6.177e-02,5.357e-02]\n",
      "Settle[2]       0.0478  2.914e-02      1.641      0.101   [-9.303e-03,  0.105]\n",
      "                               Volatility Model                              \n",
      "=============================================================================\n",
      "                 coef    std err          t      P>|t|       95.0% Conf. Int.\n",
      "-----------------------------------------------------------------------------\n",
      "omega      2.2531e-03  1.627e-03      1.385      0.166 [-9.349e-04,5.441e-03]\n",
      "alpha[1]       0.0421  1.532e-02      2.748  5.998e-03  [1.207e-02,7.211e-02]\n",
      "beta[1]        0.9515  1.721e-02     55.289      0.000      [  0.918,  0.985]\n",
      "=============================================================================\n",
      "\n",
      "Covariance estimator: robust\n"
     ]
    }
   ],
   "source": [
    "# Output the summary results of the GARCH model:\n",
    "print(res.summary())"
   ]
  },
  {
   "cell_type": "markdown",
   "metadata": {},
   "source": [
    "### Volatility Forecasting: Identifying Patterns of Clustered Volatility\n",
    "\n",
    "GARCH/EGARCH, etc. models are good for capturing the \"volatility clustering\" effect that is common in financial data. After estimating your model, can you identify periods when volatility clusters together?"
   ]
  },
  {
   "cell_type": "code",
   "execution_count": 30,
   "metadata": {},
   "outputs": [
    {
     "data": {
      "image/png": "[encoded data removed]",
      "text/plain": [
       "<Figure size 432x288 with 2 Axes>"
      ]
     },
     "metadata": {
      "needs_background": "light"
     },
     "output_type": "display_data"
    }
   ],
   "source": [
    "# Plot the model\"s conditional volatility for the Yen:\n",
    "# Hint: use .plot(annualize=\"D\")\n",
    "fig = # YOUR CODE HERE "
   ]
  },
  {
   "cell_type": "markdown",
   "metadata": {},
   "source": [
    "### Volatility Forecasting: 3-day Yen Volatility Forecasts using GARCH/EGARCH\n",
    "  * Let's do some forecasting of near-term risk. Specifically, use the .forecast() method to calculate 3-day forecasts. Then plot the resulting 3-day annualized variance. Is Yen volatility expected to rise or fall in the near term?"
   ]
  },
  {
   "cell_type": "code",
   "execution_count": 35,
   "metadata": {},
   "outputs": [
    {
     "data": {
      "text/plain": [
       "<arch.univariate.base.ARCHModelForecast at 0x7f8d504ab3c8>"
      ]
     },
     "execution_count": 35,
     "metadata": {},
     "output_type": "execute_result"
    }
   ],
   "source": [
    "# Note--You can either specify today\"s date manually, or use pd.datetime.today().strftime(\"%Y-%m-%d\") \n",
    "# (example format: start=\"2019-06-28\")\n",
    "# If you have problems with datetime, \n",
    "# specify data date manually using the most recent trading date in the dataframe\n",
    "todays_date = pd.datetime.today().strftime(\"%Y-%m-%d\")                  \n",
    "# todays_date = '2019-07-05'\n",
    "# Forecast volatility, from today\"s date until the following three days:\n",
    "forecast_horizon = # YOUR CODE HERE \n",
    "forecasts = # YOUR CODE HERE \n",
    "forecasts"
   ]
  },
  {
   "cell_type": "code",
   "execution_count": 36,
   "metadata": {},
   "outputs": [
    {
     "data": {
      "text/plain": [
       "<matplotlib.axes._subplots.AxesSubplot at 0x7f8ce0eb5b38>"
      ]
     },
     "execution_count": 36,
     "metadata": {},
     "output_type": "execute_result"
    },
    {
     "data": {
      "image/png": "[encoded data removed]",
      "text/plain": [
       "<Figure size 432x288 with 1 Axes>"
      ]
     },
     "metadata": {
      "needs_background": "light"
     },
     "output_type": "display_data"
    }
   ],
   "source": [
    "# Plot the annualized volatility forecast using pd.plot():\n",
    "# (Make sure to use dropna() on the forecasts before plotting):\n",
    "# (There are 252 trading days in a year)\n",
    "# Note: each column in forecasts.variance represents one day ahead: \n",
    "plot_title = f\"Forecast Volatility over the next {forecast_horizon} days\"\n",
    "model_forecasts = # YOUR CODE HERE \n",
    "model_forecasts.dropna().T.plot(title=plot_title) "
   ]
  },
  {
   "cell_type": "code",
   "execution_count": 38,
   "metadata": {},
   "outputs": [
    {
     "data": {
      "image/png": "[encoded data removed]",
      "text/plain": [
       "<Figure size 432x288 with 2 Axes>"
      ]
     },
     "metadata": {
      "needs_background": "light"
     },
     "output_type": "display_data"
    }
   ],
   "source": [
    "fig = # YOUR CODE HERE "
   ]
  },
  {
   "cell_type": "markdown",
   "metadata": {},
   "source": [
    " # Out-of-Sample Predictions\n",
    " So far, you\"ve used the full dataset to construct a model. Let's try a more rigorous technique."
   ]
  },
  {
   "cell_type": "markdown",
   "metadata": {},
   "source": [
    "### Out-of-Sample Predictions: Slicing the Data into Training and Test Set (\"One Shot\" Approach)\n",
    "\n",
    "Using the SKLearn regression model and just lagged returns as the independent variable, start by estimating a model using **training data** from January, 2015 through December 2017."
   ]
  },
  {
   "cell_type": "code",
   "execution_count": 75,
   "metadata": {},
   "outputs": [
    {
     "data": {
      "text/html": [
       "<div>\n",
       "<style scoped>\n",
       "    .dataframe tbody tr th:only-of-type {\n",
       "        vertical-align: middle;\n",
       "    }\n",
       "\n",
       "    .dataframe tbody tr th {\n",
       "        vertical-align: top;\n",
       "    }\n",
       "\n",
       "    .dataframe thead th {\n",
       "        text-align: right;\n",
       "    }\n",
       "</style>\n",
       "<table border=\"1\" class=\"dataframe\">\n",
       "  <thead>\n",
       "    <tr style=\"text-align: right;\">\n",
       "      <th></th>\n",
       "      <th>Futures Return</th>\n",
       "      <th>Lagged Return</th>\n",
       "    </tr>\n",
       "    <tr>\n",
       "      <th>Date</th>\n",
       "      <th></th>\n",
       "      <th></th>\n",
       "    </tr>\n",
       "  </thead>\n",
       "  <tbody>\n",
       "    <tr>\n",
       "      <th>2014-03-04</th>\n",
       "      <td>-0.801298306</td>\n",
       "      <td>0.346055980</td>\n",
       "    </tr>\n",
       "    <tr>\n",
       "      <th>2014-03-06</th>\n",
       "      <td>-0.766871166</td>\n",
       "      <td>-0.801298306</td>\n",
       "    </tr>\n",
       "    <tr>\n",
       "      <th>2014-03-07</th>\n",
       "      <td>-0.247295209</td>\n",
       "      <td>-0.766871166</td>\n",
       "    </tr>\n",
       "    <tr>\n",
       "      <th>2014-03-10</th>\n",
       "      <td>0.103295114</td>\n",
       "      <td>-0.247295209</td>\n",
       "    </tr>\n",
       "    <tr>\n",
       "      <th>2014-03-11</th>\n",
       "      <td>0.278609019</td>\n",
       "      <td>0.103295114</td>\n",
       "    </tr>\n",
       "  </tbody>\n",
       "</table>\n",
       "</div>"
      ],
      "text/plain": [
       "            Futures Return  Lagged Return\n",
       "Date                                     \n",
       "2014-03-04    -0.801298306    0.346055980\n",
       "2014-03-06    -0.766871166   -0.801298306\n",
       "2014-03-07    -0.247295209   -0.766871166\n",
       "2014-03-10     0.103295114   -0.247295209\n",
       "2014-03-11     0.278609019    0.103295114"
      ]
     },
     "execution_count": 75,
     "metadata": {},
     "output_type": "execute_result"
    }
   ],
   "source": [
    "# If you haven\"t already, create and add \"Futures Return\" and \"Lagged Futures Return\" variables to your dataframe:\n",
    "# Replace inf, -inf with np.nan, then drop any row with at least one np.nan in the dataframe\n",
    "fut[\"Futures Return\"] = # YOUR CODE HERE \n",
    "fut[\"Lagged Return\"] = # YOUR CODE HERE \n",
    "fut = fut.replace(-np.inf, np.nan).dropna()\n",
    "fut[[\"Futures Return\", \"Lagged Return\"]].head()"
   ]
  },
  {
   "cell_type": "code",
   "execution_count": 76,
   "metadata": {},
   "outputs": [
    {
     "name": "stdout",
     "output_type": "stream",
     "text": [
      "Training set covers from  2015-01-02 00:00:00  to  2017-12-29 00:00:00\n"
     ]
    },
    {
     "data": {
      "text/html": [
       "<div>\n",
       "<style scoped>\n",
       "    .dataframe tbody tr th:only-of-type {\n",
       "        vertical-align: middle;\n",
       "    }\n",
       "\n",
       "    .dataframe tbody tr th {\n",
       "        vertical-align: top;\n",
       "    }\n",
       "\n",
       "    .dataframe thead th {\n",
       "        text-align: right;\n",
       "    }\n",
       "</style>\n",
       "<table border=\"1\" class=\"dataframe\">\n",
       "  <thead>\n",
       "    <tr style=\"text-align: right;\">\n",
       "      <th></th>\n",
       "      <th>Open</th>\n",
       "      <th>High</th>\n",
       "      <th>Low</th>\n",
       "      <th>Last</th>\n",
       "      <th>Change</th>\n",
       "      <th>Settle</th>\n",
       "      <th>Volume</th>\n",
       "      <th>Previous Day Open Interest</th>\n",
       "      <th>Futures Return</th>\n",
       "      <th>Lagged Return</th>\n",
       "    </tr>\n",
       "    <tr>\n",
       "      <th>Date</th>\n",
       "      <th></th>\n",
       "      <th></th>\n",
       "      <th></th>\n",
       "      <th></th>\n",
       "      <th></th>\n",
       "      <th></th>\n",
       "      <th></th>\n",
       "      <th></th>\n",
       "      <th></th>\n",
       "      <th></th>\n",
       "    </tr>\n",
       "  </thead>\n",
       "  <tbody>\n",
       "    <tr>\n",
       "      <th>2015-01-02</th>\n",
       "      <td>8352.000000000</td>\n",
       "      <td>8353.000000000</td>\n",
       "      <td>8286.000000000</td>\n",
       "      <td>8310.000000000</td>\n",
       "      <td>34.000000000</td>\n",
       "      <td>8315.000000000</td>\n",
       "      <td>101438.000000000</td>\n",
       "      <td>222022.000000000</td>\n",
       "      <td>-0.407234399</td>\n",
       "      <td>-0.262812089</td>\n",
       "    </tr>\n",
       "    <tr>\n",
       "      <th>2015-01-05</th>\n",
       "      <td>8305.000000000</td>\n",
       "      <td>8382.000000000</td>\n",
       "      <td>8293.000000000</td>\n",
       "      <td>8371.000000000</td>\n",
       "      <td>56.000000000</td>\n",
       "      <td>8371.000000000</td>\n",
       "      <td>165487.000000000</td>\n",
       "      <td>226085.000000000</td>\n",
       "      <td>0.673481660</td>\n",
       "      <td>-0.407234399</td>\n",
       "    </tr>\n",
       "  </tbody>\n",
       "</table>\n",
       "</div>"
      ],
      "text/plain": [
       "                     Open           High            Low           Last  \\\n",
       "Date                                                                     \n",
       "2015-01-02 8352.000000000 8353.000000000 8286.000000000 8310.000000000   \n",
       "2015-01-05 8305.000000000 8382.000000000 8293.000000000 8371.000000000   \n",
       "\n",
       "                 Change         Settle           Volume  \\\n",
       "Date                                                      \n",
       "2015-01-02 34.000000000 8315.000000000 101438.000000000   \n",
       "2015-01-05 56.000000000 8371.000000000 165487.000000000   \n",
       "\n",
       "            Previous Day Open Interest  Futures Return  Lagged Return  \n",
       "Date                                                                   \n",
       "2015-01-02            222022.000000000    -0.407234399   -0.262812089  \n",
       "2015-01-05            226085.000000000     0.673481660   -0.407234399  "
      ]
     },
     "execution_count": 76,
     "metadata": {},
     "output_type": "execute_result"
    }
   ],
   "source": [
    "# Using datetime index slicing, create a \"training\" data dataframe using data from just 2015-01-01 to 2017-12-31\n",
    "train = # YOUR CODE HERE \n",
    "print(\"Training set covers from \", train.index.min(), \" to \", train.index.max())\n",
    "train.head(2)"
   ]
  },
  {
   "cell_type": "code",
   "execution_count": 77,
   "metadata": {},
   "outputs": [
    {
     "name": "stdout",
     "output_type": "stream",
     "text": [
      "Test set covers from  2018-01-02 00:00:00  to  2019-07-05 00:00:00\n"
     ]
    },
    {
     "data": {
      "text/html": [
       "<div>\n",
       "<style scoped>\n",
       "    .dataframe tbody tr th:only-of-type {\n",
       "        vertical-align: middle;\n",
       "    }\n",
       "\n",
       "    .dataframe tbody tr th {\n",
       "        vertical-align: top;\n",
       "    }\n",
       "\n",
       "    .dataframe thead th {\n",
       "        text-align: right;\n",
       "    }\n",
       "</style>\n",
       "<table border=\"1\" class=\"dataframe\">\n",
       "  <thead>\n",
       "    <tr style=\"text-align: right;\">\n",
       "      <th></th>\n",
       "      <th>Open</th>\n",
       "      <th>High</th>\n",
       "      <th>Low</th>\n",
       "      <th>Last</th>\n",
       "      <th>Change</th>\n",
       "      <th>Settle</th>\n",
       "      <th>Volume</th>\n",
       "      <th>Previous Day Open Interest</th>\n",
       "      <th>Futures Return</th>\n",
       "      <th>Lagged Return</th>\n",
       "    </tr>\n",
       "    <tr>\n",
       "      <th>Date</th>\n",
       "      <th></th>\n",
       "      <th></th>\n",
       "      <th></th>\n",
       "      <th></th>\n",
       "      <th></th>\n",
       "      <th></th>\n",
       "      <th></th>\n",
       "      <th></th>\n",
       "      <th></th>\n",
       "      <th></th>\n",
       "    </tr>\n",
       "  </thead>\n",
       "  <tbody>\n",
       "    <tr>\n",
       "      <th>2018-01-02</th>\n",
       "      <td>8909.500000000</td>\n",
       "      <td>8957.500000000</td>\n",
       "      <td>8898.500000000</td>\n",
       "      <td>8938.000000000</td>\n",
       "      <td>26.500000000</td>\n",
       "      <td>8940.500000000</td>\n",
       "      <td>96714.000000000</td>\n",
       "      <td>227884.000000000</td>\n",
       "      <td>0.297285169</td>\n",
       "      <td>0.224870699</td>\n",
       "    </tr>\n",
       "    <tr>\n",
       "      <th>2018-01-03</th>\n",
       "      <td>8943.000000000</td>\n",
       "      <td>8947.500000000</td>\n",
       "      <td>8913.000000000</td>\n",
       "      <td>8921.000000000</td>\n",
       "      <td>21.500000000</td>\n",
       "      <td>8919.000000000</td>\n",
       "      <td>93498.000000000</td>\n",
       "      <td>226582.000000000</td>\n",
       "      <td>-0.240478720</td>\n",
       "      <td>0.297285169</td>\n",
       "    </tr>\n",
       "  </tbody>\n",
       "</table>\n",
       "</div>"
      ],
      "text/plain": [
       "                     Open           High            Low           Last  \\\n",
       "Date                                                                     \n",
       "2018-01-02 8909.500000000 8957.500000000 8898.500000000 8938.000000000   \n",
       "2018-01-03 8943.000000000 8947.500000000 8913.000000000 8921.000000000   \n",
       "\n",
       "                 Change         Settle          Volume  \\\n",
       "Date                                                     \n",
       "2018-01-02 26.500000000 8940.500000000 96714.000000000   \n",
       "2018-01-03 21.500000000 8919.000000000 93498.000000000   \n",
       "\n",
       "            Previous Day Open Interest  Futures Return  Lagged Return  \n",
       "Date                                                                   \n",
       "2018-01-02            227884.000000000     0.297285169    0.224870699  \n",
       "2018-01-03            226582.000000000    -0.240478720    0.297285169  "
      ]
     },
     "execution_count": 77,
     "metadata": {},
     "output_type": "execute_result"
    }
   ],
   "source": [
    "# Using datetime index slicing, create a \"test\" data dataframe using data from 2018-01-01 through the end of the data\n",
    "test = # YOUR CODE HERE \n",
    "print(\"Test set covers from \", test.index.min(), \" to \", test.index.max())\n",
    "test.head(2)"
   ]
  },
  {
   "cell_type": "markdown",
   "metadata": {},
   "source": [
    "  * Then use the model developed on a test set using data from 2018 onward."
   ]
  },
  {
   "cell_type": "code",
   "execution_count": 78,
   "metadata": {},
   "outputs": [],
   "source": [
    "# Create four dataframes:\n",
    "# X_train (training set using just the independent variables), X_test (test set of of just the independent variables)\n",
    "# Y_train (training set using just the \"y\" variable, i.e., \"Futures Return\"), Y_test (test set of just the \"y\" variable):\n",
    "X_train = # YOUR CODE HERE \n",
    "y_train = # YOUR CODE HERE \n",
    "X_test = # YOUR CODE HERE \n",
    "y_test = # YOUR CODE HERE "
   ]
  },
  {
   "cell_type": "code",
   "execution_count": 79,
   "metadata": {},
   "outputs": [],
   "source": [
    "# Fit a SKLearn linear regression using  just the training set (X_train, Y_train):\n",
    "# YOUR CODE HERE \n",
    "\n",
    "# Score how that model works using only the test data\n",
    "# YOUR CODE HERE \n",
    "\n",
    "# And make a prediction of \"y\" values for just the test dataset\n",
    "predictions = # YOUR CODE HERE \n",
    "\n",
    "# Assemble actual y data (Y_test) with predicted y data (from just above) into two columns in a dataframe:\n",
    "Results = y_test.to_frame()\n",
    "Results[\"Predicted Return\"] = predictions"
   ]
  },
  {
   "cell_type": "code",
   "execution_count": 80,
   "metadata": {},
   "outputs": [
    {
     "data": {
      "text/html": [
       "<div>\n",
       "<style scoped>\n",
       "    .dataframe tbody tr th:only-of-type {\n",
       "        vertical-align: middle;\n",
       "    }\n",
       "\n",
       "    .dataframe tbody tr th {\n",
       "        vertical-align: top;\n",
       "    }\n",
       "\n",
       "    .dataframe thead th {\n",
       "        text-align: right;\n",
       "    }\n",
       "</style>\n",
       "<table border=\"1\" class=\"dataframe\">\n",
       "  <thead>\n",
       "    <tr style=\"text-align: right;\">\n",
       "      <th></th>\n",
       "      <th>Futures Return</th>\n",
       "      <th>Predicted Return</th>\n",
       "    </tr>\n",
       "    <tr>\n",
       "      <th>Date</th>\n",
       "      <th></th>\n",
       "      <th></th>\n",
       "    </tr>\n",
       "  </thead>\n",
       "  <tbody>\n",
       "    <tr>\n",
       "      <th>2018-01-02</th>\n",
       "      <td>0.297285169</td>\n",
       "      <td>0.004644804</td>\n",
       "    </tr>\n",
       "    <tr>\n",
       "      <th>2018-01-03</th>\n",
       "      <td>-0.240478720</td>\n",
       "      <td>0.002612746</td>\n",
       "    </tr>\n",
       "    <tr>\n",
       "      <th>2018-01-04</th>\n",
       "      <td>-0.213028366</td>\n",
       "      <td>0.017703208</td>\n",
       "    </tr>\n",
       "    <tr>\n",
       "      <th>2018-01-05</th>\n",
       "      <td>-0.353932584</td>\n",
       "      <td>0.016932910</td>\n",
       "    </tr>\n",
       "    <tr>\n",
       "      <th>2018-01-08</th>\n",
       "      <td>0.062017252</td>\n",
       "      <td>0.020886894</td>\n",
       "    </tr>\n",
       "  </tbody>\n",
       "</table>\n",
       "</div>"
      ],
      "text/plain": [
       "            Futures Return  Predicted Return\n",
       "Date                                        \n",
       "2018-01-02     0.297285169       0.004644804\n",
       "2018-01-03    -0.240478720       0.002612746\n",
       "2018-01-04    -0.213028366       0.017703208\n",
       "2018-01-05    -0.353932584       0.016932910\n",
       "2018-01-08     0.062017252       0.020886894"
      ]
     },
     "execution_count": 80,
     "metadata": {},
     "output_type": "execute_result"
    }
   ],
   "source": [
    "Results.head()"
   ]
  },
  {
   "cell_type": "markdown",
   "metadata": {},
   "source": [
    "\n",
    "  * Compare the RMSE from the model using the test sample to the RMSE when using the full-sample. Are the results surprising?"
   ]
  },
  {
   "cell_type": "code",
   "execution_count": 81,
   "metadata": {},
   "outputs": [
    {
     "name": "stdout",
     "output_type": "stream",
     "text": [
      "Out-of-Sample Root Mean Squared Error (RMSE): 0.40994570155874877\n"
     ]
    }
   ],
   "source": [
    "# Calculate the mean_squared_error (MSE) on actual versus predicted test \"y\" \n",
    "# (Hint: use the dataframe above)\n",
    "mse = # YOUR CODE HERE \n",
    "\n",
    "# Using that mean-squared-error, calculate the root-mean-squared error (RMSE):\n",
    "one_shot_rmse = # YOUR CODE HERE \n",
    "print(f\"Out-of-Sample Root Mean Squared Error (RMSE): {one_shot_rmse}\")"
   ]
  },
  {
   "cell_type": "code",
   "execution_count": 82,
   "metadata": {},
   "outputs": [
    {
     "name": "stdout",
     "output_type": "stream",
     "text": [
      "In-sample Root Mean Squared Error (RMSE): 0.6257993297323167\n"
     ]
    }
   ],
   "source": [
    "# Construct a dataframe using just the \"y\" training data:\n",
    "in_sample_results = y_train.to_frame()\n",
    "\n",
    "# Add a column of \"in-sample\" predictions to that dataframe:  \n",
    "in_sample_results[\"In-sample Predictions\"] = # YOUR CODE HERE \n",
    "\n",
    "# Calculate in-sample mean_squared_error (for comparison to out-of-sample)\n",
    "in_sample_mse = # YOUR CODE HERE \n",
    "\n",
    "# Calculate in-sample root mean_squared_error (for comparison to out-of-sample)\n",
    "in_sample_rmse = # YOUR CODE HERE \n",
    "print(f\"In-sample Root Mean Squared Error (RMSE): {in_sample_rmse}\")"
   ]
  },
  {
   "cell_type": "markdown",
   "metadata": {},
   "source": [
    "### Out-of-Sample Predictions: The Rolling Out-of-Sample Approach\n",
    "\n",
    "Let's take the model above (i.e., SKLearn predicting futures returns with lagged futures returns), but apply it using a rolling, out of sample approach. This method, which is specific to time-series predictions, will be a more realistic and more rigorous approximation of how the model would perform in real life.\n",
    "\n",
    "Specifically, start at the beginning of the dataset and \"roll forward\" one week at a time, using a 26-week (6 month) rolling training window."
   ]
  },
  {
   "cell_type": "code",
   "execution_count": 83,
   "metadata": {},
   "outputs": [],
   "source": [
    "# Main Idea: Each week, re-estimate the model, then trade on it the following week. \n",
    "# Continue this \"out of sample\" approach throughout the dataset."
   ]
  },
  {
   "cell_type": "code",
   "execution_count": 84,
   "metadata": {},
   "outputs": [],
   "source": [
    "# Construct an empty placeholder dataframe, with a column named \"Out-of-Sample Predictions\"\n",
    "# (Each iteration of the loop, we\"ll append that week\"s predictions to this DataFrame)\n",
    "all_predictions = pd.DataFrame(columns=[\"Out-of-Sample Predictions\"])\n",
    "# Construct an empty placeholder dataframe, with a column named \"Actual Returns\"\n",
    "# (Each iteration of the loop, we\"ll append that week\"s predictions to this DataFrame)\n",
    "all_actuals = pd.DataFrame(columns=[\"Actual Returns\"])\n",
    "\n",
    "# construct a list of all pandas weekly periods that are in the dataset:\n",
    "weeks = fut.index.to_period(\"w\").unique()\n",
    "\n",
    "# Specify a training window (26 weeks (6 months) of data)\n",
    "training_window = 26  \n",
    "\n",
    "# Write a for loop that iterates from 0 to the number of weeks (minus the training window) in the dataset:\n",
    "# We have to subtract the length of the training window because\n",
    "# Going beyond this goes beyond the length of our dataset    \n",
    "for i in range(0, (len(weeks) - training_window - 1)):\n",
    "# Create an datetime object to mark the beginning of the training window (which changes, for each \"i\"):     \n",
    "    beginning_training_week = # YOUR CODE HERE \n",
    "# Create a string variable from that time object with format=\"%Y-%m-%d\"\n",
    "    start_training_period = # YOUR CODE HERE \n",
    "# Create an datetime object to mark the ending of the training window (which would be \"i\"+training_window_length):  \n",
    "    ending_training_week = # YOUR CODE HERE \n",
    "# Create a string variable from that time object with format=\"%Y-%m-%d\"\n",
    "    end_training_period = # YOUR CODE HERE \n",
    "# Create a datetime object that marks the week of test-window data:\n",
    "    test_week = # YOUR CODE HERE \n",
    "# Create a string variable from the beginning of that time object with format=\"%Y-%m-%d\"\n",
    "    start_test_week = # YOUR CODE HERE \n",
    "# Create a string variable from the end of that time object with format=\"%Y-%m-%d\"    \n",
    "    end_test_week = # YOUR CODE HERE \n",
    "# Create a dataframe that includes only data during the training window\n",
    "# (Use datetime slicing and the two start and end string dates constructed above):\n",
    "    train =  # YOUR CODE HERE \n",
    "# Do the same to construct a dataframe including data in the test sample window:    \n",
    "    test =  # YOUR CODE HERE \n",
    "# Create four dataframes:\n",
    "# X_train (training set using just the independent variables), X_test (test set of of just the independent variables)\n",
    "# Y_train (training set using just the \"y\" variable, i.e., \"Futures Return\"), Y_test (test set of just the \"y\" variable):\n",
    "    X_train = train[\"Lagged Return\"].to_frame()\n",
    "    y_train = train[\"Futures Return\"]\n",
    "    X_test = test[\"Lagged Return\"].to_frame()\n",
    "    y_test = test[\"Futures Return\"]\n",
    "# Fit a linear regression to the two training dataframes\n",
    "    # YOUR CODE HERE \n",
    "# Use the model to construct predictions on the X test dataframe,\n",
    "# and save them as a temporary pandas DataFrame \n",
    "    predictions =  # YOUR CODE HERE \n",
    "    predictions = pd.DataFrame(predictions, index=X_test.index, columns=[\"Out-of-Sample Predictions\"])\n",
    "# Create a temporary DataFrame of the actual \"y\"s in the test dataframe, with column name=\"Actual Returns\": \n",
    "    actuals = pd.DataFrame(y_test, index=y_test.index)\n",
    "    actuals.columns = [\"Actual Returns\"]  \n",
    "# Append these two dataframes (predictions and actuals) to the two master DataFrames built outside the loop\n",
    "    all_predictions = all_predictions.append(predictions)\n",
    "    all_actuals = all_actuals.append(actuals)   \n",
    "    # Once the loop is done, concatenate (combine) the two dataframes to a final \"Results\" dataframe:    \n",
    "    Results =  # YOUR CODE HERE \n"
   ]
  },
  {
   "cell_type": "code",
   "execution_count": 85,
   "metadata": {},
   "outputs": [
    {
     "data": {
      "text/plain": [
       "<matplotlib.axes._subplots.AxesSubplot at 0x7f8d4039c5c0>"
      ]
     },
     "execution_count": 85,
     "metadata": {},
     "output_type": "execute_result"
    },
    {
     "data": {
      "image/png": "[encoded data removed]",
      "text/plain": [
       "<Figure size 432x288 with 1 Axes>"
      ]
     },
     "metadata": {
      "needs_background": "light"
     },
     "output_type": "display_data"
    }
   ],
   "source": [
    "# Plot the results:\n",
    "# YOUR CODE HERE "
   ]
  },
  {
   "cell_type": "markdown",
   "metadata": {},
   "source": [
    "  * Evaluate the model RMSE.\n",
    "      * Which has the better RMSE--this more robust method, or the single (\"one-shot\") training and test split just above?"
   ]
  },
  {
   "cell_type": "code",
   "execution_count": 86,
   "metadata": {},
   "outputs": [
    {
     "data": {
      "text/plain": [
       "0.5738123732985758"
      ]
     },
     "execution_count": 86,
     "metadata": {},
     "output_type": "execute_result"
    }
   ],
   "source": [
    "# Calculate the mean_squared_error on the Results DataFrame:\n",
    "# (This compares the average (squared) difference between actual and model-predicted returns)\n",
    "rolling_mse = # YOUR CODE HERE \n",
    "# Then use that to calculate the Root-Mean-Squared Error (RMSE):\n",
    "rolling_rmse = # YOUR CODE HERE \n",
    "rolling_rmse"
   ]
  },
  {
   "cell_type": "code",
   "execution_count": 87,
   "metadata": {},
   "outputs": [
    {
     "data": {
      "text/plain": [
       "0.40994570155874877"
      ]
     },
     "execution_count": 87,
     "metadata": {},
     "output_type": "execute_result"
    }
   ],
   "source": [
    "# Compare the RMSE from the training-testing single split versus the rolling out-of-sample approach we just did:\n",
    "# YOUR CODE HERE "
   ]
  },
  {
   "cell_type": "markdown",
   "metadata": {},
   "source": [
    "Challenge: Can you calculate the out-of-sample R2? Based on this, should we bet money on this model?"
   ]
  },
  {
   "cell_type": "code",
   "execution_count": 89,
   "metadata": {},
   "outputs": [
    {
     "name": "stdout",
     "output_type": "stream",
     "text": [
      "Out-of-Sample R-squared: -0.022563606609533604\n"
     ]
    }
   ],
   "source": [
    "# YOUR CODE HERE "
   ]
  }
 ],
 "metadata": {
  "file_extension": ".py",
  "kernelspec": {
   "display_name": "Python 3",
   "language": "python",
   "name": "python3"
  },
  "language_info": {
   "codemirror_mode": {
    "name": "ipython",
    "version": 3
   },
   "file_extension": ".py",
   "mimetype": "text/x-python",
   "name": "python",
   "nbconvert_exporter": "python",
   "pygments_lexer": "ipython3",
   "version": "3.7.3"
  },
  "mimetype": "text/x-python",
  "name": "python",
  "npconvert_exporter": "python",
  "pygments_lexer": "ipython3",
  "version": 3
 },
 "nbformat": 4,
 "nbformat_minor": 4
}
