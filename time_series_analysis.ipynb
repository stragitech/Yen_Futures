{
 "cells": [
  {
   "cell_type": "code",
   "execution_count": 22,
   "metadata": {},
   "outputs": [],
   "source": [
    "import datetime as dt\n",
    "import pandas as pd\n",
    "import numpy as np\n",
    "import datetime as dt\n",
    "import matplotlib.pyplot as plt\n",
    "import quandl as ql\n",
    "import statsmodels.formula.api as smf\n",
    "pd.set_option('display.float_format', lambda x: '%.9f' % x)\n",
    "import warnings\n",
    "warnings.filterwarnings('ignore')\n",
    "%matplotlib inline\n",
    "import os\n",
    "ql.ApiConfig.api_key = os.getenv('QUANDL_API_KEY')"
   ]
  },
  {
   "cell_type": "markdown",
   "metadata": {},
   "source": [
    " # Return Forecasting:  Read Historical Daily Yen Futures Data from Quandl\n",
    " In this activity, you will pull historical Dollar-Yen exchange rate futures data from Quandl and test whether there is any predictable behavior using time-series models.\n",
    "\n",
    " * First, you'll need to download the futures data using the Quandl API, and return it as a Pandas DataFrame.\n",
    " * You'll need a Quandl API key (free): https://www.quandl.com/\n",
    " * (Use code \"CHRIS/CME_JY1\")\n",
    " * Trim the resulting data to include only from the the year 1990 through today."
   ]
  },
  {
   "cell_type": "code",
   "execution_count": 23,
   "metadata": {},
   "outputs": [
    {
     "data": {
      "text/html": [
       "<div>\n",
       "<style scoped>\n",
       "    .dataframe tbody tr th:only-of-type {\n",
       "        vertical-align: middle;\n",
       "    }\n",
       "\n",
       "    .dataframe tbody tr th {\n",
       "        vertical-align: top;\n",
       "    }\n",
       "\n",
       "    .dataframe thead th {\n",
       "        text-align: right;\n",
       "    }\n",
       "</style>\n",
       "<table border=\"1\" class=\"dataframe\">\n",
       "  <thead>\n",
       "    <tr style=\"text-align: right;\">\n",
       "      <th></th>\n",
       "      <th>Open</th>\n",
       "      <th>High</th>\n",
       "      <th>Low</th>\n",
       "      <th>Last</th>\n",
       "      <th>Change</th>\n",
       "      <th>Settle</th>\n",
       "      <th>Volume</th>\n",
       "      <th>Previous Day Open Interest</th>\n",
       "    </tr>\n",
       "    <tr>\n",
       "      <th>Date</th>\n",
       "      <th></th>\n",
       "      <th></th>\n",
       "      <th></th>\n",
       "      <th></th>\n",
       "      <th></th>\n",
       "      <th></th>\n",
       "      <th></th>\n",
       "      <th></th>\n",
       "    </tr>\n",
       "  </thead>\n",
       "  <tbody>\n",
       "    <tr>\n",
       "      <th>2019-10-02</th>\n",
       "      <td>9325.000000000</td>\n",
       "      <td>9388.000000000</td>\n",
       "      <td>9313.500000000</td>\n",
       "      <td>9373.500000000</td>\n",
       "      <td>45.000000000</td>\n",
       "      <td>9373.500000000</td>\n",
       "      <td>141562.000000000</td>\n",
       "      <td>147082.000000000</td>\n",
       "    </tr>\n",
       "    <tr>\n",
       "      <th>2019-10-03</th>\n",
       "      <td>9377.000000000</td>\n",
       "      <td>9434.000000000</td>\n",
       "      <td>9362.500000000</td>\n",
       "      <td>9396.000000000</td>\n",
       "      <td>24.000000000</td>\n",
       "      <td>9397.500000000</td>\n",
       "      <td>160927.000000000</td>\n",
       "      <td>141349.000000000</td>\n",
       "    </tr>\n",
       "    <tr>\n",
       "      <th>2019-10-04</th>\n",
       "      <td>9398.500000000</td>\n",
       "      <td>9446.500000000</td>\n",
       "      <td>9376.500000000</td>\n",
       "      <td>9394.500000000</td>\n",
       "      <td>2.000000000</td>\n",
       "      <td>9399.500000000</td>\n",
       "      <td>121572.000000000</td>\n",
       "      <td>140800.000000000</td>\n",
       "    </tr>\n",
       "    <tr>\n",
       "      <th>2019-10-07</th>\n",
       "      <td>9417.000000000</td>\n",
       "      <td>9417.500000000</td>\n",
       "      <td>9345.000000000</td>\n",
       "      <td>9364.500000000</td>\n",
       "      <td>39.000000000</td>\n",
       "      <td>9360.500000000</td>\n",
       "      <td>96834.000000000</td>\n",
       "      <td>145171.000000000</td>\n",
       "    </tr>\n",
       "    <tr>\n",
       "      <th>2019-10-08</th>\n",
       "      <td>9366.500000000</td>\n",
       "      <td>9403.500000000</td>\n",
       "      <td>9347.500000000</td>\n",
       "      <td>9376.500000000</td>\n",
       "      <td>16.000000000</td>\n",
       "      <td>9376.500000000</td>\n",
       "      <td>129418.000000000</td>\n",
       "      <td>144640.000000000</td>\n",
       "    </tr>\n",
       "  </tbody>\n",
       "</table>\n",
       "</div>"
      ],
      "text/plain": [
       "                     Open           High            Low           Last  \\\n",
       "Date                                                                     \n",
       "2019-10-02 9325.000000000 9388.000000000 9313.500000000 9373.500000000   \n",
       "2019-10-03 9377.000000000 9434.000000000 9362.500000000 9396.000000000   \n",
       "2019-10-04 9398.500000000 9446.500000000 9376.500000000 9394.500000000   \n",
       "2019-10-07 9417.000000000 9417.500000000 9345.000000000 9364.500000000   \n",
       "2019-10-08 9366.500000000 9403.500000000 9347.500000000 9376.500000000   \n",
       "\n",
       "                 Change         Settle           Volume  \\\n",
       "Date                                                      \n",
       "2019-10-02 45.000000000 9373.500000000 141562.000000000   \n",
       "2019-10-03 24.000000000 9397.500000000 160927.000000000   \n",
       "2019-10-04  2.000000000 9399.500000000 121572.000000000   \n",
       "2019-10-07 39.000000000 9360.500000000  96834.000000000   \n",
       "2019-10-08 16.000000000 9376.500000000 129418.000000000   \n",
       "\n",
       "            Previous Day Open Interest  \n",
       "Date                                    \n",
       "2019-10-02            147082.000000000  \n",
       "2019-10-03            141349.000000000  \n",
       "2019-10-04            140800.000000000  \n",
       "2019-10-07            145171.000000000  \n",
       "2019-10-08            144640.000000000  "
      ]
     },
     "execution_count": 23,
     "metadata": {},
     "output_type": "execute_result"
    }
   ],
   "source": [
    "# Futures contract on the Yen-dollar exchange rate:\n",
    "# This is the continuous chain of the futures contracts that are 1 month to expiration\n",
    "fut = ql.get(\"CHRIS/CME_JY1\")\n",
    "fut.tail()"
   ]
  },
  {
   "cell_type": "code",
   "execution_count": 24,
   "metadata": {},
   "outputs": [
    {
     "data": {
      "text/html": [
       "<div>\n",
       "<style scoped>\n",
       "    .dataframe tbody tr th:only-of-type {\n",
       "        vertical-align: middle;\n",
       "    }\n",
       "\n",
       "    .dataframe tbody tr th {\n",
       "        vertical-align: top;\n",
       "    }\n",
       "\n",
       "    .dataframe thead th {\n",
       "        text-align: right;\n",
       "    }\n",
       "</style>\n",
       "<table border=\"1\" class=\"dataframe\">\n",
       "  <thead>\n",
       "    <tr style=\"text-align: right;\">\n",
       "      <th></th>\n",
       "      <th>Open</th>\n",
       "      <th>High</th>\n",
       "      <th>Low</th>\n",
       "      <th>Last</th>\n",
       "      <th>Change</th>\n",
       "      <th>Settle</th>\n",
       "      <th>Volume</th>\n",
       "      <th>Previous Day Open Interest</th>\n",
       "    </tr>\n",
       "    <tr>\n",
       "      <th>Date</th>\n",
       "      <th></th>\n",
       "      <th></th>\n",
       "      <th></th>\n",
       "      <th></th>\n",
       "      <th></th>\n",
       "      <th></th>\n",
       "      <th></th>\n",
       "      <th></th>\n",
       "    </tr>\n",
       "  </thead>\n",
       "  <tbody>\n",
       "    <tr>\n",
       "      <th>2019-10-02</th>\n",
       "      <td>9325.000000000</td>\n",
       "      <td>9388.000000000</td>\n",
       "      <td>9313.500000000</td>\n",
       "      <td>9373.500000000</td>\n",
       "      <td>45.000000000</td>\n",
       "      <td>9373.500000000</td>\n",
       "      <td>141562.000000000</td>\n",
       "      <td>147082.000000000</td>\n",
       "    </tr>\n",
       "    <tr>\n",
       "      <th>2019-10-03</th>\n",
       "      <td>9377.000000000</td>\n",
       "      <td>9434.000000000</td>\n",
       "      <td>9362.500000000</td>\n",
       "      <td>9396.000000000</td>\n",
       "      <td>24.000000000</td>\n",
       "      <td>9397.500000000</td>\n",
       "      <td>160927.000000000</td>\n",
       "      <td>141349.000000000</td>\n",
       "    </tr>\n",
       "    <tr>\n",
       "      <th>2019-10-04</th>\n",
       "      <td>9398.500000000</td>\n",
       "      <td>9446.500000000</td>\n",
       "      <td>9376.500000000</td>\n",
       "      <td>9394.500000000</td>\n",
       "      <td>2.000000000</td>\n",
       "      <td>9399.500000000</td>\n",
       "      <td>121572.000000000</td>\n",
       "      <td>140800.000000000</td>\n",
       "    </tr>\n",
       "    <tr>\n",
       "      <th>2019-10-07</th>\n",
       "      <td>9417.000000000</td>\n",
       "      <td>9417.500000000</td>\n",
       "      <td>9345.000000000</td>\n",
       "      <td>9364.500000000</td>\n",
       "      <td>39.000000000</td>\n",
       "      <td>9360.500000000</td>\n",
       "      <td>96834.000000000</td>\n",
       "      <td>145171.000000000</td>\n",
       "    </tr>\n",
       "    <tr>\n",
       "      <th>2019-10-08</th>\n",
       "      <td>9366.500000000</td>\n",
       "      <td>9403.500000000</td>\n",
       "      <td>9347.500000000</td>\n",
       "      <td>9376.500000000</td>\n",
       "      <td>16.000000000</td>\n",
       "      <td>9376.500000000</td>\n",
       "      <td>129418.000000000</td>\n",
       "      <td>144640.000000000</td>\n",
       "    </tr>\n",
       "  </tbody>\n",
       "</table>\n",
       "</div>"
      ],
      "text/plain": [
       "                     Open           High            Low           Last  \\\n",
       "Date                                                                     \n",
       "2019-10-02 9325.000000000 9388.000000000 9313.500000000 9373.500000000   \n",
       "2019-10-03 9377.000000000 9434.000000000 9362.500000000 9396.000000000   \n",
       "2019-10-04 9398.500000000 9446.500000000 9376.500000000 9394.500000000   \n",
       "2019-10-07 9417.000000000 9417.500000000 9345.000000000 9364.500000000   \n",
       "2019-10-08 9366.500000000 9403.500000000 9347.500000000 9376.500000000   \n",
       "\n",
       "                 Change         Settle           Volume  \\\n",
       "Date                                                      \n",
       "2019-10-02 45.000000000 9373.500000000 141562.000000000   \n",
       "2019-10-03 24.000000000 9397.500000000 160927.000000000   \n",
       "2019-10-04  2.000000000 9399.500000000 121572.000000000   \n",
       "2019-10-07 39.000000000 9360.500000000  96834.000000000   \n",
       "2019-10-08 16.000000000 9376.500000000 129418.000000000   \n",
       "\n",
       "            Previous Day Open Interest  \n",
       "Date                                    \n",
       "2019-10-02            147082.000000000  \n",
       "2019-10-03            141349.000000000  \n",
       "2019-10-04            140800.000000000  \n",
       "2019-10-07            145171.000000000  \n",
       "2019-10-08            144640.000000000  "
      ]
     },
     "execution_count": 24,
     "metadata": {},
     "output_type": "execute_result"
    }
   ],
   "source": [
    "# Trim the dataset to begin on January 1st, 1990\n",
    "today = dt.datetime.now()\n",
    "fut = fut.loc['1990-1-1 01:00:00':today]\n",
    "fut.tail()"
   ]
  },
  {
   "cell_type": "markdown",
   "metadata": {},
   "source": [
    " # Return Forecasting: Initial Time-Series Plotting"
   ]
  },
  {
   "cell_type": "markdown",
   "metadata": {},
   "source": [
    " Start by plotting the \"Settle\" price. Do you see any patterns, long-term and/or short?"
   ]
  },
  {
   "cell_type": "code",
   "execution_count": 25,
   "metadata": {},
   "outputs": [
    {
     "data": {
      "text/plain": [
       "<matplotlib.axes._subplots.AxesSubplot at 0x1ac582babe0>"
      ]
     },
     "execution_count": 25,
     "metadata": {},
     "output_type": "execute_result"
    },
    {
     "data": {
      "image/png": "[encoded data removed]",
      "text/plain": [
       "<Figure size 432x288 with 1 Axes>"
      ]
     },
     "metadata": {
      "needs_background": "light"
     },
     "output_type": "display_data"
    }
   ],
   "source": [
    "# Plot just the \"Settle\" column from the dataframe:\n",
    "fut.loc[:, fut.columns.str.contains('Settle')].plot()"
   ]
  },
  {
   "cell_type": "markdown",
   "metadata": {},
   "source": [
    " # Return Forecasting: MA/EWMA Smoothing of Futures Prices"
   ]
  },
  {
   "cell_type": "markdown",
   "metadata": {},
   "source": [
    " 1. Plot the Settle Price, along with a moving average of 15 and 60 days. Use indexing to just plot the data from 2015 onward.\n",
    " 2. What do you see now, in terms of short versus long-term trends?\n",
    " 3. Try an exponential moving average, with a half life of 15 days.\n",
    " 4. Which seems to respond faster, an exponential moving average with a half life of 15 days, or a moving average of 15 days?\n",
    "\n",
    " (15 days = 3 weeks)\n",
    " (60 days = 3 months)"
   ]
  },
  {
   "cell_type": "code",
   "execution_count": 26,
   "metadata": {},
   "outputs": [
    {
     "data": {
      "text/plain": [
       "<matplotlib.axes._subplots.AxesSubplot at 0x1ac58b64b70>"
      ]
     },
     "execution_count": 26,
     "metadata": {},
     "output_type": "execute_result"
    },
    {
     "data": {
      "image/png": "[encoded data removed]",
      "text/plain": [
       "<Figure size 1008x360 with 1 Axes>"
      ]
     },
     "metadata": {
      "needs_background": "light"
     },
     "output_type": "display_data"
    }
   ],
   "source": [
    "###### Moving averages and exponentially weighted moving averages \n",
    "# Create a dataframe using just the \"Settle\" price\n",
    "df=fut[[\"Settle\"]].copy()\n",
    "\n",
    "# Add in columns for moving average windows of 15 and 60 days, and a column for an EWMA window of 15 days\n",
    "df['15MA']=df.Settle.rolling(window=15).mean()\n",
    "df['60MA']=df.Settle.rolling(window=60).mean()\n",
    "df['15EWM']=df.Settle.ewm(halflife=15).mean()\n",
    "\n",
    "# Plot the settle price and moving average/ewma columns all in one plot from 2015:\n",
    "df[\"2015\":].plot(figsize=(14,5))"
   ]
  },
  {
   "cell_type": "markdown",
   "metadata": {},
   "source": [
    "# Return Forecasting: Decomposition Using a Hodrick-Prescott Filter"
   ]
  },
  {
   "cell_type": "markdown",
   "metadata": {},
   "source": [
    " Using a Hodrick-Prescott Filter, decompose the Settle price into a trend and noise."
   ]
  },
  {
   "cell_type": "code",
   "execution_count": 27,
   "metadata": {},
   "outputs": [],
   "source": [
    "df=df.drop(columns=['15MA', '60MA', '15EWM'])"
   ]
  },
  {
   "cell_type": "code",
   "execution_count": 28,
   "metadata": {},
   "outputs": [
    {
     "data": {
      "text/html": [
       "<div>\n",
       "<style scoped>\n",
       "    .dataframe tbody tr th:only-of-type {\n",
       "        vertical-align: middle;\n",
       "    }\n",
       "\n",
       "    .dataframe tbody tr th {\n",
       "        vertical-align: top;\n",
       "    }\n",
       "\n",
       "    .dataframe thead th {\n",
       "        text-align: right;\n",
       "    }\n",
       "</style>\n",
       "<table border=\"1\" class=\"dataframe\">\n",
       "  <thead>\n",
       "    <tr style=\"text-align: right;\">\n",
       "      <th></th>\n",
       "      <th>Settle</th>\n",
       "    </tr>\n",
       "    <tr>\n",
       "      <th>Date</th>\n",
       "      <th></th>\n",
       "    </tr>\n",
       "  </thead>\n",
       "  <tbody>\n",
       "    <tr>\n",
       "      <th>1990-01-02</th>\n",
       "      <td>6847.000000000</td>\n",
       "    </tr>\n",
       "    <tr>\n",
       "      <th>1990-01-03</th>\n",
       "      <td>6887.000000000</td>\n",
       "    </tr>\n",
       "    <tr>\n",
       "      <th>1990-01-04</th>\n",
       "      <td>7008.000000000</td>\n",
       "    </tr>\n",
       "    <tr>\n",
       "      <th>1990-01-05</th>\n",
       "      <td>6950.000000000</td>\n",
       "    </tr>\n",
       "    <tr>\n",
       "      <th>1990-01-08</th>\n",
       "      <td>6959.000000000</td>\n",
       "    </tr>\n",
       "  </tbody>\n",
       "</table>\n",
       "</div>"
      ],
      "text/plain": [
       "                   Settle\n",
       "Date                     \n",
       "1990-01-02 6847.000000000\n",
       "1990-01-03 6887.000000000\n",
       "1990-01-04 7008.000000000\n",
       "1990-01-05 6950.000000000\n",
       "1990-01-08 6959.000000000"
      ]
     },
     "execution_count": 28,
     "metadata": {},
     "output_type": "execute_result"
    }
   ],
   "source": [
    "df.head()"
   ]
  },
  {
   "cell_type": "code",
   "execution_count": 29,
   "metadata": {},
   "outputs": [],
   "source": [
    "import statsmodels.api as sm\n",
    "# Apply the Hodrick-Prescott Filter by decomposing the \"Settle\" price into two separate series:\n",
    "ts_noise, ts_trend =  sm.tsa.filters.hpfilter(df.Settle)\n"
   ]
  },
  {
   "cell_type": "code",
   "execution_count": 30,
   "metadata": {},
   "outputs": [
    {
     "data": {
      "text/plain": [
       "<matplotlib.axes._subplots.AxesSubplot at 0x1ac585b0e48>"
      ]
     },
     "execution_count": 30,
     "metadata": {},
     "output_type": "execute_result"
    },
    {
     "data": {
      "image/png": "[encoded data removed]",
      "text/plain": [
       "<Figure size 432x288 with 1 Axes>"
      ]
     },
     "metadata": {
      "needs_background": "light"
     },
     "output_type": "display_data"
    },
    {
     "data": {
      "image/png": "[encoded data removed]",
      "text/plain": [
       "<Figure size 432x288 with 1 Axes>"
      ]
     },
     "metadata": {
      "needs_background": "light"
     },
     "output_type": "display_data"
    }
   ],
   "source": [
    "# Create a dataframe of just the settle price, and add in the \"noise\" and \"trend\" series from above:\n",
    "futures_decomp = pd.DataFrame(df['Settle'])\n",
    "futures_decomp[\"noise\"] = ts_noise\n",
    "futures_decomp[\"trend\"] = ts_trend\n",
    "futures_decomp = futures_decomp['2015':today]\n",
    "\n",
    "# Plot the \"Settle\" and \"Trend\" price \n",
    "futures_decomp[['Settle','trend']].plot()\n",
    "\n",
    "# Then plot the \"noise\" separately\n",
    "futures_decomp[['noise']].plot()"
   ]
  },
  {
   "cell_type": "markdown",
   "metadata": {},
   "source": [
    " # Return Forecasting: Seasonal Effects with Sklearn Linear Regression\n",
    " Using the full dataset, use a SKLearn linear regression to predict Yen futures (\"settle\") returns with *lagged* Yen futures returns and categorical calendar seasonal effects (e.g., day-of-week or week-of-year seasonal effects).\n"
   ]
  },
  {
   "cell_type": "code",
   "execution_count": 31,
   "metadata": {},
   "outputs": [
    {
     "data": {
      "text/html": [
       "<div>\n",
       "<style scoped>\n",
       "    .dataframe tbody tr th:only-of-type {\n",
       "        vertical-align: middle;\n",
       "    }\n",
       "\n",
       "    .dataframe tbody tr th {\n",
       "        vertical-align: top;\n",
       "    }\n",
       "\n",
       "    .dataframe thead th {\n",
       "        text-align: right;\n",
       "    }\n",
       "</style>\n",
       "<table border=\"1\" class=\"dataframe\">\n",
       "  <thead>\n",
       "    <tr style=\"text-align: right;\">\n",
       "      <th></th>\n",
       "      <th>Open</th>\n",
       "      <th>High</th>\n",
       "      <th>Low</th>\n",
       "      <th>Last</th>\n",
       "      <th>Change</th>\n",
       "      <th>Settle</th>\n",
       "      <th>Volume</th>\n",
       "      <th>Previous Day Open Interest</th>\n",
       "    </tr>\n",
       "    <tr>\n",
       "      <th>Date</th>\n",
       "      <th></th>\n",
       "      <th></th>\n",
       "      <th></th>\n",
       "      <th></th>\n",
       "      <th></th>\n",
       "      <th></th>\n",
       "      <th></th>\n",
       "      <th></th>\n",
       "    </tr>\n",
       "  </thead>\n",
       "  <tbody>\n",
       "    <tr>\n",
       "      <th>1990-01-02</th>\n",
       "      <td>6954.000000000</td>\n",
       "      <td>6954.000000000</td>\n",
       "      <td>6835.000000000</td>\n",
       "      <td>6847.000000000</td>\n",
       "      <td>nan</td>\n",
       "      <td>6847.000000000</td>\n",
       "      <td>48336.000000000</td>\n",
       "      <td>51473.000000000</td>\n",
       "    </tr>\n",
       "    <tr>\n",
       "      <th>1990-01-03</th>\n",
       "      <td>6877.000000000</td>\n",
       "      <td>6910.000000000</td>\n",
       "      <td>6865.000000000</td>\n",
       "      <td>6887.000000000</td>\n",
       "      <td>nan</td>\n",
       "      <td>6887.000000000</td>\n",
       "      <td>38206.000000000</td>\n",
       "      <td>53860.000000000</td>\n",
       "    </tr>\n",
       "    <tr>\n",
       "      <th>1990-01-04</th>\n",
       "      <td>6937.000000000</td>\n",
       "      <td>7030.000000000</td>\n",
       "      <td>6924.000000000</td>\n",
       "      <td>7008.000000000</td>\n",
       "      <td>nan</td>\n",
       "      <td>7008.000000000</td>\n",
       "      <td>49649.000000000</td>\n",
       "      <td>55699.000000000</td>\n",
       "    </tr>\n",
       "    <tr>\n",
       "      <th>1990-01-05</th>\n",
       "      <td>6952.000000000</td>\n",
       "      <td>6985.000000000</td>\n",
       "      <td>6942.000000000</td>\n",
       "      <td>6950.000000000</td>\n",
       "      <td>nan</td>\n",
       "      <td>6950.000000000</td>\n",
       "      <td>29944.000000000</td>\n",
       "      <td>53111.000000000</td>\n",
       "    </tr>\n",
       "    <tr>\n",
       "      <th>1990-01-08</th>\n",
       "      <td>6936.000000000</td>\n",
       "      <td>6972.000000000</td>\n",
       "      <td>6936.000000000</td>\n",
       "      <td>6959.000000000</td>\n",
       "      <td>nan</td>\n",
       "      <td>6959.000000000</td>\n",
       "      <td>19763.000000000</td>\n",
       "      <td>52072.000000000</td>\n",
       "    </tr>\n",
       "  </tbody>\n",
       "</table>\n",
       "</div>"
      ],
      "text/plain": [
       "                     Open           High            Low           Last  \\\n",
       "Date                                                                     \n",
       "1990-01-02 6954.000000000 6954.000000000 6835.000000000 6847.000000000   \n",
       "1990-01-03 6877.000000000 6910.000000000 6865.000000000 6887.000000000   \n",
       "1990-01-04 6937.000000000 7030.000000000 6924.000000000 7008.000000000   \n",
       "1990-01-05 6952.000000000 6985.000000000 6942.000000000 6950.000000000   \n",
       "1990-01-08 6936.000000000 6972.000000000 6936.000000000 6959.000000000   \n",
       "\n",
       "            Change         Settle          Volume  Previous Day Open Interest  \n",
       "Date                                                                           \n",
       "1990-01-02     nan 6847.000000000 48336.000000000             51473.000000000  \n",
       "1990-01-03     nan 6887.000000000 38206.000000000             53860.000000000  \n",
       "1990-01-04     nan 7008.000000000 49649.000000000             55699.000000000  \n",
       "1990-01-05     nan 6950.000000000 29944.000000000             53111.000000000  \n",
       "1990-01-08     nan 6959.000000000 19763.000000000             52072.000000000  "
      ]
     },
     "execution_count": 31,
     "metadata": {},
     "output_type": "execute_result"
    }
   ],
   "source": [
    "#Use the dataframe containing \"Settle\" Prices:\n",
    "fut.head()"
   ]
  },
  {
   "cell_type": "code",
   "execution_count": 32,
   "metadata": {},
   "outputs": [],
   "source": [
    "from sklearn.linear_model import LinearRegression\n",
    "\n",
    "# Construct a \"Futures Return\" column, using pandas pct_change() on the \"Settle\" price \n",
    "# If will be easier to also multiply this by 100, both to read and when we use it with SKLearn:\n",
    "fut[\"Futures_Return\"] = fut[\"Settle\"].copy().pct_change()*100\n",
    "\n",
    "# Feature Engineering\n",
    "# Create a second \"Lagged Return\" variable, that is the futures return variable shifted above, but lagged 1 day:\n",
    "# We\"ll use this lagged return as the feature vector X:\n",
    "fut[\"Lagged_Return\"] = fut.Settle.shift()\n",
    "\n",
    "fut = fut.replace(-np.inf, np.nan).dropna()\n",
    "\n",
    "# Construct a new \"X\" dataframe using just the \"Lagged Return\" variable:\n",
    "X = fut[\"Lagged_Return\"].to_frame()"
   ]
  },
  {
   "cell_type": "code",
   "execution_count": 33,
   "metadata": {},
   "outputs": [
    {
     "data": {
      "text/html": [
       "<div>\n",
       "<style scoped>\n",
       "    .dataframe tbody tr th:only-of-type {\n",
       "        vertical-align: middle;\n",
       "    }\n",
       "\n",
       "    .dataframe tbody tr th {\n",
       "        vertical-align: top;\n",
       "    }\n",
       "\n",
       "    .dataframe thead th {\n",
       "        text-align: right;\n",
       "    }\n",
       "</style>\n",
       "<table border=\"1\" class=\"dataframe\">\n",
       "  <thead>\n",
       "    <tr style=\"text-align: right;\">\n",
       "      <th></th>\n",
       "      <th>Open</th>\n",
       "      <th>High</th>\n",
       "      <th>Low</th>\n",
       "      <th>Last</th>\n",
       "      <th>Change</th>\n",
       "      <th>Settle</th>\n",
       "      <th>Volume</th>\n",
       "      <th>Previous Day Open Interest</th>\n",
       "      <th>Futures_Return</th>\n",
       "      <th>Lagged_Return</th>\n",
       "    </tr>\n",
       "    <tr>\n",
       "      <th>Date</th>\n",
       "      <th></th>\n",
       "      <th></th>\n",
       "      <th></th>\n",
       "      <th></th>\n",
       "      <th></th>\n",
       "      <th></th>\n",
       "      <th></th>\n",
       "      <th></th>\n",
       "      <th></th>\n",
       "      <th></th>\n",
       "    </tr>\n",
       "  </thead>\n",
       "  <tbody>\n",
       "    <tr>\n",
       "      <th>2014-02-18</th>\n",
       "      <td>9831.000000000</td>\n",
       "      <td>9865.000000000</td>\n",
       "      <td>9734.000000000</td>\n",
       "      <td>9775.000000000</td>\n",
       "      <td>42.000000000</td>\n",
       "      <td>9775.000000000</td>\n",
       "      <td>203495.000000000</td>\n",
       "      <td>196924.000000000</td>\n",
       "      <td>-0.427829276</td>\n",
       "      <td>9817.000000000</td>\n",
       "    </tr>\n",
       "    <tr>\n",
       "      <th>2014-02-19</th>\n",
       "      <td>9768.000000000</td>\n",
       "      <td>9825.000000000</td>\n",
       "      <td>9760.000000000</td>\n",
       "      <td>9773.000000000</td>\n",
       "      <td>2.000000000</td>\n",
       "      <td>9773.000000000</td>\n",
       "      <td>129508.000000000</td>\n",
       "      <td>197197.000000000</td>\n",
       "      <td>-0.020460358</td>\n",
       "      <td>9775.000000000</td>\n",
       "    </tr>\n",
       "    <tr>\n",
       "      <th>2014-02-20</th>\n",
       "      <td>9774.000000000</td>\n",
       "      <td>9837.000000000</td>\n",
       "      <td>9765.000000000</td>\n",
       "      <td>9775.000000000</td>\n",
       "      <td>2.000000000</td>\n",
       "      <td>9775.000000000</td>\n",
       "      <td>160202.000000000</td>\n",
       "      <td>198280.000000000</td>\n",
       "      <td>0.020464545</td>\n",
       "      <td>9773.000000000</td>\n",
       "    </tr>\n",
       "    <tr>\n",
       "      <th>2014-02-21</th>\n",
       "      <td>9772.000000000</td>\n",
       "      <td>9776.000000000</td>\n",
       "      <td>9725.000000000</td>\n",
       "      <td>9758.000000000</td>\n",
       "      <td>20.000000000</td>\n",
       "      <td>9755.000000000</td>\n",
       "      <td>103091.000000000</td>\n",
       "      <td>202990.000000000</td>\n",
       "      <td>-0.204603581</td>\n",
       "      <td>9775.000000000</td>\n",
       "    </tr>\n",
       "    <tr>\n",
       "      <th>2014-02-24</th>\n",
       "      <td>9752.000000000</td>\n",
       "      <td>9789.000000000</td>\n",
       "      <td>9740.000000000</td>\n",
       "      <td>9757.000000000</td>\n",
       "      <td>2.000000000</td>\n",
       "      <td>9757.000000000</td>\n",
       "      <td>90654.000000000</td>\n",
       "      <td>203114.000000000</td>\n",
       "      <td>0.020502307</td>\n",
       "      <td>9755.000000000</td>\n",
       "    </tr>\n",
       "  </tbody>\n",
       "</table>\n",
       "</div>"
      ],
      "text/plain": [
       "                     Open           High            Low           Last  \\\n",
       "Date                                                                     \n",
       "2014-02-18 9831.000000000 9865.000000000 9734.000000000 9775.000000000   \n",
       "2014-02-19 9768.000000000 9825.000000000 9760.000000000 9773.000000000   \n",
       "2014-02-20 9774.000000000 9837.000000000 9765.000000000 9775.000000000   \n",
       "2014-02-21 9772.000000000 9776.000000000 9725.000000000 9758.000000000   \n",
       "2014-02-24 9752.000000000 9789.000000000 9740.000000000 9757.000000000   \n",
       "\n",
       "                 Change         Settle           Volume  \\\n",
       "Date                                                      \n",
       "2014-02-18 42.000000000 9775.000000000 203495.000000000   \n",
       "2014-02-19  2.000000000 9773.000000000 129508.000000000   \n",
       "2014-02-20  2.000000000 9775.000000000 160202.000000000   \n",
       "2014-02-21 20.000000000 9755.000000000 103091.000000000   \n",
       "2014-02-24  2.000000000 9757.000000000  90654.000000000   \n",
       "\n",
       "            Previous Day Open Interest  Futures_Return  Lagged_Return  \n",
       "Date                                                                   \n",
       "2014-02-18            196924.000000000    -0.427829276 9817.000000000  \n",
       "2014-02-19            197197.000000000    -0.020460358 9775.000000000  \n",
       "2014-02-20            198280.000000000     0.020464545 9773.000000000  \n",
       "2014-02-21            202990.000000000    -0.204603581 9775.000000000  \n",
       "2014-02-24            203114.000000000     0.020502307 9755.000000000  "
      ]
     },
     "execution_count": 33,
     "metadata": {},
     "output_type": "execute_result"
    }
   ],
   "source": [
    "fut.head()"
   ]
  },
  {
   "cell_type": "code",
   "execution_count": 34,
   "metadata": {},
   "outputs": [
    {
     "data": {
      "text/html": [
       "<div>\n",
       "<style scoped>\n",
       "    .dataframe tbody tr th:only-of-type {\n",
       "        vertical-align: middle;\n",
       "    }\n",
       "\n",
       "    .dataframe tbody tr th {\n",
       "        vertical-align: top;\n",
       "    }\n",
       "\n",
       "    .dataframe thead th {\n",
       "        text-align: right;\n",
       "    }\n",
       "</style>\n",
       "<table border=\"1\" class=\"dataframe\">\n",
       "  <thead>\n",
       "    <tr style=\"text-align: right;\">\n",
       "      <th></th>\n",
       "      <th>Lagged_Return</th>\n",
       "      <th>Week_of_Year_1</th>\n",
       "      <th>Week_of_Year_2</th>\n",
       "      <th>Week_of_Year_3</th>\n",
       "      <th>Week_of_Year_4</th>\n",
       "      <th>Week_of_Year_5</th>\n",
       "      <th>Week_of_Year_6</th>\n",
       "      <th>Week_of_Year_7</th>\n",
       "      <th>Week_of_Year_8</th>\n",
       "      <th>Week_of_Year_9</th>\n",
       "      <th>...</th>\n",
       "      <th>Week_of_Year_44</th>\n",
       "      <th>Week_of_Year_45</th>\n",
       "      <th>Week_of_Year_46</th>\n",
       "      <th>Week_of_Year_47</th>\n",
       "      <th>Week_of_Year_48</th>\n",
       "      <th>Week_of_Year_49</th>\n",
       "      <th>Week_of_Year_50</th>\n",
       "      <th>Week_of_Year_51</th>\n",
       "      <th>Week_of_Year_52</th>\n",
       "      <th>Week_of_Year_53</th>\n",
       "    </tr>\n",
       "    <tr>\n",
       "      <th>Date</th>\n",
       "      <th></th>\n",
       "      <th></th>\n",
       "      <th></th>\n",
       "      <th></th>\n",
       "      <th></th>\n",
       "      <th></th>\n",
       "      <th></th>\n",
       "      <th></th>\n",
       "      <th></th>\n",
       "      <th></th>\n",
       "      <th></th>\n",
       "      <th></th>\n",
       "      <th></th>\n",
       "      <th></th>\n",
       "      <th></th>\n",
       "      <th></th>\n",
       "      <th></th>\n",
       "      <th></th>\n",
       "      <th></th>\n",
       "      <th></th>\n",
       "      <th></th>\n",
       "    </tr>\n",
       "  </thead>\n",
       "  <tbody>\n",
       "    <tr>\n",
       "      <th>2014-02-18</th>\n",
       "      <td>9817.000000000</td>\n",
       "      <td>0</td>\n",
       "      <td>0</td>\n",
       "      <td>0</td>\n",
       "      <td>0</td>\n",
       "      <td>0</td>\n",
       "      <td>0</td>\n",
       "      <td>0</td>\n",
       "      <td>1</td>\n",
       "      <td>0</td>\n",
       "      <td>...</td>\n",
       "      <td>0</td>\n",
       "      <td>0</td>\n",
       "      <td>0</td>\n",
       "      <td>0</td>\n",
       "      <td>0</td>\n",
       "      <td>0</td>\n",
       "      <td>0</td>\n",
       "      <td>0</td>\n",
       "      <td>0</td>\n",
       "      <td>0</td>\n",
       "    </tr>\n",
       "    <tr>\n",
       "      <th>2014-02-19</th>\n",
       "      <td>9775.000000000</td>\n",
       "      <td>0</td>\n",
       "      <td>0</td>\n",
       "      <td>0</td>\n",
       "      <td>0</td>\n",
       "      <td>0</td>\n",
       "      <td>0</td>\n",
       "      <td>0</td>\n",
       "      <td>1</td>\n",
       "      <td>0</td>\n",
       "      <td>...</td>\n",
       "      <td>0</td>\n",
       "      <td>0</td>\n",
       "      <td>0</td>\n",
       "      <td>0</td>\n",
       "      <td>0</td>\n",
       "      <td>0</td>\n",
       "      <td>0</td>\n",
       "      <td>0</td>\n",
       "      <td>0</td>\n",
       "      <td>0</td>\n",
       "    </tr>\n",
       "    <tr>\n",
       "      <th>2014-02-20</th>\n",
       "      <td>9773.000000000</td>\n",
       "      <td>0</td>\n",
       "      <td>0</td>\n",
       "      <td>0</td>\n",
       "      <td>0</td>\n",
       "      <td>0</td>\n",
       "      <td>0</td>\n",
       "      <td>0</td>\n",
       "      <td>1</td>\n",
       "      <td>0</td>\n",
       "      <td>...</td>\n",
       "      <td>0</td>\n",
       "      <td>0</td>\n",
       "      <td>0</td>\n",
       "      <td>0</td>\n",
       "      <td>0</td>\n",
       "      <td>0</td>\n",
       "      <td>0</td>\n",
       "      <td>0</td>\n",
       "      <td>0</td>\n",
       "      <td>0</td>\n",
       "    </tr>\n",
       "    <tr>\n",
       "      <th>2014-02-21</th>\n",
       "      <td>9775.000000000</td>\n",
       "      <td>0</td>\n",
       "      <td>0</td>\n",
       "      <td>0</td>\n",
       "      <td>0</td>\n",
       "      <td>0</td>\n",
       "      <td>0</td>\n",
       "      <td>0</td>\n",
       "      <td>1</td>\n",
       "      <td>0</td>\n",
       "      <td>...</td>\n",
       "      <td>0</td>\n",
       "      <td>0</td>\n",
       "      <td>0</td>\n",
       "      <td>0</td>\n",
       "      <td>0</td>\n",
       "      <td>0</td>\n",
       "      <td>0</td>\n",
       "      <td>0</td>\n",
       "      <td>0</td>\n",
       "      <td>0</td>\n",
       "    </tr>\n",
       "    <tr>\n",
       "      <th>2014-02-24</th>\n",
       "      <td>9755.000000000</td>\n",
       "      <td>0</td>\n",
       "      <td>0</td>\n",
       "      <td>0</td>\n",
       "      <td>0</td>\n",
       "      <td>0</td>\n",
       "      <td>0</td>\n",
       "      <td>0</td>\n",
       "      <td>0</td>\n",
       "      <td>1</td>\n",
       "      <td>...</td>\n",
       "      <td>0</td>\n",
       "      <td>0</td>\n",
       "      <td>0</td>\n",
       "      <td>0</td>\n",
       "      <td>0</td>\n",
       "      <td>0</td>\n",
       "      <td>0</td>\n",
       "      <td>0</td>\n",
       "      <td>0</td>\n",
       "      <td>0</td>\n",
       "    </tr>\n",
       "  </tbody>\n",
       "</table>\n",
       "<p>5 rows × 54 columns</p>\n",
       "</div>"
      ],
      "text/plain": [
       "            Lagged_Return  Week_of_Year_1  Week_of_Year_2  Week_of_Year_3  \\\n",
       "Date                                                                        \n",
       "2014-02-18 9817.000000000               0               0               0   \n",
       "2014-02-19 9775.000000000               0               0               0   \n",
       "2014-02-20 9773.000000000               0               0               0   \n",
       "2014-02-21 9775.000000000               0               0               0   \n",
       "2014-02-24 9755.000000000               0               0               0   \n",
       "\n",
       "            Week_of_Year_4  Week_of_Year_5  Week_of_Year_6  Week_of_Year_7  \\\n",
       "Date                                                                         \n",
       "2014-02-18               0               0               0               0   \n",
       "2014-02-19               0               0               0               0   \n",
       "2014-02-20               0               0               0               0   \n",
       "2014-02-21               0               0               0               0   \n",
       "2014-02-24               0               0               0               0   \n",
       "\n",
       "            Week_of_Year_8  Week_of_Year_9  ...  Week_of_Year_44  \\\n",
       "Date                                        ...                    \n",
       "2014-02-18               1               0  ...                0   \n",
       "2014-02-19               1               0  ...                0   \n",
       "2014-02-20               1               0  ...                0   \n",
       "2014-02-21               1               0  ...                0   \n",
       "2014-02-24               0               1  ...                0   \n",
       "\n",
       "            Week_of_Year_45  Week_of_Year_46  Week_of_Year_47  \\\n",
       "Date                                                            \n",
       "2014-02-18                0                0                0   \n",
       "2014-02-19                0                0                0   \n",
       "2014-02-20                0                0                0   \n",
       "2014-02-21                0                0                0   \n",
       "2014-02-24                0                0                0   \n",
       "\n",
       "            Week_of_Year_48  Week_of_Year_49  Week_of_Year_50  \\\n",
       "Date                                                            \n",
       "2014-02-18                0                0                0   \n",
       "2014-02-19                0                0                0   \n",
       "2014-02-20                0                0                0   \n",
       "2014-02-21                0                0                0   \n",
       "2014-02-24                0                0                0   \n",
       "\n",
       "            Week_of_Year_51  Week_of_Year_52  Week_of_Year_53  \n",
       "Date                                                           \n",
       "2014-02-18                0                0                0  \n",
       "2014-02-19                0                0                0  \n",
       "2014-02-20                0                0                0  \n",
       "2014-02-21                0                0                0  \n",
       "2014-02-24                0                0                0  \n",
       "\n",
       "[5 rows x 54 columns]"
      ]
     },
     "execution_count": 34,
     "metadata": {},
     "output_type": "execute_result"
    }
   ],
   "source": [
    "# Add into the X dataframe either a \"dayofweek\" or \"weekofyear\" column, (e.g., using X.index.weekofyear) \n",
    "X[\"Week_of_Year\"] = X.index.weekofyear\n",
    "X.head()\n",
    "\n",
    "# Create a new categorical X dataframe, by using pd.get_dummies() on the seasonal column created just above:\n",
    "X_binary_encoded = pd.get_dummies(X, columns=['Week_of_Year'])\n",
    "X_binary_encoded.head()"
   ]
  },
  {
   "cell_type": "code",
   "execution_count": 35,
   "metadata": {},
   "outputs": [
    {
     "data": {
      "text/plain": [
       "LinearRegression(copy_X=True, fit_intercept=True, n_jobs=None, normalize=False)"
      ]
     },
     "execution_count": 35,
     "metadata": {},
     "output_type": "execute_result"
    }
   ],
   "source": [
    "# Create a \"y\" series, using just the \"Futures Return\" column created above.\n",
    "y = fut[\"Futures_Return\"].copy()\n",
    "\n",
    "# Construct a \"LinearRegression\" object:\n",
    "model = LinearRegression()\n",
    "\n",
    "# Fit a model using the X and y objects:\n",
    "results = model.fit(X, y)\n",
    "results"
   ]
  },
  {
   "cell_type": "code",
   "execution_count": 36,
   "metadata": {},
   "outputs": [
    {
     "data": {
      "text/plain": [
       "array([-0.00403413, -0.00110347, -0.00096392, ..., -0.06861789,\n",
       "       -0.07169042, -0.0689691 ])"
      ]
     },
     "execution_count": 36,
     "metadata": {},
     "output_type": "execute_result"
    }
   ],
   "source": [
    "# Construct predictions based on the X object:\n",
    "predictions = model.predict(X) \n",
    "predictions"
   ]
  },
  {
   "cell_type": "markdown",
   "metadata": {},
   "source": [
    " Summarize the quality of your model using R2 and root-mean-squared-error (RMSE) statistics. How good is it?"
   ]
  },
  {
   "cell_type": "code",
   "execution_count": 37,
   "metadata": {},
   "outputs": [
    {
     "name": "stdout",
     "output_type": "stream",
     "text": [
      "Mean Squared Error (MSE): 0.2952521027592261\n",
      "R-squared (R2 ): 0.009305338091438742\n",
      "Root Mean Squared Error (RMSE): 0.5433710543995016\n",
      "Standard Deviation of Futures Return: 0.546110652432277\n"
     ]
    }
   ],
   "source": [
    "from sklearn.metrics import mean_squared_error, r2_score\n",
    "# Calculate r2_score (r-squared)\n",
    "r2 = r2_score(y, predictions) \n",
    "\n",
    "# Calculate mean squared error \n",
    "# (A \"good\" MSE score will be close to zero while a \"good\" R2 Score will be close to 1.)\n",
    "mse = mean_squared_error(y, predictions)\n",
    "\n",
    "# Using mean squared eror above, calculate root-mean-squared error (RMSE)\n",
    "rmse = np.sqrt(mse) \n",
    "\n",
    "print(f\"Mean Squared Error (MSE): {mse}\")\n",
    "print(f\"R-squared (R2 ): {r2}\")\n",
    "print(f\"Root Mean Squared Error (RMSE): {rmse}\")\n",
    "print(f\"Standard Deviation of Futures Return: {y.std()}\")"
   ]
  },
  {
   "cell_type": "markdown",
   "metadata": {},
   "source": [
    " #### Plotting and Independent (X) Variable Interpretation"
   ]
  },
  {
   "cell_type": "markdown",
   "metadata": {},
   "source": [
    " Plot the model predictions of returns against actual returns, for just data from 2018 onward."
   ]
  },
  {
   "cell_type": "code",
   "execution_count": 38,
   "metadata": {},
   "outputs": [
    {
     "data": {
      "text/html": [
       "<div>\n",
       "<style scoped>\n",
       "    .dataframe tbody tr th:only-of-type {\n",
       "        vertical-align: middle;\n",
       "    }\n",
       "\n",
       "    .dataframe tbody tr th {\n",
       "        vertical-align: top;\n",
       "    }\n",
       "\n",
       "    .dataframe thead th {\n",
       "        text-align: right;\n",
       "    }\n",
       "</style>\n",
       "<table border=\"1\" class=\"dataframe\">\n",
       "  <thead>\n",
       "    <tr style=\"text-align: right;\">\n",
       "      <th></th>\n",
       "      <th>Futures_Return</th>\n",
       "      <th>prediction</th>\n",
       "    </tr>\n",
       "    <tr>\n",
       "      <th>Date</th>\n",
       "      <th></th>\n",
       "      <th></th>\n",
       "    </tr>\n",
       "  </thead>\n",
       "  <tbody>\n",
       "    <tr>\n",
       "      <th>2014-02-18</th>\n",
       "      <td>-0.427829276</td>\n",
       "      <td>-0.004034125</td>\n",
       "    </tr>\n",
       "    <tr>\n",
       "      <th>2014-02-19</th>\n",
       "      <td>-0.020460358</td>\n",
       "      <td>-0.001103475</td>\n",
       "    </tr>\n",
       "    <tr>\n",
       "      <th>2014-02-20</th>\n",
       "      <td>0.020464545</td>\n",
       "      <td>-0.000963920</td>\n",
       "    </tr>\n",
       "    <tr>\n",
       "      <th>2014-02-21</th>\n",
       "      <td>-0.204603581</td>\n",
       "      <td>-0.001103475</td>\n",
       "    </tr>\n",
       "    <tr>\n",
       "      <th>2014-02-24</th>\n",
       "      <td>0.020502307</td>\n",
       "      <td>-0.002640907</td>\n",
       "    </tr>\n",
       "  </tbody>\n",
       "</table>\n",
       "</div>"
      ],
      "text/plain": [
       "            Futures_Return   prediction\n",
       "Date                                   \n",
       "2014-02-18    -0.427829276 -0.004034125\n",
       "2014-02-19    -0.020460358 -0.001103475\n",
       "2014-02-20     0.020464545 -0.000963920\n",
       "2014-02-21    -0.204603581 -0.001103475\n",
       "2014-02-24     0.020502307 -0.002640907"
      ]
     },
     "execution_count": 38,
     "metadata": {},
     "output_type": "execute_result"
    }
   ],
   "source": [
    "# Create a \"y\" dataframe, using just the \"Futures Return\" column created above. \n",
    "y_df = y.to_frame()\n",
    "\n",
    "# Add the model predictions from above as an additional column to that dataframe:\n",
    "y_df[\"prediction\"] = predictions\n",
    "y_df.head()"
   ]
  },
  {
   "cell_type": "code",
   "execution_count": 39,
   "metadata": {},
   "outputs": [
    {
     "data": {
      "text/plain": [
       "<matplotlib.axes._subplots.AxesSubplot at 0x1ac58596978>"
      ]
     },
     "execution_count": 39,
     "metadata": {},
     "output_type": "execute_result"
    },
    {
     "data": {
      "image/png": "[encoded data removed]",
      "text/plain": [
       "<Figure size 432x288 with 1 Axes>"
      ]
     },
     "metadata": {
      "needs_background": "light"
     },
     "output_type": "display_data"
    }
   ],
   "source": [
    "# Plot the two from 2018 onward\n",
    "y_df[\"2018\":today].plot()"
   ]
  },
  {
   "cell_type": "markdown",
   "metadata": {},
   "source": [
    " Separately, plot the calendar effects estimated from the model using matplotlib. Do you see any seasonal patterns?"
   ]
  },
  {
   "cell_type": "code",
   "execution_count": 40,
   "metadata": {},
   "outputs": [
    {
     "ename": "ValueError",
     "evalue": "Shape of passed values is (2, 1), indices imply (54, 1)",
     "output_type": "error",
     "traceback": [
      "\u001b[1;31m---------------------------------------------------------------------------\u001b[0m",
      "\u001b[1;31mValueError\u001b[0m                                Traceback (most recent call last)",
      "\u001b[1;32m~\\Anaconda3\\envs\\mlenv\\lib\\site-packages\\pandas\\core\\internals\\managers.py\u001b[0m in \u001b[0;36mcreate_block_manager_from_blocks\u001b[1;34m(blocks, axes)\u001b[0m\n\u001b[0;32m   1652\u001b[0m \u001b[1;33m\u001b[0m\u001b[0m\n\u001b[1;32m-> 1653\u001b[1;33m         \u001b[0mmgr\u001b[0m \u001b[1;33m=\u001b[0m \u001b[0mBlockManager\u001b[0m\u001b[1;33m(\u001b[0m\u001b[0mblocks\u001b[0m\u001b[1;33m,\u001b[0m \u001b[0maxes\u001b[0m\u001b[1;33m)\u001b[0m\u001b[1;33m\u001b[0m\u001b[1;33m\u001b[0m\u001b[0m\n\u001b[0m\u001b[0;32m   1654\u001b[0m         \u001b[0mmgr\u001b[0m\u001b[1;33m.\u001b[0m\u001b[0m_consolidate_inplace\u001b[0m\u001b[1;33m(\u001b[0m\u001b[1;33m)\u001b[0m\u001b[1;33m\u001b[0m\u001b[1;33m\u001b[0m\u001b[0m\n",
      "\u001b[1;32m~\\Anaconda3\\envs\\mlenv\\lib\\site-packages\\pandas\\core\\internals\\managers.py\u001b[0m in \u001b[0;36m__init__\u001b[1;34m(self, blocks, axes, do_integrity_check)\u001b[0m\n\u001b[0;32m    113\u001b[0m         \u001b[1;32mif\u001b[0m \u001b[0mdo_integrity_check\u001b[0m\u001b[1;33m:\u001b[0m\u001b[1;33m\u001b[0m\u001b[1;33m\u001b[0m\u001b[0m\n\u001b[1;32m--> 114\u001b[1;33m             \u001b[0mself\u001b[0m\u001b[1;33m.\u001b[0m\u001b[0m_verify_integrity\u001b[0m\u001b[1;33m(\u001b[0m\u001b[1;33m)\u001b[0m\u001b[1;33m\u001b[0m\u001b[1;33m\u001b[0m\u001b[0m\n\u001b[0m\u001b[0;32m    115\u001b[0m \u001b[1;33m\u001b[0m\u001b[0m\n",
      "\u001b[1;32m~\\Anaconda3\\envs\\mlenv\\lib\\site-packages\\pandas\\core\\internals\\managers.py\u001b[0m in \u001b[0;36m_verify_integrity\u001b[1;34m(self)\u001b[0m\n\u001b[0;32m    310\u001b[0m             \u001b[1;32mif\u001b[0m \u001b[0mblock\u001b[0m\u001b[1;33m.\u001b[0m\u001b[0m_verify_integrity\u001b[0m \u001b[1;32mand\u001b[0m \u001b[0mblock\u001b[0m\u001b[1;33m.\u001b[0m\u001b[0mshape\u001b[0m\u001b[1;33m[\u001b[0m\u001b[1;36m1\u001b[0m\u001b[1;33m:\u001b[0m\u001b[1;33m]\u001b[0m \u001b[1;33m!=\u001b[0m \u001b[0mmgr_shape\u001b[0m\u001b[1;33m[\u001b[0m\u001b[1;36m1\u001b[0m\u001b[1;33m:\u001b[0m\u001b[1;33m]\u001b[0m\u001b[1;33m:\u001b[0m\u001b[1;33m\u001b[0m\u001b[1;33m\u001b[0m\u001b[0m\n\u001b[1;32m--> 311\u001b[1;33m                 \u001b[0mconstruction_error\u001b[0m\u001b[1;33m(\u001b[0m\u001b[0mtot_items\u001b[0m\u001b[1;33m,\u001b[0m \u001b[0mblock\u001b[0m\u001b[1;33m.\u001b[0m\u001b[0mshape\u001b[0m\u001b[1;33m[\u001b[0m\u001b[1;36m1\u001b[0m\u001b[1;33m:\u001b[0m\u001b[1;33m]\u001b[0m\u001b[1;33m,\u001b[0m \u001b[0mself\u001b[0m\u001b[1;33m.\u001b[0m\u001b[0maxes\u001b[0m\u001b[1;33m)\u001b[0m\u001b[1;33m\u001b[0m\u001b[1;33m\u001b[0m\u001b[0m\n\u001b[0m\u001b[0;32m    312\u001b[0m         \u001b[1;32mif\u001b[0m \u001b[0mlen\u001b[0m\u001b[1;33m(\u001b[0m\u001b[0mself\u001b[0m\u001b[1;33m.\u001b[0m\u001b[0mitems\u001b[0m\u001b[1;33m)\u001b[0m \u001b[1;33m!=\u001b[0m \u001b[0mtot_items\u001b[0m\u001b[1;33m:\u001b[0m\u001b[1;33m\u001b[0m\u001b[1;33m\u001b[0m\u001b[0m\n",
      "\u001b[1;32m~\\Anaconda3\\envs\\mlenv\\lib\\site-packages\\pandas\\core\\internals\\managers.py\u001b[0m in \u001b[0;36mconstruction_error\u001b[1;34m(tot_items, block_shape, axes, e)\u001b[0m\n\u001b[0;32m   1690\u001b[0m     raise ValueError(\"Shape of passed values is {0}, indices imply {1}\".format(\n\u001b[1;32m-> 1691\u001b[1;33m         passed, implied))\n\u001b[0m\u001b[0;32m   1692\u001b[0m \u001b[1;33m\u001b[0m\u001b[0m\n",
      "\u001b[1;31mValueError\u001b[0m: Shape of passed values is (2, 1), indices imply (54, 1)",
      "\nDuring handling of the above exception, another exception occurred:\n",
      "\u001b[1;31mValueError\u001b[0m                                Traceback (most recent call last)",
      "\u001b[1;32m<ipython-input-40-dea7fba59801>\u001b[0m in \u001b[0;36m<module>\u001b[1;34m\u001b[0m\n\u001b[0;32m      1\u001b[0m \u001b[1;31m# Construct a dataframe of the model calendar-effect coefficients and review the output:\u001b[0m\u001b[1;33m\u001b[0m\u001b[1;33m\u001b[0m\u001b[1;33m\u001b[0m\u001b[0m\n\u001b[1;32m----> 2\u001b[1;33m \u001b[0mresults\u001b[0m \u001b[1;33m=\u001b[0m \u001b[0mpd\u001b[0m\u001b[1;33m.\u001b[0m\u001b[0mDataFrame\u001b[0m\u001b[1;33m(\u001b[0m\u001b[0mmodel\u001b[0m\u001b[1;33m.\u001b[0m\u001b[0mcoef_\u001b[0m\u001b[1;33m,\u001b[0m \u001b[0mcolumns\u001b[0m\u001b[1;33m=\u001b[0m\u001b[1;33m[\u001b[0m\u001b[1;34m\"Coefficient\"\u001b[0m\u001b[1;33m]\u001b[0m\u001b[1;33m,\u001b[0m \u001b[0mindex\u001b[0m\u001b[1;33m=\u001b[0m\u001b[0mX_binary_encoded\u001b[0m\u001b[1;33m.\u001b[0m\u001b[0mcolumns\u001b[0m\u001b[1;33m)\u001b[0m\u001b[1;33m\u001b[0m\u001b[1;33m\u001b[0m\u001b[0m\n\u001b[0m\u001b[0;32m      3\u001b[0m \u001b[1;33m\u001b[0m\u001b[0m\n\u001b[0;32m      4\u001b[0m \u001b[1;31m# Filter results so that it only includes either the day-of-week or week-of-year effect\u001b[0m\u001b[1;33m\u001b[0m\u001b[1;33m\u001b[0m\u001b[1;33m\u001b[0m\u001b[0m\n\u001b[0;32m      5\u001b[0m \u001b[0mresults\u001b[0m \u001b[1;33m=\u001b[0m \u001b[1;33m(\u001b[0m\u001b[0mresults\u001b[0m\u001b[1;33m[\u001b[0m\u001b[0mresults\u001b[0m\u001b[1;33m.\u001b[0m\u001b[0mindex\u001b[0m\u001b[1;33m.\u001b[0m\u001b[0mstr\u001b[0m\u001b[1;33m.\u001b[0m\u001b[0mcontains\u001b[0m\u001b[1;33m(\u001b[0m\u001b[1;34m\"Week_of_Year\"\u001b[0m\u001b[1;33m)\u001b[0m\u001b[1;33m]\u001b[0m\u001b[1;33m)\u001b[0m\u001b[1;33m\u001b[0m\u001b[1;33m\u001b[0m\u001b[0m\n",
      "\u001b[1;32m~\\Anaconda3\\envs\\mlenv\\lib\\site-packages\\pandas\\core\\frame.py\u001b[0m in \u001b[0;36m__init__\u001b[1;34m(self, data, index, columns, dtype, copy)\u001b[0m\n\u001b[0;32m    422\u001b[0m             \u001b[1;32melse\u001b[0m\u001b[1;33m:\u001b[0m\u001b[1;33m\u001b[0m\u001b[1;33m\u001b[0m\u001b[0m\n\u001b[0;32m    423\u001b[0m                 mgr = init_ndarray(data, index, columns, dtype=dtype,\n\u001b[1;32m--> 424\u001b[1;33m                                    copy=copy)\n\u001b[0m\u001b[0;32m    425\u001b[0m \u001b[1;33m\u001b[0m\u001b[0m\n\u001b[0;32m    426\u001b[0m         \u001b[1;31m# For data is list-like, or Iterable (will consume into list)\u001b[0m\u001b[1;33m\u001b[0m\u001b[1;33m\u001b[0m\u001b[1;33m\u001b[0m\u001b[0m\n",
      "\u001b[1;32m~\\Anaconda3\\envs\\mlenv\\lib\\site-packages\\pandas\\core\\internals\\construction.py\u001b[0m in \u001b[0;36minit_ndarray\u001b[1;34m(values, index, columns, dtype, copy)\u001b[0m\n\u001b[0;32m    165\u001b[0m         \u001b[0mvalues\u001b[0m \u001b[1;33m=\u001b[0m \u001b[0mmaybe_infer_to_datetimelike\u001b[0m\u001b[1;33m(\u001b[0m\u001b[0mvalues\u001b[0m\u001b[1;33m)\u001b[0m\u001b[1;33m\u001b[0m\u001b[1;33m\u001b[0m\u001b[0m\n\u001b[0;32m    166\u001b[0m \u001b[1;33m\u001b[0m\u001b[0m\n\u001b[1;32m--> 167\u001b[1;33m     \u001b[1;32mreturn\u001b[0m \u001b[0mcreate_block_manager_from_blocks\u001b[0m\u001b[1;33m(\u001b[0m\u001b[1;33m[\u001b[0m\u001b[0mvalues\u001b[0m\u001b[1;33m]\u001b[0m\u001b[1;33m,\u001b[0m \u001b[1;33m[\u001b[0m\u001b[0mcolumns\u001b[0m\u001b[1;33m,\u001b[0m \u001b[0mindex\u001b[0m\u001b[1;33m]\u001b[0m\u001b[1;33m)\u001b[0m\u001b[1;33m\u001b[0m\u001b[1;33m\u001b[0m\u001b[0m\n\u001b[0m\u001b[0;32m    168\u001b[0m \u001b[1;33m\u001b[0m\u001b[0m\n\u001b[0;32m    169\u001b[0m \u001b[1;33m\u001b[0m\u001b[0m\n",
      "\u001b[1;32m~\\Anaconda3\\envs\\mlenv\\lib\\site-packages\\pandas\\core\\internals\\managers.py\u001b[0m in \u001b[0;36mcreate_block_manager_from_blocks\u001b[1;34m(blocks, axes)\u001b[0m\n\u001b[0;32m   1658\u001b[0m         \u001b[0mblocks\u001b[0m \u001b[1;33m=\u001b[0m \u001b[1;33m[\u001b[0m\u001b[0mgetattr\u001b[0m\u001b[1;33m(\u001b[0m\u001b[0mb\u001b[0m\u001b[1;33m,\u001b[0m \u001b[1;34m'values'\u001b[0m\u001b[1;33m,\u001b[0m \u001b[0mb\u001b[0m\u001b[1;33m)\u001b[0m \u001b[1;32mfor\u001b[0m \u001b[0mb\u001b[0m \u001b[1;32min\u001b[0m \u001b[0mblocks\u001b[0m\u001b[1;33m]\u001b[0m\u001b[1;33m\u001b[0m\u001b[1;33m\u001b[0m\u001b[0m\n\u001b[0;32m   1659\u001b[0m         \u001b[0mtot_items\u001b[0m \u001b[1;33m=\u001b[0m \u001b[0msum\u001b[0m\u001b[1;33m(\u001b[0m\u001b[0mb\u001b[0m\u001b[1;33m.\u001b[0m\u001b[0mshape\u001b[0m\u001b[1;33m[\u001b[0m\u001b[1;36m0\u001b[0m\u001b[1;33m]\u001b[0m \u001b[1;32mfor\u001b[0m \u001b[0mb\u001b[0m \u001b[1;32min\u001b[0m \u001b[0mblocks\u001b[0m\u001b[1;33m)\u001b[0m\u001b[1;33m\u001b[0m\u001b[1;33m\u001b[0m\u001b[0m\n\u001b[1;32m-> 1660\u001b[1;33m         \u001b[0mconstruction_error\u001b[0m\u001b[1;33m(\u001b[0m\u001b[0mtot_items\u001b[0m\u001b[1;33m,\u001b[0m \u001b[0mblocks\u001b[0m\u001b[1;33m[\u001b[0m\u001b[1;36m0\u001b[0m\u001b[1;33m]\u001b[0m\u001b[1;33m.\u001b[0m\u001b[0mshape\u001b[0m\u001b[1;33m[\u001b[0m\u001b[1;36m1\u001b[0m\u001b[1;33m:\u001b[0m\u001b[1;33m]\u001b[0m\u001b[1;33m,\u001b[0m \u001b[0maxes\u001b[0m\u001b[1;33m,\u001b[0m \u001b[0me\u001b[0m\u001b[1;33m)\u001b[0m\u001b[1;33m\u001b[0m\u001b[1;33m\u001b[0m\u001b[0m\n\u001b[0m\u001b[0;32m   1661\u001b[0m \u001b[1;33m\u001b[0m\u001b[0m\n\u001b[0;32m   1662\u001b[0m \u001b[1;33m\u001b[0m\u001b[0m\n",
      "\u001b[1;32m~\\Anaconda3\\envs\\mlenv\\lib\\site-packages\\pandas\\core\\internals\\managers.py\u001b[0m in \u001b[0;36mconstruction_error\u001b[1;34m(tot_items, block_shape, axes, e)\u001b[0m\n\u001b[0;32m   1689\u001b[0m         \u001b[1;32mraise\u001b[0m \u001b[0mValueError\u001b[0m\u001b[1;33m(\u001b[0m\u001b[1;34m\"Empty data passed with indices specified.\"\u001b[0m\u001b[1;33m)\u001b[0m\u001b[1;33m\u001b[0m\u001b[1;33m\u001b[0m\u001b[0m\n\u001b[0;32m   1690\u001b[0m     raise ValueError(\"Shape of passed values is {0}, indices imply {1}\".format(\n\u001b[1;32m-> 1691\u001b[1;33m         passed, implied))\n\u001b[0m\u001b[0;32m   1692\u001b[0m \u001b[1;33m\u001b[0m\u001b[0m\n\u001b[0;32m   1693\u001b[0m \u001b[1;33m\u001b[0m\u001b[0m\n",
      "\u001b[1;31mValueError\u001b[0m: Shape of passed values is (2, 1), indices imply (54, 1)"
     ]
    }
   ],
   "source": [
    "# Construct a dataframe of the model calendar-effect coefficients and review the output:\n",
    "results = pd.DataFrame(model.coef_, columns=[\"Coefficient\"], index=X_binary_encoded.columns)\n",
    "\n",
    "# Filter results so that it only includes either the day-of-week or week-of-year effect \n",
    "results = (results[results.index.str.contains(\"Week_of_Year\")])\n",
    "\n",
    "results.head(10)"
   ]
  },
  {
   "cell_type": "code",
   "execution_count": 41,
   "metadata": {},
   "outputs": [
    {
     "ename": "AttributeError",
     "evalue": "'LinearRegression' object has no attribute 'plot'",
     "output_type": "error",
     "traceback": [
      "\u001b[1;31m---------------------------------------------------------------------------\u001b[0m",
      "\u001b[1;31mAttributeError\u001b[0m                            Traceback (most recent call last)",
      "\u001b[1;32m<ipython-input-41-20eaf5f1832f>\u001b[0m in \u001b[0;36m<module>\u001b[1;34m\u001b[0m\n\u001b[0;32m      1\u001b[0m \u001b[1;31m# Plot the results of the individual seasonal effects using pandas df.plot()\u001b[0m\u001b[1;33m\u001b[0m\u001b[1;33m\u001b[0m\u001b[1;33m\u001b[0m\u001b[0m\n\u001b[1;32m----> 2\u001b[1;33m \u001b[0mresults\u001b[0m\u001b[1;33m.\u001b[0m\u001b[0mplot\u001b[0m\u001b[1;33m(\u001b[0m\u001b[1;33m)\u001b[0m\u001b[1;33m\u001b[0m\u001b[1;33m\u001b[0m\u001b[0m\n\u001b[0m",
      "\u001b[1;31mAttributeError\u001b[0m: 'LinearRegression' object has no attribute 'plot'"
     ]
    }
   ],
   "source": [
    "# Plot the results of the individual seasonal effects using pandas df.plot()\n",
    "results.plot()"
   ]
  },
  {
   "cell_type": "markdown",
   "metadata": {},
   "source": [
    " # Return Forecasting: Autocorrelation and the ARMA Model"
   ]
  },
  {
   "cell_type": "markdown",
   "metadata": {},
   "source": [
    " Using futures Settle *Returns*, estimate an ARMA model.\n",
    " 1. Set the AR and MA (\"p\" and \"q\") parameters to p=2 and q=1.\n",
    " 2. Plot autocorrelation and partial correlation graphs with an alpha of 0.10 and lags=30. If, when looking at the correlation graphs, additional lags seem important for predicting returns, increase the number of lags in the ARMA model from (1).\n",
    " 3. Does increasing the number of \"p\" or \"q\" increase the ability of the model? Compare your results between the two models by comparing the Bayseian Information Criterion, or BIC."
   ]
  },
  {
   "cell_type": "code",
   "execution_count": 42,
   "metadata": {},
   "outputs": [
    {
     "data": {
      "text/plain": [
       "<statsmodels.tsa.arima_model.ARMA at 0x1ac58702c18>"
      ]
     },
     "execution_count": 42,
     "metadata": {},
     "output_type": "execute_result"
    }
   ],
   "source": [
    "import statsmodels.api as sm\n",
    "# Create a series using \"Settle\" price percentage returns, and drop any nan's:\n",
    "df = fut[[\"Settle\"]].pct_change().dropna()\n",
    "\n",
    "# Estimate and ARMA model using statsmodels\n",
    "from statsmodels.tsa.arima_model import ARMA\n",
    "# Hint: ARMA(df, order=(p, q)).fit()\n",
    "autoregressive_count = 2\n",
    "moving_average_window = 1\n",
    "model = ARMA(df.values, order=(autoregressive_count,moving_average_window))\n",
    "model"
   ]
  },
  {
   "cell_type": "code",
   "execution_count": 43,
   "metadata": {},
   "outputs": [
    {
     "data": {
      "text/html": [
       "<table class=\"simpletable\">\n",
       "<caption>ARMA Model Results</caption>\n",
       "<tr>\n",
       "  <th>Dep. Variable:</th>         <td>y</td>        <th>  No. Observations:  </th>    <td>1409</td>   \n",
       "</tr>\n",
       "<tr>\n",
       "  <th>Model:</th>            <td>ARMA(2, 1)</td>    <th>  Log Likelihood     </th>  <td>5343.551</td> \n",
       "</tr>\n",
       "<tr>\n",
       "  <th>Method:</th>             <td>css-mle</td>     <th>  S.D. of innovations</th>    <td>0.005</td>  \n",
       "</tr>\n",
       "<tr>\n",
       "  <th>Date:</th>          <td>Tue, 08 Oct 2019</td> <th>  AIC                </th> <td>-10677.102</td>\n",
       "</tr>\n",
       "<tr>\n",
       "  <th>Time:</th>              <td>19:51:55</td>     <th>  BIC                </th> <td>-10650.848</td>\n",
       "</tr>\n",
       "<tr>\n",
       "  <th>Sample:</th>                <td>0</td>        <th>  HQIC               </th> <td>-10667.291</td>\n",
       "</tr>\n",
       "<tr>\n",
       "  <th></th>                       <td> </td>        <th>                     </th>      <td> </td>    \n",
       "</tr>\n",
       "</table>\n",
       "<table class=\"simpletable\">\n",
       "<tr>\n",
       "     <td></td>        <th>coef</th>     <th>std err</th>      <th>z</th>      <th>P>|z|</th>  <th>[0.025</th>    <th>0.975]</th>  \n",
       "</tr>\n",
       "<tr>\n",
       "  <th>const</th>   <td>-1.479e-05</td> <td>    0.000</td> <td>   -0.097</td> <td> 0.923</td> <td>   -0.000</td> <td>    0.000</td>\n",
       "</tr>\n",
       "<tr>\n",
       "  <th>ar.L1.y</th> <td>    0.3012</td> <td>    0.342</td> <td>    0.882</td> <td> 0.378</td> <td>   -0.368</td> <td>    0.971</td>\n",
       "</tr>\n",
       "<tr>\n",
       "  <th>ar.L2.y</th> <td>    0.0461</td> <td>    0.027</td> <td>    1.732</td> <td> 0.084</td> <td>   -0.006</td> <td>    0.098</td>\n",
       "</tr>\n",
       "<tr>\n",
       "  <th>ma.L1.y</th> <td>   -0.3148</td> <td>    0.341</td> <td>   -0.922</td> <td> 0.357</td> <td>   -0.984</td> <td>    0.354</td>\n",
       "</tr>\n",
       "</table>\n",
       "<table class=\"simpletable\">\n",
       "<caption>Roots</caption>\n",
       "<tr>\n",
       "    <td></td>   <th>            Real</th>  <th>         Imaginary</th> <th>         Modulus</th>  <th>        Frequency</th>\n",
       "</tr>\n",
       "<tr>\n",
       "  <th>AR.1</th> <td>           2.4225</td> <td>          +0.0000j</td> <td>           2.4225</td> <td>           0.0000</td>\n",
       "</tr>\n",
       "<tr>\n",
       "  <th>AR.2</th> <td>          -8.9622</td> <td>          +0.0000j</td> <td>           8.9622</td> <td>           0.5000</td>\n",
       "</tr>\n",
       "<tr>\n",
       "  <th>MA.1</th> <td>           3.1770</td> <td>          +0.0000j</td> <td>           3.1770</td> <td>           0.0000</td>\n",
       "</tr>\n",
       "</table>"
      ],
      "text/plain": [
       "<class 'statsmodels.iolib.summary.Summary'>\n",
       "\"\"\"\n",
       "                              ARMA Model Results                              \n",
       "==============================================================================\n",
       "Dep. Variable:                      y   No. Observations:                 1409\n",
       "Model:                     ARMA(2, 1)   Log Likelihood                5343.551\n",
       "Method:                       css-mle   S.D. of innovations              0.005\n",
       "Date:                Tue, 08 Oct 2019   AIC                         -10677.102\n",
       "Time:                        19:51:55   BIC                         -10650.848\n",
       "Sample:                             0   HQIC                        -10667.291\n",
       "                                                                              \n",
       "==============================================================================\n",
       "                 coef    std err          z      P>|z|      [0.025      0.975]\n",
       "------------------------------------------------------------------------------\n",
       "const      -1.479e-05      0.000     -0.097      0.923      -0.000       0.000\n",
       "ar.L1.y        0.3012      0.342      0.882      0.378      -0.368       0.971\n",
       "ar.L2.y        0.0461      0.027      1.732      0.084      -0.006       0.098\n",
       "ma.L1.y       -0.3148      0.341     -0.922      0.357      -0.984       0.354\n",
       "                                    Roots                                    \n",
       "=============================================================================\n",
       "                  Real          Imaginary           Modulus         Frequency\n",
       "-----------------------------------------------------------------------------\n",
       "AR.1            2.4225           +0.0000j            2.4225            0.0000\n",
       "AR.2           -8.9622           +0.0000j            8.9622            0.5000\n",
       "MA.1            3.1770           +0.0000j            3.1770            0.0000\n",
       "-----------------------------------------------------------------------------\n",
       "\"\"\""
      ]
     },
     "execution_count": 43,
     "metadata": {},
     "output_type": "execute_result"
    }
   ],
   "source": [
    "# Output model summary results:\n",
    "results = model.fit()\n",
    "results.summary()"
   ]
  },
  {
   "cell_type": "code",
   "execution_count": 44,
   "metadata": {},
   "outputs": [
    {
     "data": {
      "image/png": "[encoded data removed]",
      "text/plain": [
       "<Figure size 432x288 with 1 Axes>"
      ]
     },
     "execution_count": 44,
     "metadata": {},
     "output_type": "execute_result"
    },
    {
     "data": {
      "image/png": "[encoded data removed]",
      "text/plain": [
       "<Figure size 432x288 with 1 Axes>"
      ]
     },
     "metadata": {
      "needs_background": "light"
     },
     "output_type": "display_data"
    },
    {
     "data": {
      "image/png": "[encoded data removed]",
      "text/plain": [
       "<Figure size 432x288 with 1 Axes>"
      ]
     },
     "metadata": {
      "needs_background": "light"
     },
     "output_type": "display_data"
    }
   ],
   "source": [
    "# Plot autocorrelation and partial correlation graphs with an alpha of 0.10 and lags=30.\n",
    "from statsmodels.graphics.tsaplots import plot_acf, plot_pacf\n",
    "\n",
    "# Autocorrelation (For detecting # of MA (\"P\") Lags)\n",
    "plot_acf(df, lags=30, zero=False, alpha=0.1)\n",
    "\n",
    "# Partial Autocorrelation (For detecting # of MA (\"P\") Lags)\n",
    "plot_pacf(df, lags=30, zero=False, alpha=0.1)"
   ]
  },
  {
   "cell_type": "code",
   "execution_count": 45,
   "metadata": {},
   "outputs": [
    {
     "data": {
      "text/html": [
       "<table class=\"simpletable\">\n",
       "<caption>ARMA Model Results</caption>\n",
       "<tr>\n",
       "  <th>Dep. Variable:</th>         <td>y</td>        <th>  No. Observations:  </th>    <td>1409</td>   \n",
       "</tr>\n",
       "<tr>\n",
       "  <th>Model:</th>            <td>ARMA(5, 3)</td>    <th>  Log Likelihood     </th>  <td>5348.621</td> \n",
       "</tr>\n",
       "<tr>\n",
       "  <th>Method:</th>             <td>css-mle</td>     <th>  S.D. of innovations</th>    <td>0.005</td>  \n",
       "</tr>\n",
       "<tr>\n",
       "  <th>Date:</th>          <td>Tue, 08 Oct 2019</td> <th>  AIC                </th> <td>-10677.243</td>\n",
       "</tr>\n",
       "<tr>\n",
       "  <th>Time:</th>              <td>19:51:59</td>     <th>  BIC                </th> <td>-10624.736</td>\n",
       "</tr>\n",
       "<tr>\n",
       "  <th>Sample:</th>                <td>0</td>        <th>  HQIC               </th> <td>-10657.621</td>\n",
       "</tr>\n",
       "<tr>\n",
       "  <th></th>                       <td> </td>        <th>                     </th>      <td> </td>    \n",
       "</tr>\n",
       "</table>\n",
       "<table class=\"simpletable\">\n",
       "<tr>\n",
       "     <td></td>        <th>coef</th>     <th>std err</th>      <th>z</th>      <th>P>|z|</th>  <th>[0.025</th>    <th>0.975]</th>  \n",
       "</tr>\n",
       "<tr>\n",
       "  <th>const</th>   <td>-1.494e-05</td> <td>    0.000</td> <td>   -0.101</td> <td> 0.919</td> <td>   -0.000</td> <td>    0.000</td>\n",
       "</tr>\n",
       "<tr>\n",
       "  <th>ar.L1.y</th> <td>   -0.6381</td> <td>    0.180</td> <td>   -3.555</td> <td> 0.000</td> <td>   -0.990</td> <td>   -0.286</td>\n",
       "</tr>\n",
       "<tr>\n",
       "  <th>ar.L2.y</th> <td>   -0.5267</td> <td>    0.147</td> <td>   -3.588</td> <td> 0.000</td> <td>   -0.814</td> <td>   -0.239</td>\n",
       "</tr>\n",
       "<tr>\n",
       "  <th>ar.L3.y</th> <td>   -0.6254</td> <td>    0.167</td> <td>   -3.737</td> <td> 0.000</td> <td>   -0.953</td> <td>   -0.297</td>\n",
       "</tr>\n",
       "<tr>\n",
       "  <th>ar.L4.y</th> <td>    0.0107</td> <td>    0.039</td> <td>    0.275</td> <td> 0.783</td> <td>   -0.066</td> <td>    0.087</td>\n",
       "</tr>\n",
       "<tr>\n",
       "  <th>ar.L5.y</th> <td>   -0.0261</td> <td>    0.032</td> <td>   -0.823</td> <td> 0.411</td> <td>   -0.088</td> <td>    0.036</td>\n",
       "</tr>\n",
       "<tr>\n",
       "  <th>ma.L1.y</th> <td>    0.6246</td> <td>    0.178</td> <td>    3.509</td> <td> 0.000</td> <td>    0.276</td> <td>    0.974</td>\n",
       "</tr>\n",
       "<tr>\n",
       "  <th>ma.L2.y</th> <td>    0.5621</td> <td>    0.143</td> <td>    3.934</td> <td> 0.000</td> <td>    0.282</td> <td>    0.842</td>\n",
       "</tr>\n",
       "<tr>\n",
       "  <th>ma.L3.y</th> <td>    0.6727</td> <td>    0.160</td> <td>    4.203</td> <td> 0.000</td> <td>    0.359</td> <td>    0.986</td>\n",
       "</tr>\n",
       "</table>\n",
       "<table class=\"simpletable\">\n",
       "<caption>Roots</caption>\n",
       "<tr>\n",
       "    <td></td>   <th>            Real</th>  <th>         Imaginary</th> <th>         Modulus</th>  <th>        Frequency</th>\n",
       "</tr>\n",
       "<tr>\n",
       "  <th>AR.1</th> <td>          -1.1221</td> <td>          -0.0000j</td> <td>           1.1221</td> <td>          -0.5000</td>\n",
       "</tr>\n",
       "<tr>\n",
       "  <th>AR.2</th> <td>           0.1435</td> <td>          -1.1867j</td> <td>           1.1954</td> <td>          -0.2308</td>\n",
       "</tr>\n",
       "<tr>\n",
       "  <th>AR.3</th> <td>           0.1435</td> <td>          +1.1867j</td> <td>           1.1954</td> <td>           0.2308</td>\n",
       "</tr>\n",
       "<tr>\n",
       "  <th>AR.4</th> <td>           0.6227</td> <td>          -4.8441j</td> <td>           4.8840</td> <td>          -0.2297</td>\n",
       "</tr>\n",
       "<tr>\n",
       "  <th>AR.5</th> <td>           0.6227</td> <td>          +4.8441j</td> <td>           4.8840</td> <td>           0.2297</td>\n",
       "</tr>\n",
       "<tr>\n",
       "  <th>MA.1</th> <td>          -1.1510</td> <td>          -0.0000j</td> <td>           1.1510</td> <td>          -0.5000</td>\n",
       "</tr>\n",
       "<tr>\n",
       "  <th>MA.2</th> <td>           0.1577</td> <td>          -1.1254j</td> <td>           1.1364</td> <td>          -0.2278</td>\n",
       "</tr>\n",
       "<tr>\n",
       "  <th>MA.3</th> <td>           0.1577</td> <td>          +1.1254j</td> <td>           1.1364</td> <td>           0.2278</td>\n",
       "</tr>\n",
       "</table>"
      ],
      "text/plain": [
       "<class 'statsmodels.iolib.summary.Summary'>\n",
       "\"\"\"\n",
       "                              ARMA Model Results                              \n",
       "==============================================================================\n",
       "Dep. Variable:                      y   No. Observations:                 1409\n",
       "Model:                     ARMA(5, 3)   Log Likelihood                5348.621\n",
       "Method:                       css-mle   S.D. of innovations              0.005\n",
       "Date:                Tue, 08 Oct 2019   AIC                         -10677.243\n",
       "Time:                        19:51:59   BIC                         -10624.736\n",
       "Sample:                             0   HQIC                        -10657.621\n",
       "                                                                              \n",
       "==============================================================================\n",
       "                 coef    std err          z      P>|z|      [0.025      0.975]\n",
       "------------------------------------------------------------------------------\n",
       "const      -1.494e-05      0.000     -0.101      0.919      -0.000       0.000\n",
       "ar.L1.y       -0.6381      0.180     -3.555      0.000      -0.990      -0.286\n",
       "ar.L2.y       -0.5267      0.147     -3.588      0.000      -0.814      -0.239\n",
       "ar.L3.y       -0.6254      0.167     -3.737      0.000      -0.953      -0.297\n",
       "ar.L4.y        0.0107      0.039      0.275      0.783      -0.066       0.087\n",
       "ar.L5.y       -0.0261      0.032     -0.823      0.411      -0.088       0.036\n",
       "ma.L1.y        0.6246      0.178      3.509      0.000       0.276       0.974\n",
       "ma.L2.y        0.5621      0.143      3.934      0.000       0.282       0.842\n",
       "ma.L3.y        0.6727      0.160      4.203      0.000       0.359       0.986\n",
       "                                    Roots                                    \n",
       "=============================================================================\n",
       "                  Real          Imaginary           Modulus         Frequency\n",
       "-----------------------------------------------------------------------------\n",
       "AR.1           -1.1221           -0.0000j            1.1221           -0.5000\n",
       "AR.2            0.1435           -1.1867j            1.1954           -0.2308\n",
       "AR.3            0.1435           +1.1867j            1.1954            0.2308\n",
       "AR.4            0.6227           -4.8441j            4.8840           -0.2297\n",
       "AR.5            0.6227           +4.8441j            4.8840            0.2297\n",
       "MA.1           -1.1510           -0.0000j            1.1510           -0.5000\n",
       "MA.2            0.1577           -1.1254j            1.1364           -0.2278\n",
       "MA.3            0.1577           +1.1254j            1.1364            0.2278\n",
       "-----------------------------------------------------------------------------\n",
       "\"\"\""
      ]
     },
     "execution_count": 45,
     "metadata": {},
     "output_type": "execute_result"
    }
   ],
   "source": [
    "autoregressive_count = 5\n",
    "moving_average_window = 3\n",
    "\n",
    "# Esimate your model based on your interpretation of the autocorrelation/partial autocorrelation plots:\n",
    "model_2 = ARMA(df.values, order=(autoregressive_count,moving_average_window))\n",
    "\n",
    "# Review model summary results:\\\n",
    "results_2 = model_2.fit()\n",
    "results_2.summary()"
   ]
  },
  {
   "cell_type": "markdown",
   "metadata": {},
   "source": [
    " # Return Forecasting: Deploying the ARIMA Model"
   ]
  },
  {
   "cell_type": "markdown",
   "metadata": {},
   "source": [
    " 1. Using the *raw* Yen **Settle Price**, estimate an ARIMA model.\n",
    "     1. Set P=5, D=1, and Q=1 in the model (e.g., ARIMA(df, order=(5,1,1))\n",
    "     2. P= # of Auto-Regressive Lags, D= # of Differences (this is usually =1), Q= # of Moving Average Lags\n",
    "\n",
    " 2. Plot the residuals from the model. If residuals are the part of returns that our model *doesn\"t* explain, does it seem like our model has missed any seasonality?\n",
    " 3. Construct a 15 day (3 week) forecast for the Settle Price. What does the model forecast will happen to the Japanese Yen in the near term?"
   ]
  },
  {
   "cell_type": "code",
   "execution_count": 46,
   "metadata": {},
   "outputs": [
    {
     "data": {
      "text/html": [
       "<div>\n",
       "<style scoped>\n",
       "    .dataframe tbody tr th:only-of-type {\n",
       "        vertical-align: middle;\n",
       "    }\n",
       "\n",
       "    .dataframe tbody tr th {\n",
       "        vertical-align: top;\n",
       "    }\n",
       "\n",
       "    .dataframe thead th {\n",
       "        text-align: right;\n",
       "    }\n",
       "</style>\n",
       "<table border=\"1\" class=\"dataframe\">\n",
       "  <thead>\n",
       "    <tr style=\"text-align: right;\">\n",
       "      <th></th>\n",
       "      <th>Settle</th>\n",
       "    </tr>\n",
       "    <tr>\n",
       "      <th>Date</th>\n",
       "      <th></th>\n",
       "    </tr>\n",
       "  </thead>\n",
       "  <tbody>\n",
       "    <tr>\n",
       "      <th>2014-02-19</th>\n",
       "      <td>-0.000204604</td>\n",
       "    </tr>\n",
       "    <tr>\n",
       "      <th>2014-02-20</th>\n",
       "      <td>0.000204645</td>\n",
       "    </tr>\n",
       "    <tr>\n",
       "      <th>2014-02-21</th>\n",
       "      <td>-0.002046036</td>\n",
       "    </tr>\n",
       "    <tr>\n",
       "      <th>2014-02-24</th>\n",
       "      <td>0.000205023</td>\n",
       "    </tr>\n",
       "    <tr>\n",
       "      <th>2014-02-25</th>\n",
       "      <td>0.003279697</td>\n",
       "    </tr>\n",
       "  </tbody>\n",
       "</table>\n",
       "</div>"
      ],
      "text/plain": [
       "                 Settle\n",
       "Date                   \n",
       "2014-02-19 -0.000204604\n",
       "2014-02-20  0.000204645\n",
       "2014-02-21 -0.002046036\n",
       "2014-02-24  0.000205023\n",
       "2014-02-25  0.003279697"
      ]
     },
     "execution_count": 46,
     "metadata": {},
     "output_type": "execute_result"
    }
   ],
   "source": [
    "# For ARIMA, construct a dataframe using just the futures \"Settle\" prices:\n",
    "arima_df = fut[[\"Settle\"]].pct_change().dropna()\n",
    "arima_df.head()"
   ]
  },
  {
   "cell_type": "code",
   "execution_count": 47,
   "metadata": {},
   "outputs": [
    {
     "name": "stdout",
     "output_type": "stream",
     "text": [
      "                             ARIMA Model Results                              \n",
      "==============================================================================\n",
      "Dep. Variable:               D.Settle   No. Observations:                 1408\n",
      "Model:                 ARIMA(5, 1, 1)   Log Likelihood                5336.248\n",
      "Method:                       css-mle   S.D. of innovations              0.005\n",
      "Date:                Tue, 08 Oct 2019   AIC                         -10656.496\n",
      "Time:                        19:52:01   BIC                         -10614.497\n",
      "Sample:                             1   HQIC                        -10640.800\n",
      "                                                                              \n",
      "==================================================================================\n",
      "                     coef    std err          z      P>|z|      [0.025      0.975]\n",
      "----------------------------------------------------------------------------------\n",
      "const            3.44e-07   1.84e-06      0.187      0.852   -3.27e-06    3.95e-06\n",
      "ar.L1.D.Settle    -0.0196      0.028     -0.702      0.483      -0.074       0.035\n",
      "ar.L2.D.Settle     0.0339      0.028      1.218      0.223      -0.021       0.088\n",
      "ar.L3.D.Settle     0.0299      0.028      1.075      0.282      -0.025       0.084\n",
      "ar.L4.D.Settle    -0.0188      0.028     -0.677      0.498      -0.073       0.036\n",
      "ar.L5.D.Settle    -0.0542      0.028     -1.958      0.050      -0.108    4.86e-05\n",
      "ma.L1.D.Settle    -0.9879      0.014    -72.958      0.000      -1.014      -0.961\n",
      "                                    Roots                                    \n",
      "=============================================================================\n",
      "                  Real          Imaginary           Modulus         Frequency\n",
      "-----------------------------------------------------------------------------\n",
      "AR.1            1.4463           -0.9949j            1.7554           -0.0959\n",
      "AR.2            1.4463           +0.9949j            1.7554            0.0959\n",
      "AR.3           -0.6789           -1.6496j            1.7838           -0.3121\n",
      "AR.4           -0.6789           +1.6496j            1.7838            0.3121\n",
      "AR.5           -1.8812           -0.0000j            1.8812           -0.5000\n",
      "MA.1            1.0123           +0.0000j            1.0123            0.0000\n",
      "-----------------------------------------------------------------------------\n"
     ]
    },
    {
     "data": {
      "image/png": "[encoded data removed]",
      "text/plain": [
       "<Figure size 432x288 with 1 Axes>"
      ]
     },
     "metadata": {
      "needs_background": "light"
     },
     "output_type": "display_data"
    },
    {
     "name": "stdout",
     "output_type": "stream",
     "text": [
      "count   1408.000000000\n",
      "mean      -0.000012797\n",
      "std        0.005465409\n",
      "min       -0.025410482\n",
      "25%       -0.003135536\n",
      "50%       -0.000123994\n",
      "75%        0.002794745\n",
      "max        0.033820743\n",
      "dtype: float64\n"
     ]
    }
   ],
   "source": [
    "from statsmodels.tsa.arima_model import ARIMA\n",
    "# Estimate and ARIMA Model:\n",
    "# Hint: ARIMA(df, order=(p, d, q))\n",
    "model = ARIMA(arima_df, order=(5, 1, 1))\n",
    "model_fit = model.fit()\n",
    "# Output model summary results:\n",
    "print(model_fit.summary())\n",
    "# plot residual errors:\n",
    "residuals = model_fit.resid\n",
    "residuals.plot(title=\"Noise (Model Residuals)\")\n",
    "plt.show()\n",
    "print(residuals.describe())"
   ]
  },
  {
   "cell_type": "code",
   "execution_count": 48,
   "metadata": {},
   "outputs": [
    {
     "data": {
      "text/plain": [
       "<matplotlib.axes._subplots.AxesSubplot at 0x1ac588a95c0>"
      ]
     },
     "execution_count": 48,
     "metadata": {},
     "output_type": "execute_result"
    },
    {
     "data": {
      "image/png": "[encoded data removed]",
      "text/plain": [
       "<Figure size 432x288 with 1 Axes>"
      ]
     },
     "metadata": {
      "needs_background": "light"
     },
     "output_type": "display_data"
    }
   ],
   "source": [
    "# Construct a 15 day (3 week) forecast for the Settle Price. \n",
    "# What does the model forecast will happen to the Japanese Yen in the near term?\n",
    "# Specifically, construct a pandas DataFrame containing ARIMA model forecasts for a 15-day window:\n",
    "pd.DataFrame(model_fit.forecast(steps=15)[0]).plot(title=\"Yen_Forecast\")"
   ]
  },
  {
   "cell_type": "markdown",
   "metadata": {},
   "source": [
    " # Volatility Forecasting\n",
    "\n",
    " Rather than predicting returns, let's forecast near-term **volatility** of Japanese Yen futures returns. Being able to accurately predict volatility will be extremely useful if we want to trade in derivatives or quantify our maximum loss."
   ]
  },
  {
   "cell_type": "markdown",
   "metadata": {},
   "source": [
    "### Volatility Forecasting: GARCH and EGARCH Models\n",
    "Using the \"arch\" package, estimate either GARCH(1,1) or an EGARCH(p,q) volatility forecast model on futures settle returns."
   ]
  },
  {
   "cell_type": "code",
   "execution_count": 49,
   "metadata": {},
   "outputs": [],
   "source": [
    "from arch import arch_model"
   ]
  },
  {
   "cell_type": "code",
   "execution_count": 50,
   "metadata": {},
   "outputs": [
    {
     "data": {
      "text/html": [
       "<div>\n",
       "<style scoped>\n",
       "    .dataframe tbody tr th:only-of-type {\n",
       "        vertical-align: middle;\n",
       "    }\n",
       "\n",
       "    .dataframe tbody tr th {\n",
       "        vertical-align: top;\n",
       "    }\n",
       "\n",
       "    .dataframe thead th {\n",
       "        text-align: right;\n",
       "    }\n",
       "</style>\n",
       "<table border=\"1\" class=\"dataframe\">\n",
       "  <thead>\n",
       "    <tr style=\"text-align: right;\">\n",
       "      <th></th>\n",
       "      <th>Settle</th>\n",
       "    </tr>\n",
       "    <tr>\n",
       "      <th>Date</th>\n",
       "      <th></th>\n",
       "    </tr>\n",
       "  </thead>\n",
       "  <tbody>\n",
       "    <tr>\n",
       "      <th>2014-02-19</th>\n",
       "      <td>-0.020460358</td>\n",
       "    </tr>\n",
       "    <tr>\n",
       "      <th>2014-02-20</th>\n",
       "      <td>0.020464545</td>\n",
       "    </tr>\n",
       "    <tr>\n",
       "      <th>2014-02-21</th>\n",
       "      <td>-0.204603581</td>\n",
       "    </tr>\n",
       "    <tr>\n",
       "      <th>2014-02-24</th>\n",
       "      <td>0.020502307</td>\n",
       "    </tr>\n",
       "    <tr>\n",
       "      <th>2014-02-25</th>\n",
       "      <td>0.327969663</td>\n",
       "    </tr>\n",
       "  </tbody>\n",
       "</table>\n",
       "</div>"
      ],
      "text/plain": [
       "                 Settle\n",
       "Date                   \n",
       "2014-02-19 -0.020460358\n",
       "2014-02-20  0.020464545\n",
       "2014-02-21 -0.204603581\n",
       "2014-02-24  0.020502307\n",
       "2014-02-25  0.327969663"
      ]
     },
     "execution_count": 50,
     "metadata": {},
     "output_type": "execute_result"
    }
   ],
   "source": [
    "# Create a series using \"Settle\" price percentage returns, drop any nan\"s, and check the results:\n",
    "# (Make sure to multiply the pct_change() results by *100)\n",
    "# In this case, you may have to replace inf, -inf values with np.nan\"s\n",
    "returns=(fut[[\"Settle\"]].pct_change()*100)\n",
    "returns=returns.replace(-np.inf, np.nan).dropna()\n",
    "returns.dropna().head()"
   ]
  },
  {
   "cell_type": "code",
   "execution_count": 51,
   "metadata": {},
   "outputs": [],
   "source": [
    "# Estimate a GARCH(1,1) model using the \"arch\" package:\n",
    "# (We need to drop all NaN\"s first in order to get this to run):\n",
    "am = arch_model(returns, mean=\"Zero\", vol=\"GARCH\", p=1, q=1)\n",
    "res = am.fit(disp=\"off\")"
   ]
  },
  {
   "cell_type": "code",
   "execution_count": 52,
   "metadata": {},
   "outputs": [
    {
     "name": "stdout",
     "output_type": "stream",
     "text": [
      "                       Zero Mean - GARCH Model Results                        \n",
      "==============================================================================\n",
      "Dep. Variable:                 Settle   R-squared:                       0.000\n",
      "Mean Model:                 Zero Mean   Adj. R-squared:                  0.001\n",
      "Vol Model:                      GARCH   Log-Likelihood:               -1066.61\n",
      "Distribution:                  Normal   AIC:                           2139.21\n",
      "Method:            Maximum Likelihood   BIC:                           2154.97\n",
      "                                        No. Observations:                 1409\n",
      "Date:                Tue, Oct 08 2019   Df Residuals:                     1406\n",
      "Time:                        19:52:02   Df Model:                            3\n",
      "                               Volatility Model                              \n",
      "=============================================================================\n",
      "                 coef    std err          t      P>|t|       95.0% Conf. Int.\n",
      "-----------------------------------------------------------------------------\n",
      "omega      2.3941e-03  1.693e-03      1.414      0.157 [-9.244e-04,5.713e-03]\n",
      "alpha[1]       0.0403  1.531e-02      2.632  8.483e-03  [1.029e-02,7.028e-02]\n",
      "beta[1]        0.9526  1.779e-02     53.552      0.000      [  0.918,  0.987]\n",
      "=============================================================================\n",
      "\n",
      "Covariance estimator: robust\n"
     ]
    }
   ],
   "source": [
    "# Output the summary results of the GARCH model:\n",
    "print(res.summary())"
   ]
  },
  {
   "cell_type": "markdown",
   "metadata": {},
   "source": [
    "### Volatility Forecasting: Identifying Patterns of Clustered Volatility\n",
    "\n",
    "GARCH/EGARCH, etc. models are good for capturing the \"volatility clustering\" effect that is common in financial data. After estimating your model, can you identify periods when volatility clusters together?"
   ]
  },
  {
   "cell_type": "code",
   "execution_count": 53,
   "metadata": {},
   "outputs": [
    {
     "data": {
      "image/png": "[encoded data removed]",
      "text/plain": [
       "<Figure size 432x288 with 2 Axes>"
      ]
     },
     "metadata": {
      "needs_background": "light"
     },
     "output_type": "display_data"
    }
   ],
   "source": [
    "# Plot the model\"s conditional volatility for the Yen:\n",
    "# Hint: use .plot(annualize=\"D\")\n",
    "fig = res.plot(annualize='D') "
   ]
  },
  {
   "cell_type": "markdown",
   "metadata": {},
   "source": [
    "### Volatility Forecasting: 3-day Yen Volatility Forecasts using GARCH/EGARCH\n",
    "  * Let's do some forecasting of near-term risk. Specifically, use the .forecast() method to calculate 3-day forecasts. Then plot the resulting 3-day annualized variance. Is Yen volatility expected to rise or fall in the near term?"
   ]
  },
  {
   "cell_type": "code",
   "execution_count": 54,
   "metadata": {},
   "outputs": [
    {
     "data": {
      "text/plain": [
       "<arch.univariate.base.ARCHModelForecast at 0x1ac589b76a0>"
      ]
     },
     "execution_count": 54,
     "metadata": {},
     "output_type": "execute_result"
    }
   ],
   "source": [
    "# Note--You can either specify today\"s date manually, or use pd.datetime.today().strftime(\"%Y-%m-%d\") \n",
    "# (example format: start=\"2019-06-28\")\n",
    "# If you have problems with datetime, \n",
    "# specify data date manually using the most recent trading date in the dataframe\n",
    "todays_date = pd.datetime.today().strftime(\"%Y-%m-%d\")                  \n",
    "# todays_date = '2019-07-05'\n",
    "# Forecast volatility, from today\"s date until the following three days:\n",
    "forecast_horizon = 3\n",
    "forecasts = res.forecast(start=todays_date, horizon=forecast_horizon)\n",
    "forecasts"
   ]
  },
  {
   "cell_type": "code",
   "execution_count": 57,
   "metadata": {},
   "outputs": [
    {
     "data": {
      "text/plain": [
       "<matplotlib.axes._subplots.AxesSubplot at 0x1ac5f6571d0>"
      ]
     },
     "execution_count": 57,
     "metadata": {},
     "output_type": "execute_result"
    },
    {
     "data": {
      "image/png": "[encoded data removed]",
      "text/plain": [
       "<Figure size 432x288 with 1 Axes>"
      ]
     },
     "metadata": {
      "needs_background": "light"
     },
     "output_type": "display_data"
    }
   ],
   "source": [
    "# Plot the annualized volatility forecast using pd.plot():\n",
    "# (Make sure to use dropna() on the forecasts before plotting):\n",
    "# (There are 252 trading days in a year)\n",
    "# Note: each column in forecasts.variance represents one day ahead: \n",
    "plot_title = f\"Forecast Volatility over the next {forecast_horizon} days\"\n",
    "model_forecasts = np.sqrt(forecasts.variance.dropna() * 252)\n",
    "final = model_forecasts.dropna().T\n",
    "final.plot(title=plot_title) "
   ]
  },
  {
   "cell_type": "code",
   "execution_count": 56,
   "metadata": {},
   "outputs": [
    {
     "data": {
      "text/html": [
       "<div>\n",
       "<style scoped>\n",
       "    .dataframe tbody tr th:only-of-type {\n",
       "        vertical-align: middle;\n",
       "    }\n",
       "\n",
       "    .dataframe tbody tr th {\n",
       "        vertical-align: top;\n",
       "    }\n",
       "\n",
       "    .dataframe thead th {\n",
       "        text-align: right;\n",
       "    }\n",
       "</style>\n",
       "<table border=\"1\" class=\"dataframe\">\n",
       "  <thead>\n",
       "    <tr style=\"text-align: right;\">\n",
       "      <th>Date</th>\n",
       "      <th>2019-10-08 00:00:00</th>\n",
       "    </tr>\n",
       "  </thead>\n",
       "  <tbody>\n",
       "    <tr>\n",
       "      <th>h.1</th>\n",
       "      <td>6.841488334</td>\n",
       "    </tr>\n",
       "    <tr>\n",
       "      <th>h.2</th>\n",
       "      <td>6.861077694</td>\n",
       "    </tr>\n",
       "    <tr>\n",
       "      <th>h.3</th>\n",
       "      <td>6.880471716</td>\n",
       "    </tr>\n",
       "  </tbody>\n",
       "</table>\n",
       "</div>"
      ],
      "text/plain": [
       "Date  2019-10-08\n",
       "h.1  6.841488334\n",
       "h.2  6.861077694\n",
       "h.3  6.880471716"
      ]
     },
     "execution_count": 56,
     "metadata": {},
     "output_type": "execute_result"
    }
   ],
   "source": [
    "final"
   ]
  },
  {
   "cell_type": "code",
   "execution_count": 58,
   "metadata": {},
   "outputs": [
    {
     "data": {
      "image/png": "[encoded data removed]",
      "text/plain": [
       "<Figure size 432x288 with 2 Axes>"
      ]
     },
     "metadata": {
      "needs_background": "light"
     },
     "output_type": "display_data"
    }
   ],
   "source": [
    "fig = res.plot(annualize='D') "
   ]
  },
  {
   "cell_type": "markdown",
   "metadata": {},
   "source": [
    " # Out-of-Sample Predictions\n",
    " So far, you\"ve used the full dataset to construct a model. Let's try a more rigorous technique."
   ]
  },
  {
   "cell_type": "markdown",
   "metadata": {},
   "source": [
    "### Out-of-Sample Predictions: Slicing the Data into Training and Test Set (\"One Shot\" Approach)\n",
    "\n",
    "Using the SKLearn regression model and just lagged returns as the independent variable, start by estimating a model using **training data** from January, 2015 through December 2017."
   ]
  },
  {
   "cell_type": "code",
   "execution_count": null,
   "metadata": {},
   "outputs": [],
   "source": [
    "# If you haven\"t already, create and add \"Futures Return\" and \"Lagged Futures Return\" variables to your dataframe:\n",
    "# Replace inf, -inf with np.nan, then drop any row with at least one np.nan in the dataframe\n",
    "fut[\"Futures Return\"] = # YOUR CODE HERE \n",
    "fut[\"Lagged Return\"] = # YOUR CODE HERE \n",
    "fut = fut.replace(-np.inf, np.nan).dropna()\n",
    "fut[[\"Futures Return\", \"Lagged Return\"]].head()"
   ]
  },
  {
   "cell_type": "code",
   "execution_count": null,
   "metadata": {},
   "outputs": [],
   "source": [
    "# Using datetime index slicing, create a \"training\" data dataframe using data from just 2015-01-01 to 2017-12-31\n",
    "train = # YOUR CODE HERE \n",
    "print(\"Training set covers from \", train.index.min(), \" to \", train.index.max())\n",
    "train.head(2)"
   ]
  },
  {
   "cell_type": "code",
   "execution_count": null,
   "metadata": {},
   "outputs": [],
   "source": [
    "# Using datetime index slicing, create a \"test\" data dataframe using data from 2018-01-01 through the end of the data\n",
    "test = # YOUR CODE HERE \n",
    "print(\"Test set covers from \", test.index.min(), \" to \", test.index.max())\n",
    "test.head(2)"
   ]
  },
  {
   "cell_type": "markdown",
   "metadata": {},
   "source": [
    "  * Then use the model developed on a test set using data from 2018 onward."
   ]
  },
  {
   "cell_type": "code",
   "execution_count": null,
   "metadata": {},
   "outputs": [],
   "source": [
    "# Create four dataframes:\n",
    "# X_train (training set using just the independent variables), X_test (test set of of just the independent variables)\n",
    "# Y_train (training set using just the \"y\" variable, i.e., \"Futures Return\"), Y_test (test set of just the \"y\" variable):\n",
    "X_train = # YOUR CODE HERE \n",
    "y_train = # YOUR CODE HERE \n",
    "X_test = # YOUR CODE HERE \n",
    "y_test = # YOUR CODE HERE "
   ]
  },
  {
   "cell_type": "code",
   "execution_count": null,
   "metadata": {},
   "outputs": [],
   "source": [
    "# Fit a SKLearn linear regression using  just the training set (X_train, Y_train):\n",
    "# YOUR CODE HERE \n",
    "\n",
    "# Score how that model works using only the test data\n",
    "# YOUR CODE HERE \n",
    "\n",
    "# And make a prediction of \"y\" values for just the test dataset\n",
    "predictions = # YOUR CODE HERE \n",
    "\n",
    "# Assemble actual y data (Y_test) with predicted y data (from just above) into two columns in a dataframe:\n",
    "Results = y_test.to_frame()\n",
    "Results[\"Predicted Return\"] = predictions"
   ]
  },
  {
   "cell_type": "code",
   "execution_count": null,
   "metadata": {},
   "outputs": [],
   "source": [
    "Results.head()"
   ]
  },
  {
   "cell_type": "markdown",
   "metadata": {},
   "source": [
    "\n",
    "  * Compare the RMSE from the model using the test sample to the RMSE when using the full-sample. Are the results surprising?"
   ]
  },
  {
   "cell_type": "code",
   "execution_count": null,
   "metadata": {},
   "outputs": [],
   "source": [
    "# Calculate the mean_squared_error (MSE) on actual versus predicted test \"y\" \n",
    "# (Hint: use the dataframe above)\n",
    "mse = # YOUR CODE HERE \n",
    "\n",
    "# Using that mean-squared-error, calculate the root-mean-squared error (RMSE):\n",
    "one_shot_rmse = # YOUR CODE HERE \n",
    "print(f\"Out-of-Sample Root Mean Squared Error (RMSE): {one_shot_rmse}\")"
   ]
  },
  {
   "cell_type": "code",
   "execution_count": null,
   "metadata": {},
   "outputs": [],
   "source": [
    "# Construct a dataframe using just the \"y\" training data:\n",
    "in_sample_results = y_train.to_frame()\n",
    "\n",
    "# Add a column of \"in-sample\" predictions to that dataframe:  \n",
    "in_sample_results[\"In-sample Predictions\"] = # YOUR CODE HERE \n",
    "\n",
    "# Calculate in-sample mean_squared_error (for comparison to out-of-sample)\n",
    "in_sample_mse = # YOUR CODE HERE \n",
    "\n",
    "# Calculate in-sample root mean_squared_error (for comparison to out-of-sample)\n",
    "in_sample_rmse = # YOUR CODE HERE \n",
    "print(f\"In-sample Root Mean Squared Error (RMSE): {in_sample_rmse}\")"
   ]
  },
  {
   "cell_type": "markdown",
   "metadata": {},
   "source": [
    "### Out-of-Sample Predictions: The Rolling Out-of-Sample Approach\n",
    "\n",
    "Let's take the model above (i.e., SKLearn predicting futures returns with lagged futures returns), but apply it using a rolling, out of sample approach. This method, which is specific to time-series predictions, will be a more realistic and more rigorous approximation of how the model would perform in real life.\n",
    "\n",
    "Specifically, start at the beginning of the dataset and \"roll forward\" one week at a time, using a 26-week (6 month) rolling training window."
   ]
  },
  {
   "cell_type": "code",
   "execution_count": null,
   "metadata": {},
   "outputs": [],
   "source": [
    "# Main Idea: Each week, re-estimate the model, then trade on it the following week. \n",
    "# Continue this \"out of sample\" approach throughout the dataset."
   ]
  },
  {
   "cell_type": "code",
   "execution_count": null,
   "metadata": {},
   "outputs": [],
   "source": [
    "# Construct an empty placeholder dataframe, with a column named \"Out-of-Sample Predictions\"\n",
    "# (Each iteration of the loop, we\"ll append that week\"s predictions to this DataFrame)\n",
    "all_predictions = pd.DataFrame(columns=[\"Out-of-Sample Predictions\"])\n",
    "# Construct an empty placeholder dataframe, with a column named \"Actual Returns\"\n",
    "# (Each iteration of the loop, we\"ll append that week\"s predictions to this DataFrame)\n",
    "all_actuals = pd.DataFrame(columns=[\"Actual Returns\"])\n",
    "\n",
    "# construct a list of all pandas weekly periods that are in the dataset:\n",
    "weeks = fut.index.to_period(\"w\").unique()\n",
    "\n",
    "# Specify a training window (26 weeks (6 months) of data)\n",
    "training_window = 26  \n",
    "\n",
    "# Write a for loop that iterates from 0 to the number of weeks (minus the training window) in the dataset:\n",
    "# We have to subtract the length of the training window because\n",
    "# Going beyond this goes beyond the length of our dataset    \n",
    "for i in range(0, (len(weeks) - training_window - 1)):\n",
    "# Create an datetime object to mark the beginning of the training window (which changes, for each \"i\"):     \n",
    "    beginning_training_week = # YOUR CODE HERE \n",
    "# Create a string variable from that time object with format=\"%Y-%m-%d\"\n",
    "    start_training_period = # YOUR CODE HERE \n",
    "# Create an datetime object to mark the ending of the training window (which would be \"i\"+training_window_length):  \n",
    "    ending_training_week = # YOUR CODE HERE \n",
    "# Create a string variable from that time object with format=\"%Y-%m-%d\"\n",
    "    end_training_period = # YOUR CODE HERE \n",
    "# Create a datetime object that marks the week of test-window data:\n",
    "    test_week = # YOUR CODE HERE \n",
    "# Create a string variable from the beginning of that time object with format=\"%Y-%m-%d\"\n",
    "    start_test_week = # YOUR CODE HERE \n",
    "# Create a string variable from the end of that time object with format=\"%Y-%m-%d\"    \n",
    "    end_test_week = # YOUR CODE HERE \n",
    "# Create a dataframe that includes only data during the training window\n",
    "# (Use datetime slicing and the two start and end string dates constructed above):\n",
    "    train =  # YOUR CODE HERE \n",
    "# Do the same to construct a dataframe including data in the test sample window:    \n",
    "    test =  # YOUR CODE HERE \n",
    "# Create four dataframes:\n",
    "# X_train (training set using just the independent variables), X_test (test set of of just the independent variables)\n",
    "# Y_train (training set using just the \"y\" variable, i.e., \"Futures Return\"), Y_test (test set of just the \"y\" variable):\n",
    "    X_train = train[\"Lagged Return\"].to_frame()\n",
    "    y_train = train[\"Futures Return\"]\n",
    "    X_test = test[\"Lagged Return\"].to_frame()\n",
    "    y_test = test[\"Futures Return\"]\n",
    "# Fit a linear regression to the two training dataframes\n",
    "    # YOUR CODE HERE \n",
    "# Use the model to construct predictions on the X test dataframe,\n",
    "# and save them as a temporary pandas DataFrame \n",
    "    predictions =  # YOUR CODE HERE \n",
    "    predictions = pd.DataFrame(predictions, index=X_test.index, columns=[\"Out-of-Sample Predictions\"])\n",
    "# Create a temporary DataFrame of the actual \"y\"s in the test dataframe, with column name=\"Actual Returns\": \n",
    "    actuals = pd.DataFrame(y_test, index=y_test.index)\n",
    "    actuals.columns = [\"Actual Returns\"]  \n",
    "# Append these two dataframes (predictions and actuals) to the two master DataFrames built outside the loop\n",
    "    all_predictions = all_predictions.append(predictions)\n",
    "    all_actuals = all_actuals.append(actuals)   \n",
    "    # Once the loop is done, concatenate (combine) the two dataframes to a final \"Results\" dataframe:    \n",
    "    Results =  # YOUR CODE HERE \n"
   ]
  },
  {
   "cell_type": "code",
   "execution_count": null,
   "metadata": {},
   "outputs": [],
   "source": [
    "# Plot the results:\n",
    "# YOUR CODE HERE "
   ]
  },
  {
   "cell_type": "markdown",
   "metadata": {},
   "source": [
    "  * Evaluate the model RMSE.\n",
    "      * Which has the better RMSE--this more robust method, or the single (\"one-shot\") training and test split just above?"
   ]
  },
  {
   "cell_type": "code",
   "execution_count": null,
   "metadata": {},
   "outputs": [],
   "source": [
    "# Calculate the mean_squared_error on the Results DataFrame:\n",
    "# (This compares the average (squared) difference between actual and model-predicted returns)\n",
    "rolling_mse = # YOUR CODE HERE \n",
    "# Then use that to calculate the Root-Mean-Squared Error (RMSE):\n",
    "rolling_rmse = # YOUR CODE HERE \n",
    "rolling_rmse"
   ]
  },
  {
   "cell_type": "code",
   "execution_count": null,
   "metadata": {},
   "outputs": [],
   "source": [
    "# Compare the RMSE from the training-testing single split versus the rolling out-of-sample approach we just did:\n",
    "# YOUR CODE HERE "
   ]
  },
  {
   "cell_type": "markdown",
   "metadata": {},
   "source": [
    "Challenge: Can you calculate the out-of-sample R2? Based on this, should we bet money on this model?"
   ]
  },
  {
   "cell_type": "code",
   "execution_count": null,
   "metadata": {},
   "outputs": [],
   "source": [
    "# YOUR CODE HERE "
   ]
  }
 ],
 "metadata": {
  "file_extension": ".py",
  "kernelspec": {
   "display_name": "Python 3",
   "language": "python",
   "name": "python3"
  },
  "language_info": {
   "codemirror_mode": {
    "name": "ipython",
    "version": 3
   },
   "file_extension": ".py",
   "mimetype": "text/x-python",
   "name": "python",
   "nbconvert_exporter": "python",
   "pygments_lexer": "ipython3",
   "version": "3.7.3"
  },
  "mimetype": "text/x-python",
  "name": "python",
  "npconvert_exporter": "python",
  "pygments_lexer": "ipython3",
  "version": 3
 },
 "nbformat": 4,
 "nbformat_minor": 4
}
